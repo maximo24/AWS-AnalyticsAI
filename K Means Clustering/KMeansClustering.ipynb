{
 "cells": [
  {
   "cell_type": "markdown",
   "id": "0a300b3d-678e-4f5a-b34f-e71f9a93b4a6",
   "metadata": {},
   "source": [
    "## Business Case\n",
    "Kingston Asian Super is an Asian supermarket located at 274 Princess Street in Kingston. By engaging in the retailing industry, its primary target market is the Asian student and residents living in Kingston. The Asian students and residents may miss a lot of the typical Asian food when living in Canada, for instance, the river snails, rice noodles and snacks such as milk tea, Want Want chocolate and candy, etc. As a result, this supermarket offers them a choice to solve their homesickness. Meanwhile, the second target market is the people who would like to cook Asian food since they may not be able to find the ingredients in the regular supermarket, such as the Chinese spice; as a result, they need to get them from the Asian supermarket. In short, the comparative advantage of this supermarket lies in offering more variety of Asian products compared to regular supermarkets like Metro, No Frills and Food Basics. \n",
    "\n",
    "Kingston Asian Super mainly offers East Asian food, such as Chinese and Korean. Moreover, Kingston Adian super has an online website that offers online shopping and food delivery or in-store pick up services. However, this service has been closed recently because of service and website updation, which is noticed on the official website and promised to come back soon. \n",
    "\n",
    "The supermarket's business model is business to customers (B2C), which directly sells to the customers after collecting the products from suppliers. Its profit lies on the profit margin between the cost of products and the listed selling price to the buyers.\n",
    "\n",
    "This supermarket is a small sized business for the following reasons:\n",
    "The number of employees: When entering the Kingston Asina Super, I found only two cashier employees and one shelf-sorting employee working. Considering that employees need to change shifts and take breaks, assuming this supermarket has 6 - 9 regular employees. Regarding the drivers and managers for stocking, the number of employees would be around 13-15.\n",
    "The business scale: Kingston Asian Super operates only one supermarket in Kingston, which means it is not a supermarket chain. It is located downtown and is not a large-size supermarket like Costco.\n",
    "\n",
    "## Product or Service Description\n",
    "For Kingston Asian Super, the opportunity for Kingston Asian Super lies in its unique product offering, online shopping and food delivery service, and potential for product expansion. Kingston Asian Super's distinctive range of Asian food products, not commonly found in local grocery stores, gives the supermarket a competitive edge by offering a unique product selection. This advantage attracts not only the Asian student and resident population but also individuals keen on preparing Asian cuisine. Also, with the increasing trend of online shopping and food delivery, the online order and delivery or pick up service can attract more customers who prefer to shop from the comfort of their homes and saving time. \n",
    "\n",
    "Meanwhile, the problem for Kingston Asian Super is the limitation of customer needs prediction. The problem with customer segmentation and prediction for Kingston Asian Super is that the Asian student and resident population in Kingston is not a homogeneous group. They may have different preferences and needs for Asian food products, making it challenging for the supermarket to predict customer demand accurately. Furthermore, the supermarket may need access to customer preferences and purchasing behavior data, which can help with customer segmentation and prediction. With this information, it is easier for the supermarket to tailor its product offerings and marketing strategies to meet the specific needs of its customers. Therefore, the K-Means classification algorithms with the AWS service platform are an excellent choice for Kingston Asian Super to build its own predicting system according to customers' order information to make more accurate predictions then generating more profit. \n",
    "\n",
    "## Business Value\n",
    "The investment in a customer segmentation and prediction system using K-Means classification algorithms with the AWS service platform can have significant long-term value for Kingston Asian Super. By accurately predicting customer needs and preferences, the supermarket can tailor its product offerings and marketing strategies to increase customer satisfaction, loyalty, and sales which can also increase the supermarket's profitability and competitiveness.\n",
    "\n",
    "The following KPIs can help Kingston Asian Super to evaluate:\n",
    "Qualitative KPIs: \n",
    "1. Customer retention rate. Higher customer retention rate means higher customer loyalty. The increase of customer loyalty may be brought by more accurate predictions on customer needs.\n",
    "2. Customer satisfaction rate. Conducting surveys or using feedback forms can effectively measure customer satisfaction and provide insights into the effectiveness of the prediction system.\n",
    "Quantitative KPIs:\n",
    "\t1. Increase in sales. Measuring whether the sales increase allied with the prediction results.\n",
    "2. Higher turnover rate. The increase in inventory turnover means the accurate prediction on customers’ demands which also means the reduction of overstocks.\n",
    "\n",
    "If the supermarket starts collecting and analyzing customer preferences and purchasing behavior data and implementing the K-Means classification algorithms within six months, it could see customer satisfaction and sales improvements within a year. Furthermore, for collecting further data and attracting more customers to fill out the survey, which we need to use to evaluate outcomes, Kingston Asian Super should send direct promotion emails and also build a membership system to mark each customer and collect data easily. It's important to ask the permission from customers to collect their data and survey which is protecting customers’ privacy.\n",
    "\n",
    "## Budget\n",
    "Variable Cost\n",
    "In terms of the standard instance of ml.t3 medium costing 0.05 CAD for an hour and it is estimated that Kingston Asian Super would need to use 15 hours to undergo the process. As a result, the total cost is 0.6 CAD for a month's usage and 9 CAD for a year. In terms of training of ml.m5. large costing 0.115 CAD for an hour and data is required to train twice a month and for 18.75 hours (0.3125 hours) each time. In sum, the total cost of training is 0.03125 CAD per month and 0.375 CAD per year. In terms of inferences of ml.t2.medium costing 0.056 CAD for an hour and it is estimated Kingston Asian Super would need to use 15 hours to undergo the process. In total, the cost for inferences cost 0.84 CAD for a month and 10.08 CAD for a year. In short, the variable cost required is 1.47 CAD a month and 19.455 CAD a year. \n",
    "\n",
    "Fixed Cost \n",
    "The fixed cost expenditure includes rent, utilities, employees, insurance (workers’ compensation, general liability and property casualty) and miscellaneous. It is estimated that the cost a year is to be 474,4800 CAD(estimated 1500 square feet), 8,400 CAD, 9000,000 CAD and 10,000 CAD for rent, utilities, employees, insurance and miscellaneous respectively. And in short, the total fixed cost is 19482.88 CAD. \n",
    " \n",
    "Sensitive Analysis\n",
    "If the Kingston Asian Super tend to use a larger standard instance and which is ml.t2.large while training frequency and usage remain unchanged,  the cost ml.t2.large for a month is 26.64CAD and for a year is 319.68CAD. \n",
    "\n",
    "## Investment Analysis\n",
    "In terms of return on investment (ROI), the calculation method is as follows ROI = Net income / Cost of investment x 100. Yet, the comparing to the fixed cost, the investment in machine learning is very small which is not suitable to use as an indicator. In terms of the net present value, the calculation method is as follows Internal Rate of Return (IRR) = (Future Value ÷ Present Value)^(1 ÷ Number of Periods) –. However, IRR only uses one discount rate which would be subject to time changes, as a result, it may not be a suitable indicator as well. Lastly, in terms of NPV, the formula is as follows NPV = Cash flow / (1 + i)^t – initial investment. The advantage of using NPV is it able to consider the capital investment and risk inherent in the decision-making process, meanwhile, it also take into the account interest rate, operation risk and financial risk. As a result, NPV is the most suitable tool in accessing the investment. \n",
    "\n",
    "\n",
    "\n",
    "reference list：\n",
    "http://www.kingstonasiansuper.com/\n",
    "https://www.kaggle.com/datasets/hunter0007/ecommerce-dataset-for-predictive-marketing-2023\n"
   ]
  },
  {
   "cell_type": "markdown",
   "id": "20f20373-c13e-481b-b7c3-9b0ed3f14579",
   "metadata": {},
   "source": [
    "# Identify Clusters using the K-Means Algorithm"
   ]
  },
  {
   "cell_type": "markdown",
   "id": "7a3f7beb-648c-43b5-98d9-529f3047ee5f",
   "metadata": {},
   "source": [
    "## K-Means Algorithm\n",
    "\n",
    "https://docs.aws.amazon.com/sagemaker/latest/dg/k-means.html"
   ]
  },
  {
   "cell_type": "markdown",
   "id": "f90bc748-505b-4709-91d6-cc352cf1d985",
   "metadata": {},
   "source": [
    "# Prepare the Environment"
   ]
  },
  {
   "cell_type": "markdown",
   "id": "b3b60884-741d-4155-88d6-2ae5ae739f68",
   "metadata": {},
   "source": [
    "## Upgrade the version of boto3 and sagemaker and Install necessary software"
   ]
  },
  {
   "cell_type": "code",
   "execution_count": 1,
   "id": "f858c872-89ff-4e18-b032-0cee2813b650",
   "metadata": {
    "tags": []
   },
   "outputs": [
    {
     "name": "stdout",
     "output_type": "stream",
     "text": [
      "Note: you may need to restart the kernel to use updated packages.\n",
      "Note: you may need to restart the kernel to use updated packages.\n"
     ]
    }
   ],
   "source": [
    "%pip install -qU --upgrade boto3\n",
    "%pip install -qU --upgrade sagemaker"
   ]
  },
  {
   "cell_type": "code",
   "execution_count": 2,
   "id": "aab39117-62a0-4b7a-b112-a38e2f78069e",
   "metadata": {
    "tags": []
   },
   "outputs": [
    {
     "name": "stdout",
     "output_type": "stream",
     "text": [
      "Looking in indexes: https://pypi.org/simple, https://pip.repos.neuron.amazonaws.com\n",
      "Requirement already satisfied: mxnet in /home/ec2-user/anaconda3/envs/python3/lib/python3.10/site-packages (1.9.1)\n",
      "Requirement already satisfied: graphviz<0.9.0,>=0.8.1 in /home/ec2-user/anaconda3/envs/python3/lib/python3.10/site-packages (from mxnet) (0.8.4)\n",
      "Requirement already satisfied: numpy<2.0.0,>1.16.0 in /home/ec2-user/anaconda3/envs/python3/lib/python3.10/site-packages (from mxnet) (1.22.3)\n",
      "Requirement already satisfied: requests<3,>=2.20.0 in /home/ec2-user/anaconda3/envs/python3/lib/python3.10/site-packages (from mxnet) (2.28.1)\n",
      "Requirement already satisfied: charset-normalizer<3,>=2 in /home/ec2-user/anaconda3/envs/python3/lib/python3.10/site-packages (from requests<3,>=2.20.0->mxnet) (2.1.1)\n",
      "Requirement already satisfied: certifi>=2017.4.17 in /home/ec2-user/anaconda3/envs/python3/lib/python3.10/site-packages (from requests<3,>=2.20.0->mxnet) (2022.12.7)\n",
      "Requirement already satisfied: idna<4,>=2.5 in /home/ec2-user/anaconda3/envs/python3/lib/python3.10/site-packages (from requests<3,>=2.20.0->mxnet) (3.4)\n",
      "Requirement already satisfied: urllib3<1.27,>=1.21.1 in /home/ec2-user/anaconda3/envs/python3/lib/python3.10/site-packages (from requests<3,>=2.20.0->mxnet) (1.26.8)\n",
      "Note: you may need to restart the kernel to use updated packages.\n"
     ]
    }
   ],
   "source": [
    "# Install mxnet\n",
    "\n",
    "%pip install mxnet"
   ]
  },
  {
   "cell_type": "markdown",
   "id": "684418ad-e77b-4954-833c-2edef7f2a66b",
   "metadata": {},
   "source": [
    "## Import the usual suspect of packages"
   ]
  },
  {
   "cell_type": "code",
   "execution_count": 3,
   "id": "dacff02d-f2f4-42e7-8131-f5e35d1ae079",
   "metadata": {
    "tags": []
   },
   "outputs": [],
   "source": [
    "import pandas as pd\n",
    "\n",
    "from sklearn.preprocessing import MinMaxScaler\n",
    "from sklearn.model_selection import train_test_split\n",
    "from sklearn.preprocessing import StandardScaler\n",
    "from sklearn.preprocessing import LabelEncoder\n",
    "import matplotlib.pyplot as plt\n",
    "\n",
    "import boto3\n",
    "\n",
    "import sagemaker\n",
    "from sagemaker import KMeans\n",
    "from sagemaker import get_execution_role\n",
    "from sagemaker import image_uris\n",
    "from sagemaker import TrainingInput\n",
    "from sagemaker.amazon.amazon_estimator import get_image_uri\n",
    "from sagemaker.tuner import IntegerParameter, CategoricalParameter, ContinuousParameter, HyperparameterTuner\n",
    "\n",
    "import seaborn as sns\n",
    "\n",
    "import time\n",
    "from time import gmtime, strftime\n",
    "\n",
    "import boto3\n",
    "\n",
    "import json\n",
    "\n",
    "import os\n",
    "\n",
    "import mxnet as mx\n",
    "\n",
    "import numpy as np\n",
    "\n",
    "import io\n",
    "from io import StringIO\n",
    "\n",
    "from scipy.spatial.distance import cdist\n",
    "\n",
    "import warnings\n",
    "warnings.filterwarnings(\"ignore\")"
   ]
  },
  {
   "cell_type": "markdown",
   "id": "a7bb5feb-9bc7-4c2a-a961-8534ae039987",
   "metadata": {},
   "source": [
    "## Setup your your Environment Variables"
   ]
  },
  {
   "cell_type": "code",
   "execution_count": 5,
   "id": "ec92f4fa-2365-48b2-8946-1a7deafabd61",
   "metadata": {
    "tags": []
   },
   "outputs": [
    {
     "name": "stdout",
     "output_type": "stream",
     "text": [
      "The role is  arn:aws:iam::143712302767:role/LabRole\n",
      "The session is  <sagemaker.session.Session object at 0x7f09741bcdf0>\n",
      "The region is  us-east-1\n",
      "The bucket is  sagemaker-us-east-1-143712302767\n"
     ]
    }
   ],
   "source": [
    "role = get_execution_role()\n",
    "sess = sagemaker.Session() \n",
    "region = sess.boto_session.region_name\n",
    "bucket = sess.default_bucket()\n",
    "runtime = boto3.client('sagemaker')\n",
    "sagemaker_client = boto3.Session().client(\"sagemaker\")\n",
    "print(\"The role is \", role)\n",
    "print(\"The session is \", sess)\n",
    "print(\"The region is \", region)\n",
    "print(\"The bucket is \", bucket)"
   ]
  },
  {
   "cell_type": "markdown",
   "id": "ed09a9ee-b4de-41f0-a7d5-aec4365f073a",
   "metadata": {},
   "source": [
    "## Explore the Data"
   ]
  },
  {
   "cell_type": "markdown",
   "id": "10c7a8f3-41a3-43c7-9f79-fddde14b6e2e",
   "metadata": {},
   "source": [
    "## The dataset consists of over 2 million purchase records at a renowned Hunter's supermarket"
   ]
  },
  {
   "cell_type": "markdown",
   "id": "26f1fbae-6922-4dce-9827-f68b3908afa0",
   "metadata": {},
   "source": [
    "The dataset consists of 2019501 Rows & 12 Columns which are as follows :\n",
    "order_id – (A unique number to identity the order)\n",
    "\n",
    "user_id - (A unique number to identify the user)\n",
    "\n",
    "order_number – (Number of the order)\n",
    "\n",
    "order_dow – (Day of the Week the order was made)\n",
    "\n",
    "order_hour_of_day – (Time of the order)\n",
    "\n",
    "days_since_prior_order - (History of the order)\n",
    "\n",
    "product_id – (Id of the product)\n",
    "\n",
    "add_to_cart_order – (Number of items added to cart)\n",
    "\n",
    "reordered – (If the reorder took place)\n",
    "\n",
    "department_id - (Unique number allocated to each department)\n",
    "\n",
    "department – (Names of the departments)\n",
    "\n",
    "product_name – (Name of the products)"
   ]
  },
  {
   "cell_type": "markdown",
   "id": "ae256c5a-1f29-4a48-93a8-042909365299",
   "metadata": {},
   "source": [
    "## Data Description\n",
    "The data we have chosen to use to demonstrate this concept was sourced from Kaggle, and is intended to be used for demonstrating such concepts. With that being said, it is not dissimilar from the type of data that is likely already being collected by our customer. \n",
    "A standard barcode scanner can absorb the majority of the data needed to train this particular model on any stores particular inventory. The likelihood is, said data already exists and is already being used to perform more rudimentary analysis, in which case the customer can immediately plug said data in and begin using the model. In the event that the customer has not been collecting the necessary data, the fortunate thing is they will have to change very little about their operating practices in order to do so. Simply store all the data collected by a barcode scanner and upload it, assuming ten sales a day and a five-business day week the customer should have 1200 points of data to draw from (and that is assuming one sale only contains a single item). In reality, even the worst-case scenario should see the customer being able to implement this model very quickly upon acquisition.\n",
    "\n",
    "## Data Exploration\n",
    "The dataset we are using contains the following 12 features and over 200,000 entries. \n",
    "•\torder_id – (A unique number to identity the order)\n",
    "•\tuser_id - (A unique number to identify the user)\n",
    "•\torder_number – (Number of the order)\n",
    "•\torder_dow – (Day of the Week the order was made)\n",
    "•\torder_hour_of_day – (Time of the order)\n",
    "•\tdays_since_prior_order - (History of the order)\n",
    "•\tproduct_id – (Id of the product)\n",
    "•\tadd_to_cart_order – (Number of items added to cart)\n",
    "•\treordered – (If the reorder took place)\n",
    "•\tdepartment_id - (Unique number allocated to each department)\n",
    "•\tdepartment – (Names of the departments)\n",
    "•\tproduct_name – (Name of the products)\n",
    "\n",
    "As you can see from the 3d scatter plot included in the demonstration, relationships and patterns can be teased out of variables that seem unrelated at a glance (such as the hour of the day the order was placed and the reorder time). We aim to apply unsupervised learning in a way that takes into account all of these unseen patterns and offers insights into your consumer behaviour that are invisible to the naked eye, granting you greater flexibility and strategic value than the competitor.\n",
    "\n",
    "## Data Insights\n",
    "The main challenge when implementing this model will be navigating the large data size. Our current model is running on 200,000 rows of data , which is not realistic to expect our customers to have access to. Fortunately, by reducing the amounts of clusters targeted, a user can apply the same model to much smaller data sets. \n",
    "The visualization we chose shows the pattern between time of order and whether a product is being reordered. We think this is a valuable scatter plot to show the consumer because it demonstrates a relationship between two seemingly unconnected features. We feel this demonstrates what is possible with unsupervised learning that would not otherwise be possible by simply looking at the data.\n",
    "\n",
    "## Data Transformation\n",
    "To prepare the data to be used in the model, we underwent a few steps. As you can see from our initial printing of the datafile, it contained string values, non-numbers, irrelevant categories, and flawed entries. These are either not compatible with our model, or will add nothing and take up time (thus increasing cost without adding value).\n",
    "Columns that were entirely string/NaN: These columns were identified by visual inspection simply dropped using the .drop() method.\n",
    "Irrelevant categories: These are categories such as “customer name” or “order ID”. Data that is tracked by the systems used to collect the dataset, but not relevant when it comes to grouping the purchasing behaviour of a larger set of customers. These features were identified by understanding what our model was attempting to predict, and eliminating features that did not help it with that with the .drop() method.\n",
    "Flawed entries: Rather than features being unneeded, these entries had either missing or irregular (such as string) entries in one of their columns. Entries like this damage the models performance and need to be removed, but simply dropping the column of their false entry is not an option, as that column has value for the other 199,999 entries. To combat this, we identified the problem entries with the .isnull().sum() methods and iterated through them using a for loop, removing them from the dataset individually.\n"
   ]
  },
  {
   "cell_type": "code",
   "execution_count": 6,
   "id": "f2478b81-6630-4cf0-9d1b-264cf5172e8b",
   "metadata": {
    "tags": []
   },
   "outputs": [
    {
     "data": {
      "text/html": [
       "<div>\n",
       "<style scoped>\n",
       "    .dataframe tbody tr th:only-of-type {\n",
       "        vertical-align: middle;\n",
       "    }\n",
       "\n",
       "    .dataframe tbody tr th {\n",
       "        vertical-align: top;\n",
       "    }\n",
       "\n",
       "    .dataframe thead th {\n",
       "        text-align: right;\n",
       "    }\n",
       "</style>\n",
       "<table border=\"1\" class=\"dataframe\">\n",
       "  <thead>\n",
       "    <tr style=\"text-align: right;\">\n",
       "      <th></th>\n",
       "      <th>order_id</th>\n",
       "      <th>user_id</th>\n",
       "      <th>order_number</th>\n",
       "      <th>order_dow</th>\n",
       "      <th>order_hour_of_day</th>\n",
       "      <th>days_since_prior_order</th>\n",
       "      <th>product_id</th>\n",
       "      <th>add_to_cart_order</th>\n",
       "      <th>reordered</th>\n",
       "      <th>department_id</th>\n",
       "      <th>department</th>\n",
       "      <th>product_name</th>\n",
       "    </tr>\n",
       "  </thead>\n",
       "  <tbody>\n",
       "    <tr>\n",
       "      <th>0</th>\n",
       "      <td>2425083</td>\n",
       "      <td>49125</td>\n",
       "      <td>1</td>\n",
       "      <td>2.0</td>\n",
       "      <td>18.0</td>\n",
       "      <td>NaN</td>\n",
       "      <td>17.0</td>\n",
       "      <td>1.0</td>\n",
       "      <td>0.0</td>\n",
       "      <td>13.0</td>\n",
       "      <td>pantry</td>\n",
       "      <td>baking ingredients</td>\n",
       "    </tr>\n",
       "    <tr>\n",
       "      <th>1</th>\n",
       "      <td>2425083</td>\n",
       "      <td>49125</td>\n",
       "      <td>1</td>\n",
       "      <td>2.0</td>\n",
       "      <td>18.0</td>\n",
       "      <td>NaN</td>\n",
       "      <td>91.0</td>\n",
       "      <td>2.0</td>\n",
       "      <td>0.0</td>\n",
       "      <td>16.0</td>\n",
       "      <td>dairy eggs</td>\n",
       "      <td>soy lactosefree</td>\n",
       "    </tr>\n",
       "    <tr>\n",
       "      <th>2</th>\n",
       "      <td>2425083</td>\n",
       "      <td>49125</td>\n",
       "      <td>1</td>\n",
       "      <td>2.0</td>\n",
       "      <td>18.0</td>\n",
       "      <td>NaN</td>\n",
       "      <td>36.0</td>\n",
       "      <td>3.0</td>\n",
       "      <td>0.0</td>\n",
       "      <td>16.0</td>\n",
       "      <td>dairy eggs</td>\n",
       "      <td>butter</td>\n",
       "    </tr>\n",
       "    <tr>\n",
       "      <th>3</th>\n",
       "      <td>2425083</td>\n",
       "      <td>49125</td>\n",
       "      <td>1</td>\n",
       "      <td>2.0</td>\n",
       "      <td>18.0</td>\n",
       "      <td>NaN</td>\n",
       "      <td>83.0</td>\n",
       "      <td>4.0</td>\n",
       "      <td>0.0</td>\n",
       "      <td>4.0</td>\n",
       "      <td>produce</td>\n",
       "      <td>fresh vegetables</td>\n",
       "    </tr>\n",
       "    <tr>\n",
       "      <th>4</th>\n",
       "      <td>2425083</td>\n",
       "      <td>49125</td>\n",
       "      <td>1</td>\n",
       "      <td>2.0</td>\n",
       "      <td>18.0</td>\n",
       "      <td>NaN</td>\n",
       "      <td>83.0</td>\n",
       "      <td>5.0</td>\n",
       "      <td>0.0</td>\n",
       "      <td>4.0</td>\n",
       "      <td>produce</td>\n",
       "      <td>fresh vegetables</td>\n",
       "    </tr>\n",
       "  </tbody>\n",
       "</table>\n",
       "</div>"
      ],
      "text/plain": [
       "   order_id  user_id  order_number  order_dow  order_hour_of_day  \\\n",
       "0   2425083    49125             1        2.0               18.0   \n",
       "1   2425083    49125             1        2.0               18.0   \n",
       "2   2425083    49125             1        2.0               18.0   \n",
       "3   2425083    49125             1        2.0               18.0   \n",
       "4   2425083    49125             1        2.0               18.0   \n",
       "\n",
       "   days_since_prior_order  product_id  add_to_cart_order  reordered  \\\n",
       "0                     NaN        17.0                1.0        0.0   \n",
       "1                     NaN        91.0                2.0        0.0   \n",
       "2                     NaN        36.0                3.0        0.0   \n",
       "3                     NaN        83.0                4.0        0.0   \n",
       "4                     NaN        83.0                5.0        0.0   \n",
       "\n",
       "   department_id  department        product_name  \n",
       "0           13.0      pantry  baking ingredients  \n",
       "1           16.0  dairy eggs     soy lactosefree  \n",
       "2           16.0  dairy eggs              butter  \n",
       "3            4.0     produce    fresh vegetables  \n",
       "4            4.0     produce    fresh vegetables  "
      ]
     },
     "execution_count": 6,
     "metadata": {},
     "output_type": "execute_result"
    }
   ],
   "source": [
    "# Read in the Data\n",
    "\n",
    "ec_data = pd.read_csv('ECommerce_consumer_behaviour.csv')\n",
    "ec_data.head()"
   ]
  },
  {
   "cell_type": "code",
   "execution_count": 7,
   "id": "ac1907a0-0ae5-497e-9000-5656a95875d5",
   "metadata": {
    "tags": []
   },
   "outputs": [
    {
     "name": "stdout",
     "output_type": "stream",
     "text": [
      "<class 'pandas.core.frame.DataFrame'>\n",
      "RangeIndex: 209096 entries, 0 to 209095\n",
      "Data columns (total 12 columns):\n",
      " #   Column                  Non-Null Count   Dtype  \n",
      "---  ------                  --------------   -----  \n",
      " 0   order_id                209096 non-null  int64  \n",
      " 1   user_id                 209096 non-null  int64  \n",
      " 2   order_number            209096 non-null  int64  \n",
      " 3   order_dow               209095 non-null  float64\n",
      " 4   order_hour_of_day       209095 non-null  float64\n",
      " 5   days_since_prior_order  195342 non-null  float64\n",
      " 6   product_id              209095 non-null  float64\n",
      " 7   add_to_cart_order       209095 non-null  float64\n",
      " 8   reordered               209095 non-null  float64\n",
      " 9   department_id           209095 non-null  float64\n",
      " 10  department              209095 non-null  object \n",
      " 11  product_name            209095 non-null  object \n",
      "dtypes: float64(7), int64(3), object(2)\n",
      "memory usage: 19.1+ MB\n"
     ]
    }
   ],
   "source": [
    "#  Get information on the data\n",
    "\n",
    "ec_data.info()"
   ]
  },
  {
   "cell_type": "code",
   "execution_count": 8,
   "id": "cd90f3a5-49cd-4c7b-97ec-b74f624a5708",
   "metadata": {
    "tags": []
   },
   "outputs": [
    {
     "data": {
      "text/plain": [
       "(209096, 12)"
      ]
     },
     "execution_count": 8,
     "metadata": {},
     "output_type": "execute_result"
    }
   ],
   "source": [
    "#  Get information on the data\n",
    "\n",
    "ec_data.shape"
   ]
  },
  {
   "cell_type": "code",
   "execution_count": 9,
   "id": "395f9be6-75c8-4561-8a9c-e101df6266ca",
   "metadata": {
    "tags": []
   },
   "outputs": [
    {
     "data": {
      "text/plain": [
       "order_id                      0\n",
       "user_id                       0\n",
       "order_number                  0\n",
       "order_dow                     1\n",
       "order_hour_of_day             1\n",
       "days_since_prior_order    13754\n",
       "product_id                    1\n",
       "add_to_cart_order             1\n",
       "reordered                     1\n",
       "department_id                 1\n",
       "department                    1\n",
       "product_name                  1\n",
       "dtype: int64"
      ]
     },
     "execution_count": 9,
     "metadata": {},
     "output_type": "execute_result"
    }
   ],
   "source": [
    "# Conducting summary statistics\n",
    "\n",
    "ec_data.isnull().sum()"
   ]
  },
  {
   "cell_type": "code",
   "execution_count": 10,
   "id": "e8ae9fe4-a43d-482b-bf02-8362dfaf015e",
   "metadata": {
    "tags": []
   },
   "outputs": [
    {
     "data": {
      "text/html": [
       "<div>\n",
       "<style scoped>\n",
       "    .dataframe tbody tr th:only-of-type {\n",
       "        vertical-align: middle;\n",
       "    }\n",
       "\n",
       "    .dataframe tbody tr th {\n",
       "        vertical-align: top;\n",
       "    }\n",
       "\n",
       "    .dataframe thead th {\n",
       "        text-align: right;\n",
       "    }\n",
       "</style>\n",
       "<table border=\"1\" class=\"dataframe\">\n",
       "  <thead>\n",
       "    <tr style=\"text-align: right;\">\n",
       "      <th></th>\n",
       "      <th>order_id</th>\n",
       "      <th>user_id</th>\n",
       "      <th>order_number</th>\n",
       "      <th>order_dow</th>\n",
       "      <th>order_hour_of_day</th>\n",
       "      <th>days_since_prior_order</th>\n",
       "      <th>product_id</th>\n",
       "      <th>add_to_cart_order</th>\n",
       "      <th>reordered</th>\n",
       "      <th>department_id</th>\n",
       "      <th>department</th>\n",
       "      <th>product_name</th>\n",
       "    </tr>\n",
       "  </thead>\n",
       "  <tbody>\n",
       "    <tr>\n",
       "      <th>209095</th>\n",
       "      <td>3182285</td>\n",
       "      <td>191443</td>\n",
       "      <td>65</td>\n",
       "      <td>NaN</td>\n",
       "      <td>NaN</td>\n",
       "      <td>NaN</td>\n",
       "      <td>NaN</td>\n",
       "      <td>NaN</td>\n",
       "      <td>NaN</td>\n",
       "      <td>NaN</td>\n",
       "      <td>NaN</td>\n",
       "      <td>NaN</td>\n",
       "    </tr>\n",
       "  </tbody>\n",
       "</table>\n",
       "</div>"
      ],
      "text/plain": [
       "        order_id  user_id  order_number  order_dow  order_hour_of_day  \\\n",
       "209095   3182285   191443            65        NaN                NaN   \n",
       "\n",
       "        days_since_prior_order  product_id  add_to_cart_order  reordered  \\\n",
       "209095                     NaN         NaN                NaN        NaN   \n",
       "\n",
       "        department_id department product_name  \n",
       "209095            NaN        NaN          NaN  "
      ]
     },
     "execution_count": 10,
     "metadata": {},
     "output_type": "execute_result"
    }
   ],
   "source": [
    "# Check the last row of the data set\n",
    "\n",
    "ec_data.tail(1)"
   ]
  },
  {
   "cell_type": "markdown",
   "id": "5ec1aacb-0eee-4c1c-8ce5-99c208cb1bb6",
   "metadata": {},
   "source": [
    "It is noticable that the data set contains numbers of null value and the last row of the data set is incomplete. Therefore, we should drop the last row of the dataset. Also, we have huge numbers of Null value in 'days_since_prior_order', we should padding it."
   ]
  },
  {
   "cell_type": "code",
   "execution_count": 11,
   "id": "37eaaf4e-e5d4-436a-9d1e-5083e6739232",
   "metadata": {
    "tags": []
   },
   "outputs": [
    {
     "data": {
      "text/html": [
       "<div>\n",
       "<style scoped>\n",
       "    .dataframe tbody tr th:only-of-type {\n",
       "        vertical-align: middle;\n",
       "    }\n",
       "\n",
       "    .dataframe tbody tr th {\n",
       "        vertical-align: top;\n",
       "    }\n",
       "\n",
       "    .dataframe thead th {\n",
       "        text-align: right;\n",
       "    }\n",
       "</style>\n",
       "<table border=\"1\" class=\"dataframe\">\n",
       "  <thead>\n",
       "    <tr style=\"text-align: right;\">\n",
       "      <th></th>\n",
       "      <th>order_id</th>\n",
       "      <th>user_id</th>\n",
       "      <th>order_number</th>\n",
       "      <th>order_dow</th>\n",
       "      <th>order_hour_of_day</th>\n",
       "      <th>days_since_prior_order</th>\n",
       "      <th>product_id</th>\n",
       "      <th>add_to_cart_order</th>\n",
       "      <th>reordered</th>\n",
       "      <th>department_id</th>\n",
       "      <th>department</th>\n",
       "      <th>product_name</th>\n",
       "    </tr>\n",
       "  </thead>\n",
       "  <tbody>\n",
       "    <tr>\n",
       "      <th>209090</th>\n",
       "      <td>3340122</td>\n",
       "      <td>148658</td>\n",
       "      <td>36</td>\n",
       "      <td>3.0</td>\n",
       "      <td>20.0</td>\n",
       "      <td>0.0</td>\n",
       "      <td>115.0</td>\n",
       "      <td>1.0</td>\n",
       "      <td>1.0</td>\n",
       "      <td>7.0</td>\n",
       "      <td>beverages</td>\n",
       "      <td>water seltzer sparkling water</td>\n",
       "    </tr>\n",
       "    <tr>\n",
       "      <th>209091</th>\n",
       "      <td>3182285</td>\n",
       "      <td>191443</td>\n",
       "      <td>65</td>\n",
       "      <td>1.0</td>\n",
       "      <td>23.0</td>\n",
       "      <td>3.0</td>\n",
       "      <td>67.0</td>\n",
       "      <td>1.0</td>\n",
       "      <td>1.0</td>\n",
       "      <td>20.0</td>\n",
       "      <td>deli</td>\n",
       "      <td>fresh dips tapenades</td>\n",
       "    </tr>\n",
       "    <tr>\n",
       "      <th>209092</th>\n",
       "      <td>3182285</td>\n",
       "      <td>191443</td>\n",
       "      <td>65</td>\n",
       "      <td>1.0</td>\n",
       "      <td>23.0</td>\n",
       "      <td>3.0</td>\n",
       "      <td>24.0</td>\n",
       "      <td>2.0</td>\n",
       "      <td>1.0</td>\n",
       "      <td>4.0</td>\n",
       "      <td>produce</td>\n",
       "      <td>fresh fruits</td>\n",
       "    </tr>\n",
       "    <tr>\n",
       "      <th>209093</th>\n",
       "      <td>3182285</td>\n",
       "      <td>191443</td>\n",
       "      <td>65</td>\n",
       "      <td>1.0</td>\n",
       "      <td>23.0</td>\n",
       "      <td>3.0</td>\n",
       "      <td>83.0</td>\n",
       "      <td>3.0</td>\n",
       "      <td>1.0</td>\n",
       "      <td>4.0</td>\n",
       "      <td>produce</td>\n",
       "      <td>fresh vegetables</td>\n",
       "    </tr>\n",
       "    <tr>\n",
       "      <th>209094</th>\n",
       "      <td>3182285</td>\n",
       "      <td>191443</td>\n",
       "      <td>65</td>\n",
       "      <td>1.0</td>\n",
       "      <td>23.0</td>\n",
       "      <td>3.0</td>\n",
       "      <td>86.0</td>\n",
       "      <td>4.0</td>\n",
       "      <td>1.0</td>\n",
       "      <td>16.0</td>\n",
       "      <td>dairy eggs</td>\n",
       "      <td>eggs</td>\n",
       "    </tr>\n",
       "  </tbody>\n",
       "</table>\n",
       "</div>"
      ],
      "text/plain": [
       "        order_id  user_id  order_number  order_dow  order_hour_of_day  \\\n",
       "209090   3340122   148658            36        3.0               20.0   \n",
       "209091   3182285   191443            65        1.0               23.0   \n",
       "209092   3182285   191443            65        1.0               23.0   \n",
       "209093   3182285   191443            65        1.0               23.0   \n",
       "209094   3182285   191443            65        1.0               23.0   \n",
       "\n",
       "        days_since_prior_order  product_id  add_to_cart_order  reordered  \\\n",
       "209090                     0.0       115.0                1.0        1.0   \n",
       "209091                     3.0        67.0                1.0        1.0   \n",
       "209092                     3.0        24.0                2.0        1.0   \n",
       "209093                     3.0        83.0                3.0        1.0   \n",
       "209094                     3.0        86.0                4.0        1.0   \n",
       "\n",
       "        department_id  department                   product_name  \n",
       "209090            7.0   beverages  water seltzer sparkling water  \n",
       "209091           20.0        deli           fresh dips tapenades  \n",
       "209092            4.0     produce                   fresh fruits  \n",
       "209093            4.0     produce               fresh vegetables  \n",
       "209094           16.0  dairy eggs                           eggs  "
      ]
     },
     "execution_count": 11,
     "metadata": {},
     "output_type": "execute_result"
    }
   ],
   "source": [
    "# drop the last row of the dataset\n",
    "ec_data.drop(ec_data.index[-1], inplace=True)\n",
    "\n",
    "ec_data.tail(5)"
   ]
  },
  {
   "cell_type": "code",
   "execution_count": 12,
   "id": "78a15731-0fa9-4759-8cae-9db82dcc0339",
   "metadata": {
    "tags": []
   },
   "outputs": [
    {
     "data": {
      "text/plain": [
       "array([nan,  3.,  6.,  7., 30., 20.,  4.,  8., 15., 10., 28.,  9., 12.,\n",
       "       11.,  2., 25., 13., 29., 14., 21.,  5.,  1., 18.,  0., 19., 17.,\n",
       "       22., 26., 24., 16., 23., 27.])"
      ]
     },
     "execution_count": 12,
     "metadata": {},
     "output_type": "execute_result"
    }
   ],
   "source": [
    "# As 0 is also a unique value of the the dataset column \n",
    "# so we can't fill  NULL value with zero.\n",
    "\n",
    "ec_data['days_since_prior_order'].unique()"
   ]
  },
  {
   "cell_type": "code",
   "execution_count": 13,
   "id": "20becb6b-34f9-4f27-8c3a-071a24f01cee",
   "metadata": {
    "tags": []
   },
   "outputs": [
    {
     "data": {
      "text/plain": [
       "order_id                  0\n",
       "user_id                   0\n",
       "order_number              0\n",
       "order_dow                 0\n",
       "order_hour_of_day         0\n",
       "days_since_prior_order    0\n",
       "product_id                0\n",
       "add_to_cart_order         0\n",
       "reordered                 0\n",
       "department_id             0\n",
       "department                0\n",
       "product_name              0\n",
       "dtype: int64"
      ]
     },
     "execution_count": 13,
     "metadata": {},
     "output_type": "execute_result"
    }
   ],
   "source": [
    "# take care of missing values\n",
    "\n",
    "for col in ec_data.columns:\n",
    "    if ec_data[col].dtypes == 'float64':\n",
    "        ec_data[col].fillna(-1,inplace=True) \n",
    "        \n",
    "ec_data.isnull().sum()"
   ]
  },
  {
   "cell_type": "code",
   "execution_count": 14,
   "id": "7c699881-c0e2-401d-bddf-54593d2bdb38",
   "metadata": {
    "tags": []
   },
   "outputs": [
    {
     "data": {
      "text/html": [
       "<div>\n",
       "<style scoped>\n",
       "    .dataframe tbody tr th:only-of-type {\n",
       "        vertical-align: middle;\n",
       "    }\n",
       "\n",
       "    .dataframe tbody tr th {\n",
       "        vertical-align: top;\n",
       "    }\n",
       "\n",
       "    .dataframe thead th {\n",
       "        text-align: right;\n",
       "    }\n",
       "</style>\n",
       "<table border=\"1\" class=\"dataframe\">\n",
       "  <thead>\n",
       "    <tr style=\"text-align: right;\">\n",
       "      <th></th>\n",
       "      <th>index</th>\n",
       "      <th>product_id</th>\n",
       "      <th>product_name</th>\n",
       "      <th>department</th>\n",
       "      <th>reordered</th>\n",
       "    </tr>\n",
       "  </thead>\n",
       "  <tbody>\n",
       "    <tr>\n",
       "      <th>0</th>\n",
       "      <td>23</td>\n",
       "      <td>24.0</td>\n",
       "      <td>fresh fruits</td>\n",
       "      <td>produce</td>\n",
       "      <td>23554</td>\n",
       "    </tr>\n",
       "    <tr>\n",
       "      <th>1</th>\n",
       "      <td>82</td>\n",
       "      <td>83.0</td>\n",
       "      <td>fresh vegetables</td>\n",
       "      <td>produce</td>\n",
       "      <td>21941</td>\n",
       "    </tr>\n",
       "    <tr>\n",
       "      <th>2</th>\n",
       "      <td>122</td>\n",
       "      <td>123.0</td>\n",
       "      <td>packaged vegetables fruits</td>\n",
       "      <td>produce</td>\n",
       "      <td>11160</td>\n",
       "    </tr>\n",
       "    <tr>\n",
       "      <th>3</th>\n",
       "      <td>119</td>\n",
       "      <td>120.0</td>\n",
       "      <td>yogurt</td>\n",
       "      <td>dairy eggs</td>\n",
       "      <td>9447</td>\n",
       "    </tr>\n",
       "    <tr>\n",
       "      <th>4</th>\n",
       "      <td>20</td>\n",
       "      <td>21.0</td>\n",
       "      <td>packaged cheese</td>\n",
       "      <td>dairy eggs</td>\n",
       "      <td>6243</td>\n",
       "    </tr>\n",
       "    <tr>\n",
       "      <th>5</th>\n",
       "      <td>83</td>\n",
       "      <td>84.0</td>\n",
       "      <td>milk</td>\n",
       "      <td>dairy eggs</td>\n",
       "      <td>5795</td>\n",
       "    </tr>\n",
       "    <tr>\n",
       "      <th>6</th>\n",
       "      <td>114</td>\n",
       "      <td>115.0</td>\n",
       "      <td>water seltzer sparkling water</td>\n",
       "      <td>beverages</td>\n",
       "      <td>5358</td>\n",
       "    </tr>\n",
       "    <tr>\n",
       "      <th>7</th>\n",
       "      <td>106</td>\n",
       "      <td>107.0</td>\n",
       "      <td>chips pretzels</td>\n",
       "      <td>snacks</td>\n",
       "      <td>4723</td>\n",
       "    </tr>\n",
       "    <tr>\n",
       "      <th>8</th>\n",
       "      <td>90</td>\n",
       "      <td>91.0</td>\n",
       "      <td>soy lactosefree</td>\n",
       "      <td>dairy eggs</td>\n",
       "      <td>4087</td>\n",
       "    </tr>\n",
       "    <tr>\n",
       "      <th>9</th>\n",
       "      <td>111</td>\n",
       "      <td>112.0</td>\n",
       "      <td>bread</td>\n",
       "      <td>bakery</td>\n",
       "      <td>3749</td>\n",
       "    </tr>\n",
       "    <tr>\n",
       "      <th>10</th>\n",
       "      <td>30</td>\n",
       "      <td>31.0</td>\n",
       "      <td>refrigerated</td>\n",
       "      <td>beverages</td>\n",
       "      <td>3622</td>\n",
       "    </tr>\n",
       "    <tr>\n",
       "      <th>11</th>\n",
       "      <td>36</td>\n",
       "      <td>37.0</td>\n",
       "      <td>ice cream ice</td>\n",
       "      <td>frozen</td>\n",
       "      <td>3365</td>\n",
       "    </tr>\n",
       "    <tr>\n",
       "      <th>12</th>\n",
       "      <td>115</td>\n",
       "      <td>116.0</td>\n",
       "      <td>frozen produce</td>\n",
       "      <td>frozen</td>\n",
       "      <td>3363</td>\n",
       "    </tr>\n",
       "    <tr>\n",
       "      <th>13</th>\n",
       "      <td>77</td>\n",
       "      <td>78.0</td>\n",
       "      <td>crackers</td>\n",
       "      <td>snacks</td>\n",
       "      <td>3009</td>\n",
       "    </tr>\n",
       "    <tr>\n",
       "      <th>14</th>\n",
       "      <td>2</td>\n",
       "      <td>3.0</td>\n",
       "      <td>energy granola bars</td>\n",
       "      <td>snacks</td>\n",
       "      <td>2900</td>\n",
       "    </tr>\n",
       "    <tr>\n",
       "      <th>15</th>\n",
       "      <td>85</td>\n",
       "      <td>86.0</td>\n",
       "      <td>eggs</td>\n",
       "      <td>dairy eggs</td>\n",
       "      <td>2889</td>\n",
       "    </tr>\n",
       "    <tr>\n",
       "      <th>16</th>\n",
       "      <td>95</td>\n",
       "      <td>96.0</td>\n",
       "      <td>lunch meat</td>\n",
       "      <td>deli</td>\n",
       "      <td>2552</td>\n",
       "    </tr>\n",
       "    <tr>\n",
       "      <th>17</th>\n",
       "      <td>37</td>\n",
       "      <td>38.0</td>\n",
       "      <td>frozen meals</td>\n",
       "      <td>frozen</td>\n",
       "      <td>2535</td>\n",
       "    </tr>\n",
       "    <tr>\n",
       "      <th>18</th>\n",
       "      <td>91</td>\n",
       "      <td>92.0</td>\n",
       "      <td>baby food formula</td>\n",
       "      <td>babies</td>\n",
       "      <td>2524</td>\n",
       "    </tr>\n",
       "    <tr>\n",
       "      <th>19</th>\n",
       "      <td>120</td>\n",
       "      <td>121.0</td>\n",
       "      <td>cereal</td>\n",
       "      <td>breakfast</td>\n",
       "      <td>2471</td>\n",
       "    </tr>\n",
       "  </tbody>\n",
       "</table>\n",
       "</div>"
      ],
      "text/plain": [
       "    index  product_id                   product_name  department  reordered\n",
       "0      23        24.0                   fresh fruits     produce      23554\n",
       "1      82        83.0               fresh vegetables     produce      21941\n",
       "2     122       123.0     packaged vegetables fruits     produce      11160\n",
       "3     119       120.0                         yogurt  dairy eggs       9447\n",
       "4      20        21.0                packaged cheese  dairy eggs       6243\n",
       "5      83        84.0                           milk  dairy eggs       5795\n",
       "6     114       115.0  water seltzer sparkling water   beverages       5358\n",
       "7     106       107.0                 chips pretzels      snacks       4723\n",
       "8      90        91.0                soy lactosefree  dairy eggs       4087\n",
       "9     111       112.0                          bread      bakery       3749\n",
       "10     30        31.0                   refrigerated   beverages       3622\n",
       "11     36        37.0                  ice cream ice      frozen       3365\n",
       "12    115       116.0                 frozen produce      frozen       3363\n",
       "13     77        78.0                       crackers      snacks       3009\n",
       "14      2         3.0            energy granola bars      snacks       2900\n",
       "15     85        86.0                           eggs  dairy eggs       2889\n",
       "16     95        96.0                     lunch meat        deli       2552\n",
       "17     37        38.0                   frozen meals      frozen       2535\n",
       "18     91        92.0              baby food formula      babies       2524\n",
       "19    120       121.0                         cereal   breakfast       2471"
      ]
     },
     "execution_count": 14,
     "metadata": {},
     "output_type": "execute_result"
    }
   ],
   "source": [
    "# show the purchase behaviour\n",
    "table_behav = ec_data.groupby([\"product_id\",\"product_name\",\"department\"])[\"reordered\"].aggregate('count').reset_index()\n",
    "table_behav = table_behav.sort_values(by='reordered', ascending=False)[:20].reset_index()\n",
    "table_behav"
   ]
  },
  {
   "cell_type": "code",
   "execution_count": 15,
   "id": "818da9e3-b0bf-49c4-942c-f493c0efc02c",
   "metadata": {
    "tags": []
   },
   "outputs": [
    {
     "data": {
      "image/png": "[encoded data removed]",
      "text/plain": [
       "<Figure size 640x480 with 1 Axes>"
      ]
     },
     "metadata": {},
     "output_type": "display_data"
    }
   ],
   "source": [
    "# Graph the Data\n",
    "\n",
    "# Creating figure\n",
    "# plt.figure(figsize = (10, 7))\n",
    "# ax = plt.axes(projection =\"3d\")\n",
    " \n",
    "# # Creating plot\n",
    "# ax.scatter3D(ec_data['days_since_prior_order'], ec_data['add_to_cart_order'], ec_data['order_hour_of_day'], color = \"green\")\n",
    "# plt.title(\"simple 3D scatter plot\")\n",
    " \n",
    "# # show plot\n",
    "# plt.show()\n",
    "\n",
    "# Select the variables for the 3D plot\n",
    "x = ec_data['order_hour_of_day']\n",
    "y = ec_data['days_since_prior_order']\n",
    "z = ec_data['add_to_cart_order']\n",
    "\n",
    "# Create a 3D plot with reduced opacity and marker size\n",
    "fig = plt.figure()\n",
    "ax = fig.add_subplot(111, projection='3d')\n",
    "ax.scatter(x, y, z, c='r', marker='o', alpha=0.05, s=5)\n",
    "\n",
    "# Set the labels and title\n",
    "ax.set_xlabel('Order Hour of Day')\n",
    "ax.set_ylabel('Days Since Prior Order')\n",
    "ax.set_zlabel('Add to Cart Order')\n",
    "ax.set_title('Hunter\\'s Supermarket 3D Scatter Plot')\n",
    "\n",
    "plt.show()\n"
   ]
  },
  {
   "cell_type": "code",
   "execution_count": null,
   "id": "61d5c837-13d3-4a24-b382-a14824405e2d",
   "metadata": {},
   "outputs": [],
   "source": []
  },
  {
   "cell_type": "code",
   "execution_count": 16,
   "id": "37b96de7-b5ef-4285-9797-8a7d804bdab1",
   "metadata": {
    "tags": []
   },
   "outputs": [],
   "source": [
    "# VISUALIZE & IDENTIFY THE MOST REORDERED ITEMS\n",
    "# grouped  = table.groupby(['product_name']).sum()['reordered'].sort_values(ascending=False)\n",
    "\n",
    "# sns.set_style('darkgrid')\n",
    "# f, ax = plt.subplots(figsize=(12, 10))\n",
    "# plt.xticks(rotation='vertical')\n",
    "# sns.barplot(table.index, table.values)\n",
    "# plt.ylabel('Number of Reorders', fontsize=13)\n",
    "# plt.xlabel('Most ordered Products', fontsize=13)\n",
    "# plt.show()"
   ]
  },
  {
   "cell_type": "code",
   "execution_count": null,
   "id": "9ddac3a2-cda1-4d60-9273-027a230afc87",
   "metadata": {},
   "outputs": [],
   "source": []
  },
  {
   "cell_type": "markdown",
   "id": "7e504030-d187-4e29-8814-ef69c221e260",
   "metadata": {},
   "source": [
    "## Explore the necessary of Encoding the data"
   ]
  },
  {
   "cell_type": "code",
   "execution_count": 17,
   "id": "3b965c20-dc35-4fec-853c-334831a334b0",
   "metadata": {
    "tags": []
   },
   "outputs": [
    {
     "data": {
      "text/plain": [
       "array(['pantry', 'dairy eggs', 'produce', 'canned goods', 'meat seafood',\n",
       "       'frozen', 'bakery', 'beverages', 'breakfast', 'snacks',\n",
       "       'international', 'household', 'personal care', 'babies', 'deli',\n",
       "       'dry goods pasta', 'missing', 'alcohol', 'pets', 'bulk', 'other'],\n",
       "      dtype=object)"
      ]
     },
     "execution_count": 17,
     "metadata": {},
     "output_type": "execute_result"
    }
   ],
   "source": [
    "ec_data['department'].unique()"
   ]
  },
  {
   "cell_type": "code",
   "execution_count": 18,
   "id": "82aa5498-a903-4add-94be-f1037c14a584",
   "metadata": {
    "tags": []
   },
   "outputs": [
    {
     "data": {
      "text/plain": [
       "array(['baking ingredients', 'soy lactosefree', 'butter',\n",
       "       'fresh vegetables', 'yogurt', 'canned meals beans',\n",
       "       'poultry counter', 'ice cream ice', 'fresh fruits', 'milk',\n",
       "       'packaged cheese', 'bread', 'tea', 'bakery desserts',\n",
       "       'frozen breakfast', 'cereal', 'eggs', 'buns rolls', 'cream',\n",
       "       'water seltzer sparkling water', 'pickled goods olives',\n",
       "       'packaged poultry', 'other creams cheeses',\n",
       "       'honeys syrups nectars', 'coffee', 'refrigerated',\n",
       "       'energy granola bars', 'soft drinks', 'latino foods',\n",
       "       'plates bowls cups flatware', 'paper goods', 'oral hygiene',\n",
       "       'diapers wipes', 'food storage', 'nuts seeds dried fruit', 'soap',\n",
       "       'packaged vegetables fruits', 'hot dogs bacon sausage',\n",
       "       'lunch meat', 'chips pretzels', 'meat counter',\n",
       "       'fresh dips tapenades', 'prepared soups salads', 'condiments',\n",
       "       'juice nectars', 'canned fruit applesauce',\n",
       "       'preserved dips spreads', 'packaged produce',\n",
       "       'canned jarred vegetables', 'fresh pasta', 'pasta sauce',\n",
       "       'frozen produce', 'frozen appetizers sides', 'soup broth bouillon',\n",
       "       'dry pasta', 'prepared meals', 'fresh herbs',\n",
       "       'hot cereal pancake mixes', 'spices seasonings',\n",
       "       'grains rice dried goods', 'frozen breads doughs', 'missing',\n",
       "       'popcorn jerky', 'granola', 'muscles joints pain relief',\n",
       "       'energy sports drinks', 'crackers', 'candy chocolate',\n",
       "       'fruit vegetable snacks', 'tortillas flat bread',\n",
       "       'tofu meat alternatives', 'beers coolers', 'laundry',\n",
       "       'asian foods', 'frozen meat seafood', 'frozen meals', 'spreads',\n",
       "       'mint gum', 'cold flu allergy', 'breakfast bakery',\n",
       "       'trail mix snack mix', 'air fresheners candles', 'feminine care',\n",
       "       'breakfast bars pastries', 'instant foods', 'spirits',\n",
       "       'salad dressing toppings', 'doughs gelatins bake mixes',\n",
       "       'oils vinegars', 'baby food formula', 'eye ear care',\n",
       "       'dog food care', 'baby accessories', 'frozen pizza',\n",
       "       'marinades meat preparation', 'frozen vegan vegetarian',\n",
       "       'shave needs', 'specialty wines champagnes', 'cookies cakes',\n",
       "       'cleaning products', 'packaged seafood',\n",
       "       'bulk grains rice dried goods', 'frozen dessert', 'skin care',\n",
       "       'deodorants', 'white wines', 'protein meal replacements',\n",
       "       'canned meat seafood', 'digestion', 'trash bags liners',\n",
       "       'refrigerated pudding desserts', 'specialty cheeses',\n",
       "       'bulk dried fruits vegetables', 'red wines', 'body lotions soap',\n",
       "       'hair care', 'vitamins supplements', 'cocoa drink mixes',\n",
       "       'first aid', 'dish detergents', 'packaged meat', 'other',\n",
       "       'cat food care', 'indian foods', 'baking supplies decor',\n",
       "       'seafood counter', 'ice cream toppings', 'baby bath body care',\n",
       "       'more household', 'kosher foods', 'facial care',\n",
       "       'kitchen supplies', 'beauty', 'frozen juice'], dtype=object)"
      ]
     },
     "execution_count": 18,
     "metadata": {},
     "output_type": "execute_result"
    }
   ],
   "source": [
    "ec_data['product_name'].unique()"
   ]
  },
  {
   "cell_type": "markdown",
   "id": "98f9bbb7-8042-420a-beff-48e03b913c5a",
   "metadata": {},
   "source": [
    "## Drop un-necessary data"
   ]
  },
  {
   "cell_type": "code",
   "execution_count": 19,
   "id": "c96b1b77-24a9-4ee2-acdf-f25fd15feed7",
   "metadata": {
    "tags": []
   },
   "outputs": [],
   "source": [
    "# Drop the cusotmer ID column since it is not part of the cluster data\n",
    "\n",
    "# ec_data_kmeans = ec_data.drop('product_name', axis=1)\n",
    "ec_data_kmeans = ec_data.drop(['department','product_name','order_id','user_id'], axis=1)"
   ]
  },
  {
   "cell_type": "code",
   "execution_count": 20,
   "id": "27afabfa-7a42-40d8-b6bd-18059017cd43",
   "metadata": {
    "tags": []
   },
   "outputs": [
    {
     "data": {
      "text/html": [
       "<div>\n",
       "<style scoped>\n",
       "    .dataframe tbody tr th:only-of-type {\n",
       "        vertical-align: middle;\n",
       "    }\n",
       "\n",
       "    .dataframe tbody tr th {\n",
       "        vertical-align: top;\n",
       "    }\n",
       "\n",
       "    .dataframe thead th {\n",
       "        text-align: right;\n",
       "    }\n",
       "</style>\n",
       "<table border=\"1\" class=\"dataframe\">\n",
       "  <thead>\n",
       "    <tr style=\"text-align: right;\">\n",
       "      <th></th>\n",
       "      <th>order_number</th>\n",
       "      <th>order_dow</th>\n",
       "      <th>order_hour_of_day</th>\n",
       "      <th>days_since_prior_order</th>\n",
       "      <th>product_id</th>\n",
       "      <th>add_to_cart_order</th>\n",
       "      <th>reordered</th>\n",
       "      <th>department_id</th>\n",
       "    </tr>\n",
       "  </thead>\n",
       "  <tbody>\n",
       "    <tr>\n",
       "      <th>0</th>\n",
       "      <td>1</td>\n",
       "      <td>2.0</td>\n",
       "      <td>18.0</td>\n",
       "      <td>-1.0</td>\n",
       "      <td>17.0</td>\n",
       "      <td>1.0</td>\n",
       "      <td>0.0</td>\n",
       "      <td>13.0</td>\n",
       "    </tr>\n",
       "    <tr>\n",
       "      <th>1</th>\n",
       "      <td>1</td>\n",
       "      <td>2.0</td>\n",
       "      <td>18.0</td>\n",
       "      <td>-1.0</td>\n",
       "      <td>91.0</td>\n",
       "      <td>2.0</td>\n",
       "      <td>0.0</td>\n",
       "      <td>16.0</td>\n",
       "    </tr>\n",
       "    <tr>\n",
       "      <th>2</th>\n",
       "      <td>1</td>\n",
       "      <td>2.0</td>\n",
       "      <td>18.0</td>\n",
       "      <td>-1.0</td>\n",
       "      <td>36.0</td>\n",
       "      <td>3.0</td>\n",
       "      <td>0.0</td>\n",
       "      <td>16.0</td>\n",
       "    </tr>\n",
       "    <tr>\n",
       "      <th>3</th>\n",
       "      <td>1</td>\n",
       "      <td>2.0</td>\n",
       "      <td>18.0</td>\n",
       "      <td>-1.0</td>\n",
       "      <td>83.0</td>\n",
       "      <td>4.0</td>\n",
       "      <td>0.0</td>\n",
       "      <td>4.0</td>\n",
       "    </tr>\n",
       "    <tr>\n",
       "      <th>4</th>\n",
       "      <td>1</td>\n",
       "      <td>2.0</td>\n",
       "      <td>18.0</td>\n",
       "      <td>-1.0</td>\n",
       "      <td>83.0</td>\n",
       "      <td>5.0</td>\n",
       "      <td>0.0</td>\n",
       "      <td>4.0</td>\n",
       "    </tr>\n",
       "  </tbody>\n",
       "</table>\n",
       "</div>"
      ],
      "text/plain": [
       "   order_number  order_dow  order_hour_of_day  days_since_prior_order  \\\n",
       "0             1        2.0               18.0                    -1.0   \n",
       "1             1        2.0               18.0                    -1.0   \n",
       "2             1        2.0               18.0                    -1.0   \n",
       "3             1        2.0               18.0                    -1.0   \n",
       "4             1        2.0               18.0                    -1.0   \n",
       "\n",
       "   product_id  add_to_cart_order  reordered  department_id  \n",
       "0        17.0                1.0        0.0           13.0  \n",
       "1        91.0                2.0        0.0           16.0  \n",
       "2        36.0                3.0        0.0           16.0  \n",
       "3        83.0                4.0        0.0            4.0  \n",
       "4        83.0                5.0        0.0            4.0  "
      ]
     },
     "execution_count": 20,
     "metadata": {},
     "output_type": "execute_result"
    }
   ],
   "source": [
    "ec_data_kmeans.head()"
   ]
  },
  {
   "cell_type": "markdown",
   "id": "125d5795-e497-4150-91c0-724e926e49c3",
   "metadata": {},
   "source": [
    "# Data Preparation"
   ]
  },
  {
   "cell_type": "code",
   "execution_count": 21,
   "id": "a7c5efb9-4127-41ab-be68-b8329962bd71",
   "metadata": {
    "tags": []
   },
   "outputs": [],
   "source": [
    "# Table showing the insights of the shopping behavior of different customers and \n",
    "# develop targeted marketing strategies to improve sales and customer satisfaction.\n",
    "\n",
    "# ec_data_kmeans = pd.crosstab(ec_data['user_id'], ec_data['department'])\n",
    "# ec_data_kmeans"
   ]
  },
  {
   "cell_type": "code",
   "execution_count": 22,
   "id": "a5db3364-3ad0-435f-ab98-9d7ca80eb258",
   "metadata": {
    "tags": []
   },
   "outputs": [],
   "source": [
    "# Shuffle and Split the data into 80% training and 20% validating\n",
    "\n",
    "train_data, test_data = train_test_split(ec_data_kmeans, test_size=0.2)\n",
    "\n",
    "# Convert dataframes to back to CSV files and save them locally to the notebook and make sure to exclude the headers so that KMeans will accept the file\n",
    "\n",
    "train_data.to_csv('train.csv', header=False, index=False)\n",
    "test_data.to_csv('test.csv', header=False, index=False)"
   ]
  },
  {
   "cell_type": "code",
   "execution_count": 23,
   "id": "ebb02983-d7b7-45c3-a397-88f5f8372612",
   "metadata": {
    "tags": []
   },
   "outputs": [
    {
     "name": "stdout",
     "output_type": "stream",
     "text": [
      "s3://sagemaker-us-east-1-143712302767/Supermarket/input/train/train.csv\n",
      "s3://sagemaker-us-east-1-143712302767/Supermarket/input/test/test.csv\n",
      "s3://sagemaker-us-east-1-143712302767/Supermarket/output\n"
     ]
    }
   ],
   "source": [
    "# Copy the file to your S3 bucket using sess.upload_data\n",
    "# You will need to pass the file to be uploaded, a prefix (top level folder to store the data) and the subfolders\n",
    "# Here we will also define the output folder for the results\n",
    "\n",
    "prefix = 'Supermarket'\n",
    "training_data_path = sess.upload_data( path='train.csv', key_prefix=prefix + '/input/train') \n",
    "testing_data_path = sess.upload_data( path='test.csv', key_prefix=prefix + '/input/test')\n",
    "output_data_path = 's3://{}/{}/output'.format(bucket, prefix)\n",
    "print(training_data_path)\n",
    "print(testing_data_path)\n",
    "print(output_data_path)"
   ]
  },
  {
   "cell_type": "code",
   "execution_count": 24,
   "id": "830b47c7-3c94-4669-9ff8-7e66ee6bad62",
   "metadata": {
    "tags": []
   },
   "outputs": [],
   "source": [
    "# Creating a channel from the S3 data source and file system\n",
    "# TrainingInput documentation https://sagemaker.readthedocs.io/en/stable/api/utility/inputs.html\n",
    "\n",
    "from sagemaker import TrainingInput \n",
    "training_data_channel = TrainingInput( s3_data=training_data_path, content_type='text/csv') \n",
    "testing_data_channel = TrainingInput( s3_data=testing_data_path,   content_type='text/csv')"
   ]
  },
  {
   "cell_type": "markdown",
   "id": "3e600f70-a90c-4a89-bdd8-27dd3c463c8e",
   "metadata": {},
   "source": [
    "# Training"
   ]
  },
  {
   "cell_type": "markdown",
   "id": "dc10be9f-0583-4c23-980b-788d449bcdb5",
   "metadata": {},
   "source": [
    "# Train the Model with different versions of K and plot the SSEs in an elbow plot to Determine K"
   ]
  },
  {
   "cell_type": "markdown",
   "id": "966b4083-0e94-4fb7-b56b-f7884ff33718",
   "metadata": {},
   "source": [
    "## Training Description"
   ]
  },
  {
   "cell_type": "markdown",
   "id": "d9ab33ad-dede-4595-86c6-580cd24fea8f",
   "metadata": {},
   "source": [
    "We have chosen unsupervised learning, specifically the K-means clustering algorithm, to address the Business Case's problem of segmenting customers based on their shopping behaviors. By doing so, we can tailor marketing strategies for each group, improving customer satisfaction and sales. \n",
    "\n",
    "Unsupervised learning identifies patterns or structures within data without relying on labeled data. The K-means algorithm assigns data points to clusters based on their feature values and iteratively updates the cluster centroids until convergence is reached.\n",
    "\n",
    "The following code trains a K-means clustering model for a range of possible cluster values (K) using the specified number of instances and instance types. By applying K-means clustering to the E-commerce Dataset for Predictive Marketing 2023, we can identify distinct customer groups and develop targeted marketing strategies, ultimately enhancing customer satisfaction and increasing sales."
   ]
  },
  {
   "cell_type": "code",
   "execution_count": 25,
   "id": "b8fd6300-8169-4ab7-9e8f-465e043ab7fe",
   "metadata": {
    "tags": []
   },
   "outputs": [
    {
     "name": "stderr",
     "output_type": "stream",
     "text": [
      "The method get_image_uri has been renamed in sagemaker>=2.\n",
      "See: https://sagemaker.readthedocs.io/en/stable/v2.html for details.\n"
     ]
    },
    {
     "name": "stdout",
     "output_type": "stream",
     "text": [
      "starting train job:2\n",
      "training artifacts will be uploaded to: s3://sagemaker-us-east-1-143712302767/Supermarket/kmeans-k-discovery/output/kmeans-k-discovery-2023-04-09-22-45-44\n",
      "InProgress\n",
      "starting train job:3\n",
      "training artifacts will be uploaded to: s3://sagemaker-us-east-1-143712302767/Supermarket/kmeans-k-discovery/output/kmeans-k-discovery-2023-04-09-22-45-44\n",
      "InProgress\n",
      "starting train job:4\n",
      "training artifacts will be uploaded to: s3://sagemaker-us-east-1-143712302767/Supermarket/kmeans-k-discovery/output/kmeans-k-discovery-2023-04-09-22-45-44\n",
      "InProgress\n",
      "starting train job:5\n",
      "training artifacts will be uploaded to: s3://sagemaker-us-east-1-143712302767/Supermarket/kmeans-k-discovery/output/kmeans-k-discovery-2023-04-09-22-45-44\n",
      "InProgress\n",
      "starting train job:6\n",
      "training artifacts will be uploaded to: s3://sagemaker-us-east-1-143712302767/Supermarket/kmeans-k-discovery/output/kmeans-k-discovery-2023-04-09-22-45-44\n",
      "InProgress\n",
      "starting train job:7\n",
      "training artifacts will be uploaded to: s3://sagemaker-us-east-1-143712302767/Supermarket/kmeans-k-discovery/output/kmeans-k-discovery-2023-04-09-22-45-44\n",
      "InProgress\n",
      "starting train job:8\n",
      "training artifacts will be uploaded to: s3://sagemaker-us-east-1-143712302767/Supermarket/kmeans-k-discovery/output/kmeans-k-discovery-2023-04-09-22-45-44\n",
      "InProgress\n",
      "starting train job:9\n",
      "training artifacts will be uploaded to: s3://sagemaker-us-east-1-143712302767/Supermarket/kmeans-k-discovery/output/kmeans-k-discovery-2023-04-09-22-45-44\n",
      "InProgress\n",
      "starting train job:10\n",
      "training artifacts will be uploaded to: s3://sagemaker-us-east-1-143712302767/Supermarket/kmeans-k-discovery/output/kmeans-k-discovery-2023-04-09-22-45-44\n",
      "InProgress\n",
      "starting train job:11\n",
      "training artifacts will be uploaded to: s3://sagemaker-us-east-1-143712302767/Supermarket/kmeans-k-discovery/output/kmeans-k-discovery-2023-04-09-22-45-44\n",
      "InProgress\n"
     ]
    }
   ],
   "source": [
    "from time import gmtime, strftime\n",
    "\n",
    "from sagemaker.amazon.amazon_estimator import get_image_uri\n",
    "\n",
    "# gets the K-Means docker image from AWS\n",
    "image = get_image_uri(boto3.Session().region_name, 'kmeans')\n",
    "\n",
    "data_location = training_data_path\n",
    "output_location = output_data_path\n",
    "test_location = testing_data_path\n",
    "\n",
    "output_time = strftime(\"%Y-%m-%d-%H-%M-%S\", gmtime())\n",
    "output_folder = 'kmeans-k-discovery-' + output_time\n",
    "K = range(2, 12) # change the range to be used for k\n",
    "INSTANCE_COUNT = 2\n",
    "run_parallel_jobs = True \n",
    "\n",
    "job_names = []\n",
    "\n",
    "# launching jobs for all k\n",
    "for k in K:\n",
    "    print('starting train job:' + str(k))\n",
    "    output_location = 's3://{}/Supermarket/kmeans-k-discovery/output/'.format(bucket) + output_folder\n",
    "    print('training artifacts will be uploaded to: {}'.format(output_location))\n",
    "    job_name = output_folder + str(k)\n",
    "\n",
    "    create_training_params = \\\n",
    "    {\n",
    "        \"AlgorithmSpecification\": {\n",
    "            \"TrainingImage\": image,\n",
    "            \"TrainingInputMode\": \"File\"\n",
    "        },\n",
    "        \"RoleArn\": role,\n",
    "        \"OutputDataConfig\": {\n",
    "            \"S3OutputPath\": output_location\n",
    "        },\n",
    "        \"ResourceConfig\": {\n",
    "            \"InstanceCount\": INSTANCE_COUNT,\n",
    "            \"InstanceType\": \"ml.m5.large\",\n",
    "            \"VolumeSizeInGB\": 50\n",
    "        },\n",
    "        \"TrainingJobName\": job_name,\n",
    "        \"HyperParameters\": {\n",
    "            \"k\": str(k),\n",
    "            \"feature_dim\": \"8\", # change to the correct number of features\n",
    "            \"mini_batch_size\": \"1000\"\n",
    "        },\n",
    "        \"StoppingCondition\": {\n",
    "            \"MaxRuntimeInSeconds\": 60 * 60\n",
    "        },\n",
    "                'InputDataConfig': [\n",
    "            {\n",
    "                'ChannelName': 'train',\n",
    "                'DataSource': {\n",
    "                    'S3DataSource': {\n",
    "                        'S3DataType': 'S3Prefix',\n",
    "                        'S3Uri': data_location,\n",
    "                        'S3DataDistributionType': 'FullyReplicated'\n",
    "                    }\n",
    "                },\n",
    "                'ContentType': 'text/csv;label_size=0'\n",
    "            },\n",
    "            \n",
    "            {\n",
    "                'ChannelName': 'test',\n",
    "                'DataSource': {\n",
    "                    'S3DataSource': {\n",
    "                        'S3DataType': 'S3Prefix',\n",
    "                        'S3Uri': test_location,\n",
    "                        'S3DataDistributionType': 'FullyReplicated'\n",
    "                    }\n",
    "                },\n",
    "                'ContentType': 'text/csv;label_size=0'\n",
    "            },\n",
    "        ]\n",
    "    }\n",
    "\n",
    "    sagemaker = boto3.client('sagemaker')\n",
    "\n",
    "    sagemaker.create_training_job(**create_training_params)\n",
    "\n",
    "    status = sagemaker.describe_training_job(TrainingJobName=job_name)['TrainingJobStatus']\n",
    "    print(status)\n",
    "    \n",
    "    job_names.append(job_name)"
   ]
  },
  {
   "cell_type": "code",
   "execution_count": 26,
   "id": "f913dcfa-7326-4b21-a58f-54153f5e899f",
   "metadata": {
    "tags": []
   },
   "outputs": [
    {
     "name": "stdout",
     "output_type": "stream",
     "text": [
      "Training job ended with status: InProgress\n",
      "Training job ended with status: InProgress\n",
      "Training job ended with status: InProgress\n",
      "Training job ended with status: InProgress\n",
      "Training job ended with status: InProgress\n",
      "Training job ended with status: InProgress\n",
      "Training job ended with status: InProgress\n",
      "Training job ended with status: InProgress\n",
      "Training job ended with status: InProgress\n",
      "Training job ended with status: Completed\n"
     ]
    }
   ],
   "source": [
    "# Collect the name of each of the jobs\n",
    "\n",
    "\n",
    "while len(job_names):\n",
    "    try:\n",
    "        sagemaker.get_waiter('training_job_completed_or_stopped').wait(TrainingJobName=job_names[0])\n",
    "    finally:\n",
    "        status = sagemaker.describe_training_job(TrainingJobName=job_name)['TrainingJobStatus']\n",
    "        print(\"Training job ended with status: \" + status)\n",
    "        if status == 'Failed':\n",
    "            message = sagemaker.describe_training_job(TrainingJobName=job_name)['FailureReason']\n",
    "            print('Training failed with the following error: {}'.format(message))\n",
    "            raise Exception('Training job failed')\n",
    "\n",
    "    info = sagemaker.describe_training_job(TrainingJobName=job_name)\n",
    "    job_names.pop(0)"
   ]
  },
  {
   "cell_type": "code",
   "execution_count": null,
   "id": "f9b63b7f-bdc2-4e7b-b7b4-481c778887d2",
   "metadata": {},
   "outputs": [],
   "source": []
  },
  {
   "cell_type": "markdown",
   "id": "608b2f57-bac9-4227-824e-4eb4bba96221",
   "metadata": {},
   "source": [
    "## Plot your elbow graph to determine the right value of K"
   ]
  },
  {
   "cell_type": "code",
   "execution_count": 27,
   "id": "ab82ef6a-635c-47d1-9539-6c333ad861ab",
   "metadata": {
    "tags": []
   },
   "outputs": [
    {
     "name": "stdout",
     "output_type": "stream",
     "text": [
      "Model for k=2 (Supermarket/kmeans-k-discovery/output/kmeans-k-discovery-2023-04-09-22-45-44/kmeans-k-discovery-2023-04-09-22-45-442/output/model.tar.gz)\n",
      "model_algo-1\n",
      "Model for k=3 (Supermarket/kmeans-k-discovery/output/kmeans-k-discovery-2023-04-09-22-45-44/kmeans-k-discovery-2023-04-09-22-45-443/output/model.tar.gz)\n",
      "model_algo-1\n",
      "Model for k=4 (Supermarket/kmeans-k-discovery/output/kmeans-k-discovery-2023-04-09-22-45-44/kmeans-k-discovery-2023-04-09-22-45-444/output/model.tar.gz)\n",
      "model_algo-1\n",
      "Model for k=5 (Supermarket/kmeans-k-discovery/output/kmeans-k-discovery-2023-04-09-22-45-44/kmeans-k-discovery-2023-04-09-22-45-445/output/model.tar.gz)\n",
      "model_algo-1\n",
      "Model for k=6 (Supermarket/kmeans-k-discovery/output/kmeans-k-discovery-2023-04-09-22-45-44/kmeans-k-discovery-2023-04-09-22-45-446/output/model.tar.gz)\n",
      "model_algo-1\n",
      "Model for k=7 (Supermarket/kmeans-k-discovery/output/kmeans-k-discovery-2023-04-09-22-45-44/kmeans-k-discovery-2023-04-09-22-45-447/output/model.tar.gz)\n",
      "model_algo-1\n",
      "Model for k=8 (Supermarket/kmeans-k-discovery/output/kmeans-k-discovery-2023-04-09-22-45-44/kmeans-k-discovery-2023-04-09-22-45-448/output/model.tar.gz)\n",
      "model_algo-1\n",
      "Model for k=9 (Supermarket/kmeans-k-discovery/output/kmeans-k-discovery-2023-04-09-22-45-44/kmeans-k-discovery-2023-04-09-22-45-449/output/model.tar.gz)\n",
      "model_algo-1\n",
      "Model for k=10 (Supermarket/kmeans-k-discovery/output/kmeans-k-discovery-2023-04-09-22-45-44/kmeans-k-discovery-2023-04-09-22-45-4410/output/model.tar.gz)\n",
      "model_algo-1\n",
      "Model for k=11 (Supermarket/kmeans-k-discovery/output/kmeans-k-discovery-2023-04-09-22-45-44/kmeans-k-discovery-2023-04-09-22-45-4411/output/model.tar.gz)\n",
      "model_algo-1\n"
     ]
    },
    {
     "data": {
      "image/png": "[encoded data removed]",
      "text/plain": [
       "<Figure size 640x480 with 1 Axes>"
      ]
     },
     "metadata": {},
     "output_type": "display_data"
    }
   ],
   "source": [
    "import numpy as np\n",
    "from scipy.spatial.distance import cdist\n",
    "\n",
    "plt.plot()\n",
    "colors = ['b', 'g', 'r']\n",
    "markers = ['o', 'v', 's']\n",
    "models = {}\n",
    "distortions = []\n",
    "for k in K:\n",
    "    s3_client = boto3.client('s3')\n",
    "    key = 'Supermarket/kmeans-k-discovery/output/' + output_folder +'/' + output_folder + str(k) + '/output/model.tar.gz'\n",
    "    s3_client.download_file(bucket, key, 'model.tar.gz')\n",
    "    print(\"Model for k={} ({})\".format(k, key))\n",
    "    !tar -xvf model.tar.gz                       \n",
    "    kmeans_model=mx.ndarray.load('model_algo-1')\n",
    "    kmeans_numpy = kmeans_model[0].asnumpy()\n",
    "    distortions.append(sum(np.min(cdist(train_data, kmeans_numpy, 'euclidean'), axis=1)) / train_data.shape[0])\n",
    "    models[k] = kmeans_numpy\n",
    " \n",
    "# Plot the elbow\n",
    "plt.plot(K, distortions, 'bx-')\n",
    "plt.xlabel('k')\n",
    "plt.ylabel('Sum of squared error')\n",
    "plt.title('Elbow graph')\n",
    "x_labels = [2, 3, 4, 5, 6, 7, 8, 9, 10, 11] \n",
    "plt.xticks(ticks=x_labels, labels=x_labels)\n",
    "plt.grid()\n",
    "plt.show()"
   ]
  },
  {
   "cell_type": "markdown",
   "id": "c052276f-6cbe-4182-87ee-f38912ec7c8b",
   "metadata": {},
   "source": [
    "# Hyperparameter Tuning"
   ]
  },
  {
   "cell_type": "markdown",
   "id": "e8256f97-3a39-4643-b756-a39302310418",
   "metadata": {},
   "source": [
    "## Start the hyperparameter tunning job"
   ]
  },
  {
   "cell_type": "markdown",
   "id": "d6b9be45-deb9-4497-a1b7-99357649c91d",
   "metadata": {},
   "source": [
    "We optimize the K-means clustering algorithm by tuning two hyperparameters: mini_batch_size and init_method. Mini_batch_size balances computational efficiency and model accuracy, while init_method ('kmeans++' or 'random') affects initialization of cluster centroids.\n",
    "\n",
    "Our goal is to minimize the sum of squared distances (SSD) within clusters, ensuring well-defined customer segments for targeted marketing. We use Amazon SageMaker to create a hyperparameter tuning job with Bayesian optimization, and the process stops when no further improvement is expected. The best hyperparameters are selected based on the SSD."
   ]
  },
  {
   "cell_type": "code",
   "execution_count": 28,
   "id": "b33a3ae3-def9-4c29-9299-525d878b1c04",
   "metadata": {
    "tags": []
   },
   "outputs": [],
   "source": [
    "# Enter your value for K that you will use for the hyperparameter tuning job\n",
    "\n",
    "k = \"3\""
   ]
  },
  {
   "cell_type": "code",
   "execution_count": 29,
   "id": "dd4120fe-39ca-4111-9eb9-ceb52f59fe06",
   "metadata": {
    "tags": []
   },
   "outputs": [
    {
     "name": "stdout",
     "output_type": "stream",
     "text": [
      "InProgress\n",
      "Number of jobs completed 0\n",
      "InProgress\n",
      "Number of jobs completed 0\n",
      "InProgress\n",
      "Number of jobs completed 0\n",
      "InProgress\n",
      "Number of jobs completed 0\n",
      "InProgress\n",
      "Number of jobs completed 4\n",
      "InProgress\n",
      "Number of jobs completed 6\n",
      "Completed\n",
      "Number of jobs completed 9\n"
     ]
    }
   ],
   "source": [
    "# https://docs.aws.amazon.com/sagemaker/latest/dg/k-means-tuning.html\n",
    "\n",
    "tuning_job_name = \"Supermarket\" + strftime(\"%Y-%m-%d-%H-%M-%S\", gmtime())\n",
    "\n",
    "\n",
    "data_location = training_data_path\n",
    "output_location = output_data_path\n",
    "test_location = testing_data_path\n",
    "\n",
    "sagemaker = boto3.client('sagemaker')\n",
    "\n",
    "response = sagemaker.create_hyper_parameter_tuning_job(\n",
    "    HyperParameterTuningJobName= tuning_job_name,\n",
    "    HyperParameterTuningJobConfig={\n",
    "        'Strategy': 'Bayesian',\n",
    "        'HyperParameterTuningJobObjective': {\n",
    "            'Type': 'Minimize',\n",
    "            'MetricName': 'test:ssd'\n",
    "        },\n",
    "        'ResourceLimits': {\n",
    "            'MaxNumberOfTrainingJobs': 10,\n",
    "            'MaxParallelTrainingJobs': 2\n",
    "        },\n",
    "        'ParameterRanges': {\n",
    "            'IntegerParameterRanges': [\n",
    "                {\n",
    "                    'Name': 'mini_batch_size',\n",
    "                    'MinValue': '3000',\n",
    "                    'MaxValue': '15000'\n",
    "                },\n",
    "            ],\n",
    "            'CategoricalParameterRanges': [\n",
    "                {\n",
    "                    'Name': 'init_method',\n",
    "                    'Values': [\n",
    "                        'kmeans++', 'random'\n",
    "                    ]\n",
    "                },\n",
    "            ]\n",
    "        },\n",
    "        'TrainingJobEarlyStoppingType' : 'Auto'\n",
    "    },\n",
    "    TrainingJobDefinition={\n",
    "        'StaticHyperParameters': {\n",
    "            'k': k,\n",
    "            'feature_dim': '8', \n",
    "        },\n",
    "        'AlgorithmSpecification': {\n",
    "            'TrainingImage': image,\n",
    "            'TrainingInputMode': 'File'\n",
    "        },\n",
    "        'RoleArn': role,\n",
    "        'InputDataConfig': [\n",
    "            {\n",
    "                'ChannelName': 'train',\n",
    "                'DataSource': {\n",
    "                    'S3DataSource': {\n",
    "                        'S3DataType': 'S3Prefix',\n",
    "                        'S3Uri': data_location,\n",
    "                        'S3DataDistributionType': 'FullyReplicated'\n",
    "                    }\n",
    "                },\n",
    "                'ContentType': 'text/csv;label_size=0'\n",
    "            },\n",
    "            \n",
    "            {\n",
    "                'ChannelName': 'test',\n",
    "                'DataSource': {\n",
    "                    'S3DataSource': {\n",
    "                        'S3DataType': 'S3Prefix',\n",
    "                        'S3Uri': test_location,\n",
    "                        'S3DataDistributionType': 'FullyReplicated'\n",
    "                    }\n",
    "                },\n",
    "                'ContentType': 'text/csv;label_size=0'\n",
    "            },\n",
    "        ],\n",
    "        'OutputDataConfig': {\n",
    "                'S3OutputPath': output_location\n",
    "        },\n",
    "        'ResourceConfig': {\n",
    "            'InstanceType': 'ml.m5.xlarge',\n",
    "            'InstanceCount': 1,\n",
    "            'VolumeSizeInGB': 50\n",
    "        },\n",
    "        'StoppingCondition': {\n",
    "            'MaxRuntimeInSeconds': 60 * 60\n",
    "        }\n",
    "    }\n",
    ")\n",
    "\n",
    "\n",
    "tuning_job_result = sagemaker.describe_hyper_parameter_tuning_job(\n",
    "HyperParameterTuningJobName=tuning_job_name\n",
    ")\n",
    "\n",
    "status = tuning_job_result[\"HyperParameterTuningJobStatus\"]\n",
    "\n",
    "while status != \"Completed\":\n",
    "    tuning_job_result = sagemaker.describe_hyper_parameter_tuning_job(\n",
    "    HyperParameterTuningJobName=tuning_job_name\n",
    "    )\n",
    "    status = tuning_job_result[\"HyperParameterTuningJobStatus\"]\n",
    "    print(status)\n",
    "\n",
    "    job_count = tuning_job_result[\"TrainingJobStatusCounters\"][\"Completed\"]\n",
    "    print(\"Number of jobs completed\", job_count)\n",
    "    \n",
    "    time.sleep(60)\n",
    "\n",
    "objective = tuning_job_result[\"HyperParameterTuningJobConfig\"][\"HyperParameterTuningJobObjective\"]\n",
    "is_minimize = objective[\"Type\"] != \"Maximize\"\n",
    "objective_name = objective[\"MetricName\"]\n"
   ]
  },
  {
   "cell_type": "code",
   "execution_count": 30,
   "id": "d258dcd3-3554-4eb7-adb7-f6f47b805b02",
   "metadata": {
    "tags": []
   },
   "outputs": [],
   "source": [
    "# Grab the details from each job https://docs.aws.amazon.com/sagemaker/latest/APIReference/API_DescribeHyperParameterTuningJob.html\n",
    "\n",
    "tuning_job_result = sagemaker.describe_hyper_parameter_tuning_job(\n",
    "HyperParameterTuningJobName=tuning_job_name\n",
    ")\n",
    "\n",
    "status = tuning_job_result[\"HyperParameterTuningJobStatus\"]\n",
    "\n",
    "while status != \"Completed\":\n",
    "    tuning_job_result = sagemaker.describe_hyper_parameter_tuning_job(\n",
    "    HyperParameterTuningJobName=tuning_job_name\n",
    "    )\n",
    "    status = tuning_job_result[\"HyperParameterTuningJobStatus\"]\n",
    "    print(status)\n",
    "\n",
    "    job_count = tuning_job_result[\"TrainingJobStatusCounters\"][\"Completed\"]\n",
    "    print(\"Number of jobs completed\", job_count)\n",
    "    \n",
    "    time.sleep(60)\n",
    "\n",
    "objective = tuning_job_result[\"HyperParameterTuningJobConfig\"][\"HyperParameterTuningJobObjective\"]\n",
    "is_minimize = objective[\"Type\"] != \"Maximize\"\n",
    "objective_name = objective[\"MetricName\"]"
   ]
  },
  {
   "cell_type": "code",
   "execution_count": 31,
   "id": "e3eec7dc-57b7-4f81-bd90-5e17c418871e",
   "metadata": {
    "tags": []
   },
   "outputs": [
    {
     "name": "stdout",
     "output_type": "stream",
     "text": [
      "Number of training jobs with valid objective: 10\n",
      "{'lowest': 25932892.0, 'highest': 26992610.0}\n"
     ]
    },
    {
     "data": {
      "text/html": [
       "<div>\n",
       "<style scoped>\n",
       "    .dataframe tbody tr th:only-of-type {\n",
       "        vertical-align: middle;\n",
       "    }\n",
       "\n",
       "    .dataframe tbody tr th {\n",
       "        vertical-align: top;\n",
       "    }\n",
       "\n",
       "    .dataframe thead th {\n",
       "        text-align: right;\n",
       "    }\n",
       "</style>\n",
       "<table border=\"1\" class=\"dataframe\">\n",
       "  <thead>\n",
       "    <tr style=\"text-align: right;\">\n",
       "      <th></th>\n",
       "      <th>init_method</th>\n",
       "      <th>mini_batch_size</th>\n",
       "      <th>TrainingJobName</th>\n",
       "      <th>TrainingJobStatus</th>\n",
       "      <th>FinalObjectiveValue</th>\n",
       "      <th>TrainingStartTime</th>\n",
       "      <th>TrainingEndTime</th>\n",
       "      <th>TrainingElapsedTimeSeconds</th>\n",
       "    </tr>\n",
       "  </thead>\n",
       "  <tbody>\n",
       "    <tr>\n",
       "      <th>7</th>\n",
       "      <td>random</td>\n",
       "      <td>11275.0</td>\n",
       "      <td>Supermarket2023-04-09-22-51-59-003-1650a555</td>\n",
       "      <td>Completed</td>\n",
       "      <td>25932892.0</td>\n",
       "      <td>2023-04-09 22:55:23+00:00</td>\n",
       "      <td>2023-04-09 22:55:49+00:00</td>\n",
       "      <td>26.0</td>\n",
       "    </tr>\n",
       "    <tr>\n",
       "      <th>8</th>\n",
       "      <td>random</td>\n",
       "      <td>7139.0</td>\n",
       "      <td>Supermarket2023-04-09-22-51-59-002-629f17ac</td>\n",
       "      <td>Completed</td>\n",
       "      <td>25946892.0</td>\n",
       "      <td>2023-04-09 22:53:07+00:00</td>\n",
       "      <td>2023-04-09 22:54:54+00:00</td>\n",
       "      <td>107.0</td>\n",
       "    </tr>\n",
       "    <tr>\n",
       "      <th>4</th>\n",
       "      <td>random</td>\n",
       "      <td>12228.0</td>\n",
       "      <td>Supermarket2023-04-09-22-51-59-006-813de054</td>\n",
       "      <td>Completed</td>\n",
       "      <td>25953012.0</td>\n",
       "      <td>2023-04-09 22:56:05+00:00</td>\n",
       "      <td>2023-04-09 22:56:32+00:00</td>\n",
       "      <td>27.0</td>\n",
       "    </tr>\n",
       "    <tr>\n",
       "      <th>5</th>\n",
       "      <td>random</td>\n",
       "      <td>12211.0</td>\n",
       "      <td>Supermarket2023-04-09-22-51-59-005-75f30843</td>\n",
       "      <td>Completed</td>\n",
       "      <td>25967262.0</td>\n",
       "      <td>2023-04-09 22:56:03+00:00</td>\n",
       "      <td>2023-04-09 22:56:29+00:00</td>\n",
       "      <td>26.0</td>\n",
       "    </tr>\n",
       "    <tr>\n",
       "      <th>6</th>\n",
       "      <td>random</td>\n",
       "      <td>8196.0</td>\n",
       "      <td>Supermarket2023-04-09-22-51-59-004-d2ab3437</td>\n",
       "      <td>Completed</td>\n",
       "      <td>25971678.0</td>\n",
       "      <td>2023-04-09 22:55:22+00:00</td>\n",
       "      <td>2023-04-09 22:55:49+00:00</td>\n",
       "      <td>27.0</td>\n",
       "    </tr>\n",
       "    <tr>\n",
       "      <th>2</th>\n",
       "      <td>random</td>\n",
       "      <td>15000.0</td>\n",
       "      <td>Supermarket2023-04-09-22-51-59-008-4e72a45e</td>\n",
       "      <td>Completed</td>\n",
       "      <td>25975856.0</td>\n",
       "      <td>2023-04-09 22:56:45+00:00</td>\n",
       "      <td>2023-04-09 22:57:12+00:00</td>\n",
       "      <td>27.0</td>\n",
       "    </tr>\n",
       "    <tr>\n",
       "      <th>3</th>\n",
       "      <td>random</td>\n",
       "      <td>10489.0</td>\n",
       "      <td>Supermarket2023-04-09-22-51-59-007-2b4cad9d</td>\n",
       "      <td>Stopped</td>\n",
       "      <td>26083788.0</td>\n",
       "      <td>2023-04-09 22:56:44+00:00</td>\n",
       "      <td>2023-04-09 22:57:03+00:00</td>\n",
       "      <td>19.0</td>\n",
       "    </tr>\n",
       "    <tr>\n",
       "      <th>9</th>\n",
       "      <td>random</td>\n",
       "      <td>3439.0</td>\n",
       "      <td>Supermarket2023-04-09-22-51-59-001-e51e4910</td>\n",
       "      <td>Completed</td>\n",
       "      <td>26093076.0</td>\n",
       "      <td>2023-04-09 22:53:03+00:00</td>\n",
       "      <td>2023-04-09 22:54:50+00:00</td>\n",
       "      <td>107.0</td>\n",
       "    </tr>\n",
       "    <tr>\n",
       "      <th>1</th>\n",
       "      <td>random</td>\n",
       "      <td>12327.0</td>\n",
       "      <td>Supermarket2023-04-09-22-51-59-009-8d7f51c2</td>\n",
       "      <td>Completed</td>\n",
       "      <td>26286672.0</td>\n",
       "      <td>2023-04-09 22:57:14+00:00</td>\n",
       "      <td>2023-04-09 22:57:41+00:00</td>\n",
       "      <td>27.0</td>\n",
       "    </tr>\n",
       "    <tr>\n",
       "      <th>0</th>\n",
       "      <td>kmeans++</td>\n",
       "      <td>12297.0</td>\n",
       "      <td>Supermarket2023-04-09-22-51-59-010-060e15d7</td>\n",
       "      <td>Completed</td>\n",
       "      <td>26992610.0</td>\n",
       "      <td>2023-04-09 22:57:23+00:00</td>\n",
       "      <td>2023-04-09 22:57:50+00:00</td>\n",
       "      <td>27.0</td>\n",
       "    </tr>\n",
       "  </tbody>\n",
       "</table>\n",
       "</div>"
      ],
      "text/plain": [
       "  init_method  mini_batch_size                              TrainingJobName  \\\n",
       "7      random          11275.0  Supermarket2023-04-09-22-51-59-003-1650a555   \n",
       "8      random           7139.0  Supermarket2023-04-09-22-51-59-002-629f17ac   \n",
       "4      random          12228.0  Supermarket2023-04-09-22-51-59-006-813de054   \n",
       "5      random          12211.0  Supermarket2023-04-09-22-51-59-005-75f30843   \n",
       "6      random           8196.0  Supermarket2023-04-09-22-51-59-004-d2ab3437   \n",
       "2      random          15000.0  Supermarket2023-04-09-22-51-59-008-4e72a45e   \n",
       "3      random          10489.0  Supermarket2023-04-09-22-51-59-007-2b4cad9d   \n",
       "9      random           3439.0  Supermarket2023-04-09-22-51-59-001-e51e4910   \n",
       "1      random          12327.0  Supermarket2023-04-09-22-51-59-009-8d7f51c2   \n",
       "0    kmeans++          12297.0  Supermarket2023-04-09-22-51-59-010-060e15d7   \n",
       "\n",
       "  TrainingJobStatus  FinalObjectiveValue         TrainingStartTime  \\\n",
       "7         Completed           25932892.0 2023-04-09 22:55:23+00:00   \n",
       "8         Completed           25946892.0 2023-04-09 22:53:07+00:00   \n",
       "4         Completed           25953012.0 2023-04-09 22:56:05+00:00   \n",
       "5         Completed           25967262.0 2023-04-09 22:56:03+00:00   \n",
       "6         Completed           25971678.0 2023-04-09 22:55:22+00:00   \n",
       "2         Completed           25975856.0 2023-04-09 22:56:45+00:00   \n",
       "3           Stopped           26083788.0 2023-04-09 22:56:44+00:00   \n",
       "9         Completed           26093076.0 2023-04-09 22:53:03+00:00   \n",
       "1         Completed           26286672.0 2023-04-09 22:57:14+00:00   \n",
       "0         Completed           26992610.0 2023-04-09 22:57:23+00:00   \n",
       "\n",
       "            TrainingEndTime  TrainingElapsedTimeSeconds  \n",
       "7 2023-04-09 22:55:49+00:00                        26.0  \n",
       "8 2023-04-09 22:54:54+00:00                       107.0  \n",
       "4 2023-04-09 22:56:32+00:00                        27.0  \n",
       "5 2023-04-09 22:56:29+00:00                        26.0  \n",
       "6 2023-04-09 22:55:49+00:00                        27.0  \n",
       "2 2023-04-09 22:57:12+00:00                        27.0  \n",
       "3 2023-04-09 22:57:03+00:00                        19.0  \n",
       "9 2023-04-09 22:54:50+00:00                       107.0  \n",
       "1 2023-04-09 22:57:41+00:00                        27.0  \n",
       "0 2023-04-09 22:57:50+00:00                        27.0  "
      ]
     },
     "execution_count": 31,
     "metadata": {},
     "output_type": "execute_result"
    }
   ],
   "source": [
    "# Print out the jobs sorted by the lowest SSE \"FinalObjectiveValue\"\n",
    "\n",
    "import sagemaker\n",
    "\n",
    "tuner = sagemaker.HyperparameterTuningJobAnalytics(tuning_job_name)\n",
    "\n",
    "full_df = tuner.dataframe()\n",
    "\n",
    "if len(full_df) > 0:\n",
    "    df = full_df[full_df[\"FinalObjectiveValue\"] > -float(\"inf\")]\n",
    "    if len(df) > 0:\n",
    "        df = df.sort_values(\"FinalObjectiveValue\", ascending=is_minimize)\n",
    "        print(\"Number of training jobs with valid objective: %d\" % len(df))\n",
    "        print({\"lowest\": min(df[\"FinalObjectiveValue\"]), \"highest\": max(df[\"FinalObjectiveValue\"])})\n",
    "        pd.set_option(\"display.max_colwidth\", None)  # Don't truncate TrainingJobName\n",
    "    else:\n",
    "        print(\"No training jobs have reported valid results yet.\")\n",
    "\n",
    "df"
   ]
  },
  {
   "cell_type": "code",
   "execution_count": 32,
   "id": "173c91c5-706e-4b45-a176-ca111b26f776",
   "metadata": {
    "tags": []
   },
   "outputs": [],
   "source": [
    "# Store the best tuning job\n",
    "\n",
    "job_name = tuning_job_result[\"BestTrainingJob\"][\"TrainingJobName\"]"
   ]
  },
  {
   "cell_type": "markdown",
   "id": "312d9023-e3b1-44aa-9be0-c6f5cb90850e",
   "metadata": {},
   "source": [
    "## Deployment description\n",
    "\n",
    "The proposed model will provide a simple yet efficient solution for cluster analysis. By offering a text-based interface, users will be able to easily enter values for the required fields without having to navigate complicated menus or interfaces. Once the user inputs are received, the model will automatically parse the values and convert them into a string separated by commas. This approach will simplify the process of preparing data for batch inference and minimize the risk of errors or omissions.\n",
    "\n",
    "The use of batch inference will enable the model to process a large amount of data in a short amount of time, providing quick and accurate results. The model will then utilize the user data and compute its distance to the closest cluster. This approach will ensure that the data is accurately classified and clustered based on its similarity to existing data points.\n",
    "\n",
    "The user will be asked to input the following: order_number, order_dow, order_hour_of_day, days_since_prior_order, product_id, add_to_cart_order, reordered, department_id"
   ]
  },
  {
   "cell_type": "markdown",
   "id": "9a56b68e-0fdb-4c59-a27e-511a38bb5f02",
   "metadata": {},
   "source": [
    "## Make Inferences"
   ]
  },
  {
   "cell_type": "markdown",
   "id": "7b885ee9-0f5d-4e6c-909a-a76a24b7b27a",
   "metadata": {},
   "source": [
    "### Deploy the Model"
   ]
  },
  {
   "cell_type": "code",
   "execution_count": 33,
   "id": "30203fcc-42c0-4067-9edb-71fb46879739",
   "metadata": {
    "tags": []
   },
   "outputs": [
    {
     "name": "stdout",
     "output_type": "stream",
     "text": [
      "Supermarket2023-04-09-22-51-59-003-1650a555\n",
      "arn:aws:sagemaker:us-east-1:143712302767:model/supermarket2023-04-09-22-51-59-003-1650a555\n"
     ]
    }
   ],
   "source": [
    "sagemaker = boto3.client('sagemaker')\n",
    "\n",
    "model_name = job_name\n",
    "print(model_name)\n",
    "\n",
    "info = sagemaker.describe_training_job(TrainingJobName=job_name)\n",
    "model_data = info[\"ModelArtifacts\"][\"S3ModelArtifacts\"]\n",
    "\n",
    "primary_container = {\"Image\": image, \"ModelDataUrl\": model_data}\n",
    "\n",
    "create_model_response = sagemaker.create_model(\n",
    "    ModelName=model_name, ExecutionRoleArn=role, PrimaryContainer=primary_container\n",
    ")\n",
    "\n",
    "print(create_model_response[\"ModelArn\"])"
   ]
  },
  {
   "cell_type": "markdown",
   "id": "8a8aa1df-0e21-4677-b556-40ca4b0400c9",
   "metadata": {},
   "source": [
    "### Deploy the Endpoint Config"
   ]
  },
  {
   "cell_type": "code",
   "execution_count": 34,
   "id": "7eecd072-aa38-4725-ae33-ee841b0f1c7a",
   "metadata": {
    "tags": []
   },
   "outputs": [
    {
     "name": "stdout",
     "output_type": "stream",
     "text": [
      "Sales-Data-epc-2023-04-09-22-59-02\n",
      "Endpoint Config Arn: arn:aws:sagemaker:us-east-1:143712302767:endpoint-config/sales-data-epc-2023-04-09-22-59-02\n"
     ]
    }
   ],
   "source": [
    "endpoint_config_name = \"Sales-Data-epc-\" + strftime(\"%Y-%m-%d-%H-%M-%S\", gmtime())\n",
    "print(endpoint_config_name)\n",
    "create_endpoint_config_response = runtime.create_endpoint_config(\n",
    "    EndpointConfigName=endpoint_config_name,\n",
    "    ProductionVariants=[\n",
    "        {\n",
    "            \"InstanceType\": \"ml.m5.xlarge\",\n",
    "            \"InitialInstanceCount\": 1,\n",
    "            \"ModelName\": model_name,\n",
    "            \"VariantName\": \"AllTraffic\",\n",
    "        }\n",
    "    ],\n",
    ")\n",
    "\n",
    "print(\"Endpoint Config Arn: \" + create_endpoint_config_response[\"EndpointConfigArn\"])"
   ]
  },
  {
   "cell_type": "markdown",
   "id": "8dacd8f7-9884-4451-9b07-d45936b3ae23",
   "metadata": {
    "tags": []
   },
   "source": [
    "### Deploy the Endpoint"
   ]
  },
  {
   "cell_type": "code",
   "execution_count": 35,
   "id": "db28ed95-bb65-47ab-8538-76cb2768c768",
   "metadata": {
    "tags": []
   },
   "outputs": [
    {
     "name": "stdout",
     "output_type": "stream",
     "text": [
      "Sales-Data-ep-2023-04-09-22-59-03\n",
      "arn:aws:sagemaker:us-east-1:143712302767:endpoint/sales-data-ep-2023-04-09-22-59-03\n",
      "Status: Creating\n",
      "Arn: arn:aws:sagemaker:us-east-1:143712302767:endpoint/sales-data-ep-2023-04-09-22-59-03\n",
      "Create endpoint ended with status: InService\n"
     ]
    }
   ],
   "source": [
    "endpoint_name = \"Sales-Data-ep-\" + strftime(\"%Y-%m-%d-%H-%M-%S\", gmtime())\n",
    "print(endpoint_name)\n",
    "create_endpoint_response = runtime.create_endpoint(\n",
    "    EndpointName=endpoint_name, EndpointConfigName=endpoint_config_name\n",
    ")\n",
    "print(create_endpoint_response[\"EndpointArn\"])\n",
    "\n",
    "resp = runtime.describe_endpoint(EndpointName=endpoint_name)\n",
    "status = resp[\"EndpointStatus\"]\n",
    "print(\"Status: \" + status)\n",
    "\n",
    "try:\n",
    "    runtime.get_waiter(\"endpoint_in_service\").wait(EndpointName=endpoint_name)\n",
    "finally:\n",
    "    resp = runtime.describe_endpoint(EndpointName=endpoint_name)\n",
    "    status = resp[\"EndpointStatus\"]\n",
    "    print(\"Arn: \" + resp[\"EndpointArn\"])\n",
    "    print(\"Create endpoint ended with status: \" + status)\n",
    "\n",
    "    if status != \"InService\":\n",
    "        message = runtime.describe_endpoint(EndpointName=endpoint_name)[\"FailureReason\"]\n",
    "        print(\"Training failed with the following error: {}\".format(message))\n",
    "        raise Exception(\"Endpoint creation did not succeed\")"
   ]
  },
  {
   "cell_type": "markdown",
   "id": "72ac1f4c-916c-46f8-86c2-17975660d4e6",
   "metadata": {},
   "source": [
    "## Demo how to do infernences"
   ]
  },
  {
   "cell_type": "markdown",
   "id": "b5f158f0-b4a0-43ca-8bc9-4269c8d17c69",
   "metadata": {},
   "source": [
    "### Single Inference"
   ]
  },
  {
   "cell_type": "code",
   "execution_count": 43,
   "id": "8c40eedd-a129-4818-88da-a5b8e69a637d",
   "metadata": {
    "tags": []
   },
   "outputs": [
    {
     "name": "stdout",
     "output_type": "stream",
     "text": [
      "{'predictions': [{'closest_cluster': 2.0, 'distance_to_cluster': 24.20021629333496}]}\n"
     ]
    }
   ],
   "source": [
    "runtime = boto3.Session().client('sagemaker-runtime',use_ssl=True)\n",
    "payload = \"1,2,18,-1.0,17.0,1.0,0.0,13.0\"\n",
    "\n",
    "response = runtime.invoke_endpoint(EndpointName=endpoint_name, \n",
    "                                   ContentType='text/csv', \n",
    "                                   Body=payload)\n",
    "result = json.loads(response['Body'].read())\n",
    "print(result)"
   ]
  },
  {
   "cell_type": "markdown",
   "id": "7fd8251a-1905-4140-92e6-464c02b8d5d4",
   "metadata": {
    "tags": []
   },
   "source": [
    "### Batch Inferences"
   ]
  },
  {
   "cell_type": "code",
   "execution_count": 44,
   "id": "8b00a4c5-54a5-49c9-ab0e-14a64d090b8e",
   "metadata": {
    "tags": []
   },
   "outputs": [],
   "source": [
    "# This where you can plot out the training set or batch load a new dataset\n",
    "\n",
    "csv_file = io.StringIO()\n",
    "\n",
    "ec_data_kmeans.to_csv(csv_file, sep=\",\", header=False, index=False)\n",
    "payload = csv_file.getvalue()"
   ]
  },
  {
   "cell_type": "code",
   "execution_count": 55,
   "id": "5532b54e-ef48-472b-9192-b3a909bc38e0",
   "metadata": {
    "tags": []
   },
   "outputs": [],
   "source": [
    "response = runtime.invoke_endpoint(\n",
    "    EndpointName=endpoint_name,\n",
    "    Body= payload,\n",
    "    ContentType = 'text/csv')\n",
    "result = json.loads(response[\"Body\"].read().decode())\n",
    "clusters = [p[\"closest_cluster\"] for p in result[\"predictions\"]]\n"
   ]
  },
  {
   "cell_type": "code",
   "execution_count": 56,
   "id": "747c968f-5ae4-43bb-ad82-ccacc2df7e59",
   "metadata": {
    "tags": []
   },
   "outputs": [
    {
     "name": "stdout",
     "output_type": "stream",
     "text": [
      "[2.0]\n"
     ]
    }
   ],
   "source": [
    "print(clusters)"
   ]
  },
  {
   "cell_type": "code",
   "execution_count": 57,
   "id": "b8b84f6e-6aef-4b7c-a94c-0145cd0115d0",
   "metadata": {
    "tags": []
   },
   "outputs": [
    {
     "ename": "ValueError",
     "evalue": "Length of values (1) does not match length of index (209095)",
     "output_type": "error",
     "traceback": [
      "\u001b[0;31m---------------------------------------------------------------------------\u001b[0m",
      "\u001b[0;31mValueError\u001b[0m                                Traceback (most recent call last)",
      "Cell \u001b[0;32mIn[57], line 1\u001b[0m\n\u001b[0;32m----> 1\u001b[0m \u001b[43mec_data\u001b[49m\u001b[43m[\u001b[49m\u001b[38;5;124;43m'\u001b[39;49m\u001b[38;5;124;43mcluster\u001b[39;49m\u001b[38;5;124;43m'\u001b[39;49m\u001b[43m]\u001b[49m\u001b[38;5;241m=\u001b[39mclusters\n\u001b[1;32m      2\u001b[0m ec_data_kmeans\u001b[38;5;241m.\u001b[39mhead()\n",
      "File \u001b[0;32m~/anaconda3/envs/python3/lib/python3.10/site-packages/pandas/core/frame.py:3978\u001b[0m, in \u001b[0;36mDataFrame.__setitem__\u001b[0;34m(self, key, value)\u001b[0m\n\u001b[1;32m   3975\u001b[0m     \u001b[38;5;28mself\u001b[39m\u001b[38;5;241m.\u001b[39m_setitem_array([key], value)\n\u001b[1;32m   3976\u001b[0m \u001b[38;5;28;01melse\u001b[39;00m:\n\u001b[1;32m   3977\u001b[0m     \u001b[38;5;66;03m# set column\u001b[39;00m\n\u001b[0;32m-> 3978\u001b[0m     \u001b[38;5;28;43mself\u001b[39;49m\u001b[38;5;241;43m.\u001b[39;49m\u001b[43m_set_item\u001b[49m\u001b[43m(\u001b[49m\u001b[43mkey\u001b[49m\u001b[43m,\u001b[49m\u001b[43m \u001b[49m\u001b[43mvalue\u001b[49m\u001b[43m)\u001b[49m\n",
      "File \u001b[0;32m~/anaconda3/envs/python3/lib/python3.10/site-packages/pandas/core/frame.py:4172\u001b[0m, in \u001b[0;36mDataFrame._set_item\u001b[0;34m(self, key, value)\u001b[0m\n\u001b[1;32m   4162\u001b[0m \u001b[38;5;28;01mdef\u001b[39;00m \u001b[38;5;21m_set_item\u001b[39m(\u001b[38;5;28mself\u001b[39m, key, value) \u001b[38;5;241m-\u001b[39m\u001b[38;5;241m>\u001b[39m \u001b[38;5;28;01mNone\u001b[39;00m:\n\u001b[1;32m   4163\u001b[0m \u001b[38;5;250m    \u001b[39m\u001b[38;5;124;03m\"\"\"\u001b[39;00m\n\u001b[1;32m   4164\u001b[0m \u001b[38;5;124;03m    Add series to DataFrame in specified column.\u001b[39;00m\n\u001b[1;32m   4165\u001b[0m \n\u001b[0;32m   (...)\u001b[0m\n\u001b[1;32m   4170\u001b[0m \u001b[38;5;124;03m    ensure homogeneity.\u001b[39;00m\n\u001b[1;32m   4171\u001b[0m \u001b[38;5;124;03m    \"\"\"\u001b[39;00m\n\u001b[0;32m-> 4172\u001b[0m     value \u001b[38;5;241m=\u001b[39m \u001b[38;5;28;43mself\u001b[39;49m\u001b[38;5;241;43m.\u001b[39;49m\u001b[43m_sanitize_column\u001b[49m\u001b[43m(\u001b[49m\u001b[43mvalue\u001b[49m\u001b[43m)\u001b[49m\n\u001b[1;32m   4174\u001b[0m     \u001b[38;5;28;01mif\u001b[39;00m (\n\u001b[1;32m   4175\u001b[0m         key \u001b[38;5;129;01min\u001b[39;00m \u001b[38;5;28mself\u001b[39m\u001b[38;5;241m.\u001b[39mcolumns\n\u001b[1;32m   4176\u001b[0m         \u001b[38;5;129;01mand\u001b[39;00m value\u001b[38;5;241m.\u001b[39mndim \u001b[38;5;241m==\u001b[39m \u001b[38;5;241m1\u001b[39m\n\u001b[1;32m   4177\u001b[0m         \u001b[38;5;129;01mand\u001b[39;00m \u001b[38;5;129;01mnot\u001b[39;00m is_extension_array_dtype(value)\n\u001b[1;32m   4178\u001b[0m     ):\n\u001b[1;32m   4179\u001b[0m         \u001b[38;5;66;03m# broadcast across multiple columns if necessary\u001b[39;00m\n\u001b[1;32m   4180\u001b[0m         \u001b[38;5;28;01mif\u001b[39;00m \u001b[38;5;129;01mnot\u001b[39;00m \u001b[38;5;28mself\u001b[39m\u001b[38;5;241m.\u001b[39mcolumns\u001b[38;5;241m.\u001b[39mis_unique \u001b[38;5;129;01mor\u001b[39;00m \u001b[38;5;28misinstance\u001b[39m(\u001b[38;5;28mself\u001b[39m\u001b[38;5;241m.\u001b[39mcolumns, MultiIndex):\n",
      "File \u001b[0;32m~/anaconda3/envs/python3/lib/python3.10/site-packages/pandas/core/frame.py:4912\u001b[0m, in \u001b[0;36mDataFrame._sanitize_column\u001b[0;34m(self, value)\u001b[0m\n\u001b[1;32m   4909\u001b[0m     \u001b[38;5;28;01mreturn\u001b[39;00m _reindex_for_setitem(Series(value), \u001b[38;5;28mself\u001b[39m\u001b[38;5;241m.\u001b[39mindex)\n\u001b[1;32m   4911\u001b[0m \u001b[38;5;28;01mif\u001b[39;00m is_list_like(value):\n\u001b[0;32m-> 4912\u001b[0m     \u001b[43mcom\u001b[49m\u001b[38;5;241;43m.\u001b[39;49m\u001b[43mrequire_length_match\u001b[49m\u001b[43m(\u001b[49m\u001b[43mvalue\u001b[49m\u001b[43m,\u001b[49m\u001b[43m \u001b[49m\u001b[38;5;28;43mself\u001b[39;49m\u001b[38;5;241;43m.\u001b[39;49m\u001b[43mindex\u001b[49m\u001b[43m)\u001b[49m\n\u001b[1;32m   4913\u001b[0m \u001b[38;5;28;01mreturn\u001b[39;00m sanitize_array(value, \u001b[38;5;28mself\u001b[39m\u001b[38;5;241m.\u001b[39mindex, copy\u001b[38;5;241m=\u001b[39m\u001b[38;5;28;01mTrue\u001b[39;00m, allow_2d\u001b[38;5;241m=\u001b[39m\u001b[38;5;28;01mTrue\u001b[39;00m)\n",
      "File \u001b[0;32m~/anaconda3/envs/python3/lib/python3.10/site-packages/pandas/core/common.py:561\u001b[0m, in \u001b[0;36mrequire_length_match\u001b[0;34m(data, index)\u001b[0m\n\u001b[1;32m    557\u001b[0m \u001b[38;5;250m\u001b[39m\u001b[38;5;124;03m\"\"\"\u001b[39;00m\n\u001b[1;32m    558\u001b[0m \u001b[38;5;124;03mCheck the length of data matches the length of the index.\u001b[39;00m\n\u001b[1;32m    559\u001b[0m \u001b[38;5;124;03m\"\"\"\u001b[39;00m\n\u001b[1;32m    560\u001b[0m \u001b[38;5;28;01mif\u001b[39;00m \u001b[38;5;28mlen\u001b[39m(data) \u001b[38;5;241m!=\u001b[39m \u001b[38;5;28mlen\u001b[39m(index):\n\u001b[0;32m--> 561\u001b[0m     \u001b[38;5;28;01mraise\u001b[39;00m \u001b[38;5;167;01mValueError\u001b[39;00m(\n\u001b[1;32m    562\u001b[0m         \u001b[38;5;124m\"\u001b[39m\u001b[38;5;124mLength of values \u001b[39m\u001b[38;5;124m\"\u001b[39m\n\u001b[1;32m    563\u001b[0m         \u001b[38;5;124mf\u001b[39m\u001b[38;5;124m\"\u001b[39m\u001b[38;5;124m(\u001b[39m\u001b[38;5;132;01m{\u001b[39;00m\u001b[38;5;28mlen\u001b[39m(data)\u001b[38;5;132;01m}\u001b[39;00m\u001b[38;5;124m) \u001b[39m\u001b[38;5;124m\"\u001b[39m\n\u001b[1;32m    564\u001b[0m         \u001b[38;5;124m\"\u001b[39m\u001b[38;5;124mdoes not match length of index \u001b[39m\u001b[38;5;124m\"\u001b[39m\n\u001b[1;32m    565\u001b[0m         \u001b[38;5;124mf\u001b[39m\u001b[38;5;124m\"\u001b[39m\u001b[38;5;124m(\u001b[39m\u001b[38;5;132;01m{\u001b[39;00m\u001b[38;5;28mlen\u001b[39m(index)\u001b[38;5;132;01m}\u001b[39;00m\u001b[38;5;124m)\u001b[39m\u001b[38;5;124m\"\u001b[39m\n\u001b[1;32m    566\u001b[0m     )\n",
      "\u001b[0;31mValueError\u001b[0m: Length of values (1) does not match length of index (209095)"
     ]
    }
   ],
   "source": [
    "ec_data['cluster']=clusters\n",
    "ec_data_kmeans.head()"
   ]
  },
  {
   "cell_type": "code",
   "execution_count": 48,
   "id": "9227fedf-7520-49dd-86e9-d1c795b9312d",
   "metadata": {
    "tags": []
   },
   "outputs": [
    {
     "data": {
      "text/plain": [
       "order_id                    int64\n",
       "user_id                     int64\n",
       "order_number                int64\n",
       "order_dow                 float64\n",
       "order_hour_of_day         float64\n",
       "days_since_prior_order    float64\n",
       "product_id                float64\n",
       "add_to_cart_order         float64\n",
       "reordered                 float64\n",
       "department_id             float64\n",
       "department                 object\n",
       "product_name               object\n",
       "dtype: object"
      ]
     },
     "execution_count": 48,
     "metadata": {},
     "output_type": "execute_result"
    }
   ],
   "source": [
    "ec_data.dtypes"
   ]
  },
  {
   "cell_type": "code",
   "execution_count": 58,
   "id": "5aa39b72-f762-409b-a02d-acd52d644599",
   "metadata": {
    "tags": []
   },
   "outputs": [
    {
     "ename": "KeyError",
     "evalue": "'cluster'",
     "output_type": "error",
     "traceback": [
      "\u001b[0;31m---------------------------------------------------------------------------\u001b[0m",
      "\u001b[0;31mKeyError\u001b[0m                                  Traceback (most recent call last)",
      "File \u001b[0;32m~/anaconda3/envs/python3/lib/python3.10/site-packages/pandas/core/indexes/base.py:3803\u001b[0m, in \u001b[0;36mIndex.get_loc\u001b[0;34m(self, key, method, tolerance)\u001b[0m\n\u001b[1;32m   3802\u001b[0m \u001b[38;5;28;01mtry\u001b[39;00m:\n\u001b[0;32m-> 3803\u001b[0m     \u001b[38;5;28;01mreturn\u001b[39;00m \u001b[38;5;28;43mself\u001b[39;49m\u001b[38;5;241;43m.\u001b[39;49m\u001b[43m_engine\u001b[49m\u001b[38;5;241;43m.\u001b[39;49m\u001b[43mget_loc\u001b[49m\u001b[43m(\u001b[49m\u001b[43mcasted_key\u001b[49m\u001b[43m)\u001b[49m\n\u001b[1;32m   3804\u001b[0m \u001b[38;5;28;01mexcept\u001b[39;00m \u001b[38;5;167;01mKeyError\u001b[39;00m \u001b[38;5;28;01mas\u001b[39;00m err:\n",
      "File \u001b[0;32m~/anaconda3/envs/python3/lib/python3.10/site-packages/pandas/_libs/index.pyx:138\u001b[0m, in \u001b[0;36mpandas._libs.index.IndexEngine.get_loc\u001b[0;34m()\u001b[0m\n",
      "File \u001b[0;32m~/anaconda3/envs/python3/lib/python3.10/site-packages/pandas/_libs/index.pyx:165\u001b[0m, in \u001b[0;36mpandas._libs.index.IndexEngine.get_loc\u001b[0;34m()\u001b[0m\n",
      "File \u001b[0;32mpandas/_libs/hashtable_class_helper.pxi:5745\u001b[0m, in \u001b[0;36mpandas._libs.hashtable.PyObjectHashTable.get_item\u001b[0;34m()\u001b[0m\n",
      "File \u001b[0;32mpandas/_libs/hashtable_class_helper.pxi:5753\u001b[0m, in \u001b[0;36mpandas._libs.hashtable.PyObjectHashTable.get_item\u001b[0;34m()\u001b[0m\n",
      "\u001b[0;31mKeyError\u001b[0m: 'cluster'",
      "\nThe above exception was the direct cause of the following exception:\n",
      "\u001b[0;31mKeyError\u001b[0m                                  Traceback (most recent call last)",
      "Cell \u001b[0;32mIn[58], line 1\u001b[0m\n\u001b[0;32m----> 1\u001b[0m ec_data[\u001b[38;5;124m'\u001b[39m\u001b[38;5;124mcluster\u001b[39m\u001b[38;5;124m'\u001b[39m] \u001b[38;5;241m=\u001b[39m \u001b[43mec_data\u001b[49m\u001b[43m[\u001b[49m\u001b[38;5;124;43m'\u001b[39;49m\u001b[38;5;124;43mcluster\u001b[39;49m\u001b[38;5;124;43m'\u001b[39;49m\u001b[43m]\u001b[49m\u001b[38;5;241m.\u001b[39mastype(\u001b[38;5;28mint\u001b[39m)\n",
      "File \u001b[0;32m~/anaconda3/envs/python3/lib/python3.10/site-packages/pandas/core/frame.py:3805\u001b[0m, in \u001b[0;36mDataFrame.__getitem__\u001b[0;34m(self, key)\u001b[0m\n\u001b[1;32m   3803\u001b[0m \u001b[38;5;28;01mif\u001b[39;00m \u001b[38;5;28mself\u001b[39m\u001b[38;5;241m.\u001b[39mcolumns\u001b[38;5;241m.\u001b[39mnlevels \u001b[38;5;241m>\u001b[39m \u001b[38;5;241m1\u001b[39m:\n\u001b[1;32m   3804\u001b[0m     \u001b[38;5;28;01mreturn\u001b[39;00m \u001b[38;5;28mself\u001b[39m\u001b[38;5;241m.\u001b[39m_getitem_multilevel(key)\n\u001b[0;32m-> 3805\u001b[0m indexer \u001b[38;5;241m=\u001b[39m \u001b[38;5;28;43mself\u001b[39;49m\u001b[38;5;241;43m.\u001b[39;49m\u001b[43mcolumns\u001b[49m\u001b[38;5;241;43m.\u001b[39;49m\u001b[43mget_loc\u001b[49m\u001b[43m(\u001b[49m\u001b[43mkey\u001b[49m\u001b[43m)\u001b[49m\n\u001b[1;32m   3806\u001b[0m \u001b[38;5;28;01mif\u001b[39;00m is_integer(indexer):\n\u001b[1;32m   3807\u001b[0m     indexer \u001b[38;5;241m=\u001b[39m [indexer]\n",
      "File \u001b[0;32m~/anaconda3/envs/python3/lib/python3.10/site-packages/pandas/core/indexes/base.py:3805\u001b[0m, in \u001b[0;36mIndex.get_loc\u001b[0;34m(self, key, method, tolerance)\u001b[0m\n\u001b[1;32m   3803\u001b[0m     \u001b[38;5;28;01mreturn\u001b[39;00m \u001b[38;5;28mself\u001b[39m\u001b[38;5;241m.\u001b[39m_engine\u001b[38;5;241m.\u001b[39mget_loc(casted_key)\n\u001b[1;32m   3804\u001b[0m \u001b[38;5;28;01mexcept\u001b[39;00m \u001b[38;5;167;01mKeyError\u001b[39;00m \u001b[38;5;28;01mas\u001b[39;00m err:\n\u001b[0;32m-> 3805\u001b[0m     \u001b[38;5;28;01mraise\u001b[39;00m \u001b[38;5;167;01mKeyError\u001b[39;00m(key) \u001b[38;5;28;01mfrom\u001b[39;00m \u001b[38;5;21;01merr\u001b[39;00m\n\u001b[1;32m   3806\u001b[0m \u001b[38;5;28;01mexcept\u001b[39;00m \u001b[38;5;167;01mTypeError\u001b[39;00m:\n\u001b[1;32m   3807\u001b[0m     \u001b[38;5;66;03m# If we have a listlike key, _check_indexing_error will raise\u001b[39;00m\n\u001b[1;32m   3808\u001b[0m     \u001b[38;5;66;03m#  InvalidIndexError. Otherwise we fall through and re-raise\u001b[39;00m\n\u001b[1;32m   3809\u001b[0m     \u001b[38;5;66;03m#  the TypeError.\u001b[39;00m\n\u001b[1;32m   3810\u001b[0m     \u001b[38;5;28mself\u001b[39m\u001b[38;5;241m.\u001b[39m_check_indexing_error(key)\n",
      "\u001b[0;31mKeyError\u001b[0m: 'cluster'"
     ]
    }
   ],
   "source": [
    "ec_data['cluster'] = ec_data['cluster'].astype(int)"
   ]
  },
  {
   "cell_type": "code",
   "execution_count": 50,
   "id": "76d0c0d5-4306-402b-8a82-e9f7ab5589fc",
   "metadata": {
    "tags": []
   },
   "outputs": [
    {
     "data": {
      "text/html": [
       "<div>\n",
       "<style scoped>\n",
       "    .dataframe tbody tr th:only-of-type {\n",
       "        vertical-align: middle;\n",
       "    }\n",
       "\n",
       "    .dataframe tbody tr th {\n",
       "        vertical-align: top;\n",
       "    }\n",
       "\n",
       "    .dataframe thead th {\n",
       "        text-align: right;\n",
       "    }\n",
       "</style>\n",
       "<table border=\"1\" class=\"dataframe\">\n",
       "  <thead>\n",
       "    <tr style=\"text-align: right;\">\n",
       "      <th></th>\n",
       "      <th>order_number</th>\n",
       "      <th>order_dow</th>\n",
       "      <th>order_hour_of_day</th>\n",
       "      <th>days_since_prior_order</th>\n",
       "      <th>product_id</th>\n",
       "      <th>add_to_cart_order</th>\n",
       "      <th>reordered</th>\n",
       "      <th>department_id</th>\n",
       "    </tr>\n",
       "  </thead>\n",
       "  <tbody>\n",
       "    <tr>\n",
       "      <th>0</th>\n",
       "      <td>1</td>\n",
       "      <td>2.0</td>\n",
       "      <td>18.0</td>\n",
       "      <td>-1.0</td>\n",
       "      <td>17.0</td>\n",
       "      <td>1.0</td>\n",
       "      <td>0.0</td>\n",
       "      <td>13.0</td>\n",
       "    </tr>\n",
       "    <tr>\n",
       "      <th>1</th>\n",
       "      <td>1</td>\n",
       "      <td>2.0</td>\n",
       "      <td>18.0</td>\n",
       "      <td>-1.0</td>\n",
       "      <td>91.0</td>\n",
       "      <td>2.0</td>\n",
       "      <td>0.0</td>\n",
       "      <td>16.0</td>\n",
       "    </tr>\n",
       "    <tr>\n",
       "      <th>2</th>\n",
       "      <td>1</td>\n",
       "      <td>2.0</td>\n",
       "      <td>18.0</td>\n",
       "      <td>-1.0</td>\n",
       "      <td>36.0</td>\n",
       "      <td>3.0</td>\n",
       "      <td>0.0</td>\n",
       "      <td>16.0</td>\n",
       "    </tr>\n",
       "    <tr>\n",
       "      <th>3</th>\n",
       "      <td>1</td>\n",
       "      <td>2.0</td>\n",
       "      <td>18.0</td>\n",
       "      <td>-1.0</td>\n",
       "      <td>83.0</td>\n",
       "      <td>4.0</td>\n",
       "      <td>0.0</td>\n",
       "      <td>4.0</td>\n",
       "    </tr>\n",
       "    <tr>\n",
       "      <th>4</th>\n",
       "      <td>1</td>\n",
       "      <td>2.0</td>\n",
       "      <td>18.0</td>\n",
       "      <td>-1.0</td>\n",
       "      <td>83.0</td>\n",
       "      <td>5.0</td>\n",
       "      <td>0.0</td>\n",
       "      <td>4.0</td>\n",
       "    </tr>\n",
       "  </tbody>\n",
       "</table>\n",
       "</div>"
      ],
      "text/plain": [
       "   order_number  order_dow  order_hour_of_day  days_since_prior_order  \\\n",
       "0             1        2.0               18.0                    -1.0   \n",
       "1             1        2.0               18.0                    -1.0   \n",
       "2             1        2.0               18.0                    -1.0   \n",
       "3             1        2.0               18.0                    -1.0   \n",
       "4             1        2.0               18.0                    -1.0   \n",
       "\n",
       "   product_id  add_to_cart_order  reordered  department_id  \n",
       "0        17.0                1.0        0.0           13.0  \n",
       "1        91.0                2.0        0.0           16.0  \n",
       "2        36.0                3.0        0.0           16.0  \n",
       "3        83.0                4.0        0.0            4.0  \n",
       "4        83.0                5.0        0.0            4.0  "
      ]
     },
     "execution_count": 50,
     "metadata": {},
     "output_type": "execute_result"
    }
   ],
   "source": [
    "ec_data_kmeans.head()"
   ]
  },
  {
   "cell_type": "markdown",
   "id": "dedefc04-cf73-43e2-853f-d2602f616edf",
   "metadata": {},
   "source": [
    "## Get the cluster centroids from the model artifact"
   ]
  },
  {
   "cell_type": "code",
   "execution_count": 51,
   "id": "c59a8bed-0651-4daa-8302-489e2619b9d7",
   "metadata": {
    "tags": []
   },
   "outputs": [
    {
     "name": "stdout",
     "output_type": "stream",
     "text": [
      "sagemaker-us-east-1-143712302767\n",
      "model.tar.gz\n",
      "Sales/output/Supermarket2023-04-09-22-51-59-003-1650a555/output/model.tar.gz\n"
     ]
    },
    {
     "ename": "ClientError",
     "evalue": "An error occurred (404) when calling the HeadObject operation: Not Found",
     "output_type": "error",
     "traceback": [
      "\u001b[0;31m---------------------------------------------------------------------------\u001b[0m",
      "\u001b[0;31mClientError\u001b[0m                               Traceback (most recent call last)",
      "Cell \u001b[0;32mIn[51], line 8\u001b[0m\n\u001b[1;32m      5\u001b[0m \u001b[38;5;28mprint\u001b[39m(model_path)\n\u001b[1;32m      7\u001b[0m s3_client \u001b[38;5;241m=\u001b[39m boto3\u001b[38;5;241m.\u001b[39mclient(\u001b[38;5;124m'\u001b[39m\u001b[38;5;124ms3\u001b[39m\u001b[38;5;124m'\u001b[39m)\n\u001b[0;32m----> 8\u001b[0m \u001b[43ms3_client\u001b[49m\u001b[38;5;241;43m.\u001b[39;49m\u001b[43mdownload_file\u001b[49m\u001b[43m(\u001b[49m\u001b[43mbucket\u001b[49m\u001b[43m,\u001b[49m\u001b[43m \u001b[49m\u001b[43mmodel_path\u001b[49m\u001b[43m,\u001b[49m\u001b[43m \u001b[49m\u001b[38;5;124;43m'\u001b[39;49m\u001b[38;5;124;43mmodel.tar.gz\u001b[39;49m\u001b[38;5;124;43m'\u001b[39;49m\u001b[43m)\u001b[49m\n\u001b[1;32m      9\u001b[0m \u001b[38;5;28mprint\u001b[39m(\u001b[38;5;124m\"\u001b[39m\u001b[38;5;124mModel for k=\u001b[39m\u001b[38;5;132;01m{}\u001b[39;00m\u001b[38;5;124m (\u001b[39m\u001b[38;5;132;01m{}\u001b[39;00m\u001b[38;5;124m)\u001b[39m\u001b[38;5;124m\"\u001b[39m\u001b[38;5;241m.\u001b[39mformat(k, key))\n\u001b[1;32m     10\u001b[0m get_ipython()\u001b[38;5;241m.\u001b[39msystem(\u001b[38;5;124m'\u001b[39m\u001b[38;5;124mtar -xvf model.tar.gz\u001b[39m\u001b[38;5;124m'\u001b[39m)\n",
      "File \u001b[0;32m~/anaconda3/envs/python3/lib/python3.10/site-packages/boto3/s3/inject.py:190\u001b[0m, in \u001b[0;36mdownload_file\u001b[0;34m(self, Bucket, Key, Filename, ExtraArgs, Callback, Config)\u001b[0m\n\u001b[1;32m    155\u001b[0m \u001b[38;5;250m\u001b[39m\u001b[38;5;124;03m\"\"\"Download an S3 object to a file.\u001b[39;00m\n\u001b[1;32m    156\u001b[0m \n\u001b[1;32m    157\u001b[0m \u001b[38;5;124;03mUsage::\u001b[39;00m\n\u001b[0;32m   (...)\u001b[0m\n\u001b[1;32m    187\u001b[0m \u001b[38;5;124;03m    transfer.\u001b[39;00m\n\u001b[1;32m    188\u001b[0m \u001b[38;5;124;03m\"\"\"\u001b[39;00m\n\u001b[1;32m    189\u001b[0m \u001b[38;5;28;01mwith\u001b[39;00m S3Transfer(\u001b[38;5;28mself\u001b[39m, Config) \u001b[38;5;28;01mas\u001b[39;00m transfer:\n\u001b[0;32m--> 190\u001b[0m     \u001b[38;5;28;01mreturn\u001b[39;00m \u001b[43mtransfer\u001b[49m\u001b[38;5;241;43m.\u001b[39;49m\u001b[43mdownload_file\u001b[49m\u001b[43m(\u001b[49m\n\u001b[1;32m    191\u001b[0m \u001b[43m        \u001b[49m\u001b[43mbucket\u001b[49m\u001b[38;5;241;43m=\u001b[39;49m\u001b[43mBucket\u001b[49m\u001b[43m,\u001b[49m\n\u001b[1;32m    192\u001b[0m \u001b[43m        \u001b[49m\u001b[43mkey\u001b[49m\u001b[38;5;241;43m=\u001b[39;49m\u001b[43mKey\u001b[49m\u001b[43m,\u001b[49m\n\u001b[1;32m    193\u001b[0m \u001b[43m        \u001b[49m\u001b[43mfilename\u001b[49m\u001b[38;5;241;43m=\u001b[39;49m\u001b[43mFilename\u001b[49m\u001b[43m,\u001b[49m\n\u001b[1;32m    194\u001b[0m \u001b[43m        \u001b[49m\u001b[43mextra_args\u001b[49m\u001b[38;5;241;43m=\u001b[39;49m\u001b[43mExtraArgs\u001b[49m\u001b[43m,\u001b[49m\n\u001b[1;32m    195\u001b[0m \u001b[43m        \u001b[49m\u001b[43mcallback\u001b[49m\u001b[38;5;241;43m=\u001b[39;49m\u001b[43mCallback\u001b[49m\u001b[43m,\u001b[49m\n\u001b[1;32m    196\u001b[0m \u001b[43m    \u001b[49m\u001b[43m)\u001b[49m\n",
      "File \u001b[0;32m~/anaconda3/envs/python3/lib/python3.10/site-packages/boto3/s3/transfer.py:326\u001b[0m, in \u001b[0;36mS3Transfer.download_file\u001b[0;34m(self, bucket, key, filename, extra_args, callback)\u001b[0m\n\u001b[1;32m    322\u001b[0m future \u001b[38;5;241m=\u001b[39m \u001b[38;5;28mself\u001b[39m\u001b[38;5;241m.\u001b[39m_manager\u001b[38;5;241m.\u001b[39mdownload(\n\u001b[1;32m    323\u001b[0m     bucket, key, filename, extra_args, subscribers\n\u001b[1;32m    324\u001b[0m )\n\u001b[1;32m    325\u001b[0m \u001b[38;5;28;01mtry\u001b[39;00m:\n\u001b[0;32m--> 326\u001b[0m     \u001b[43mfuture\u001b[49m\u001b[38;5;241;43m.\u001b[39;49m\u001b[43mresult\u001b[49m\u001b[43m(\u001b[49m\u001b[43m)\u001b[49m\n\u001b[1;32m    327\u001b[0m \u001b[38;5;66;03m# This is for backwards compatibility where when retries are\u001b[39;00m\n\u001b[1;32m    328\u001b[0m \u001b[38;5;66;03m# exceeded we need to throw the same error from boto3 instead of\u001b[39;00m\n\u001b[1;32m    329\u001b[0m \u001b[38;5;66;03m# s3transfer's built in RetriesExceededError as current users are\u001b[39;00m\n\u001b[1;32m    330\u001b[0m \u001b[38;5;66;03m# catching the boto3 one instead of the s3transfer exception to do\u001b[39;00m\n\u001b[1;32m    331\u001b[0m \u001b[38;5;66;03m# their own retries.\u001b[39;00m\n\u001b[1;32m    332\u001b[0m \u001b[38;5;28;01mexcept\u001b[39;00m S3TransferRetriesExceededError \u001b[38;5;28;01mas\u001b[39;00m e:\n",
      "File \u001b[0;32m~/anaconda3/envs/python3/lib/python3.10/site-packages/s3transfer/futures.py:103\u001b[0m, in \u001b[0;36mTransferFuture.result\u001b[0;34m(self)\u001b[0m\n\u001b[1;32m     98\u001b[0m \u001b[38;5;28;01mdef\u001b[39;00m \u001b[38;5;21mresult\u001b[39m(\u001b[38;5;28mself\u001b[39m):\n\u001b[1;32m     99\u001b[0m     \u001b[38;5;28;01mtry\u001b[39;00m:\n\u001b[1;32m    100\u001b[0m         \u001b[38;5;66;03m# Usually the result() method blocks until the transfer is done,\u001b[39;00m\n\u001b[1;32m    101\u001b[0m         \u001b[38;5;66;03m# however if a KeyboardInterrupt is raised we want want to exit\u001b[39;00m\n\u001b[1;32m    102\u001b[0m         \u001b[38;5;66;03m# out of this and propagate the exception.\u001b[39;00m\n\u001b[0;32m--> 103\u001b[0m         \u001b[38;5;28;01mreturn\u001b[39;00m \u001b[38;5;28;43mself\u001b[39;49m\u001b[38;5;241;43m.\u001b[39;49m\u001b[43m_coordinator\u001b[49m\u001b[38;5;241;43m.\u001b[39;49m\u001b[43mresult\u001b[49m\u001b[43m(\u001b[49m\u001b[43m)\u001b[49m\n\u001b[1;32m    104\u001b[0m     \u001b[38;5;28;01mexcept\u001b[39;00m \u001b[38;5;167;01mKeyboardInterrupt\u001b[39;00m \u001b[38;5;28;01mas\u001b[39;00m e:\n\u001b[1;32m    105\u001b[0m         \u001b[38;5;28mself\u001b[39m\u001b[38;5;241m.\u001b[39mcancel()\n",
      "File \u001b[0;32m~/anaconda3/envs/python3/lib/python3.10/site-packages/s3transfer/futures.py:266\u001b[0m, in \u001b[0;36mTransferCoordinator.result\u001b[0;34m(self)\u001b[0m\n\u001b[1;32m    263\u001b[0m \u001b[38;5;66;03m# Once done waiting, raise an exception if present or return the\u001b[39;00m\n\u001b[1;32m    264\u001b[0m \u001b[38;5;66;03m# final result.\u001b[39;00m\n\u001b[1;32m    265\u001b[0m \u001b[38;5;28;01mif\u001b[39;00m \u001b[38;5;28mself\u001b[39m\u001b[38;5;241m.\u001b[39m_exception:\n\u001b[0;32m--> 266\u001b[0m     \u001b[38;5;28;01mraise\u001b[39;00m \u001b[38;5;28mself\u001b[39m\u001b[38;5;241m.\u001b[39m_exception\n\u001b[1;32m    267\u001b[0m \u001b[38;5;28;01mreturn\u001b[39;00m \u001b[38;5;28mself\u001b[39m\u001b[38;5;241m.\u001b[39m_result\n",
      "File \u001b[0;32m~/anaconda3/envs/python3/lib/python3.10/site-packages/s3transfer/tasks.py:269\u001b[0m, in \u001b[0;36mSubmissionTask._main\u001b[0;34m(self, transfer_future, **kwargs)\u001b[0m\n\u001b[1;32m    265\u001b[0m     \u001b[38;5;28mself\u001b[39m\u001b[38;5;241m.\u001b[39m_transfer_coordinator\u001b[38;5;241m.\u001b[39mset_status_to_running()\n\u001b[1;32m    267\u001b[0m     \u001b[38;5;66;03m# Call the submit method to start submitting tasks to execute the\u001b[39;00m\n\u001b[1;32m    268\u001b[0m     \u001b[38;5;66;03m# transfer.\u001b[39;00m\n\u001b[0;32m--> 269\u001b[0m     \u001b[38;5;28;43mself\u001b[39;49m\u001b[38;5;241;43m.\u001b[39;49m\u001b[43m_submit\u001b[49m\u001b[43m(\u001b[49m\u001b[43mtransfer_future\u001b[49m\u001b[38;5;241;43m=\u001b[39;49m\u001b[43mtransfer_future\u001b[49m\u001b[43m,\u001b[49m\u001b[43m \u001b[49m\u001b[38;5;241;43m*\u001b[39;49m\u001b[38;5;241;43m*\u001b[39;49m\u001b[43mkwargs\u001b[49m\u001b[43m)\u001b[49m\n\u001b[1;32m    270\u001b[0m \u001b[38;5;28;01mexcept\u001b[39;00m \u001b[38;5;167;01mBaseException\u001b[39;00m \u001b[38;5;28;01mas\u001b[39;00m e:\n\u001b[1;32m    271\u001b[0m     \u001b[38;5;66;03m# If there was an exception raised during the submission of task\u001b[39;00m\n\u001b[1;32m    272\u001b[0m     \u001b[38;5;66;03m# there is a chance that the final task that signals if a transfer\u001b[39;00m\n\u001b[0;32m   (...)\u001b[0m\n\u001b[1;32m    281\u001b[0m \n\u001b[1;32m    282\u001b[0m     \u001b[38;5;66;03m# Set the exception, that caused the process to fail.\u001b[39;00m\n\u001b[1;32m    283\u001b[0m     \u001b[38;5;28mself\u001b[39m\u001b[38;5;241m.\u001b[39m_log_and_set_exception(e)\n",
      "File \u001b[0;32m~/anaconda3/envs/python3/lib/python3.10/site-packages/s3transfer/download.py:354\u001b[0m, in \u001b[0;36mDownloadSubmissionTask._submit\u001b[0;34m(self, client, config, osutil, request_executor, io_executor, transfer_future, bandwidth_limiter)\u001b[0m\n\u001b[1;32m    325\u001b[0m \u001b[38;5;250m\u001b[39m\u001b[38;5;124;03m\"\"\"\u001b[39;00m\n\u001b[1;32m    326\u001b[0m \u001b[38;5;124;03m:param client: The client associated with the transfer manager\u001b[39;00m\n\u001b[1;32m    327\u001b[0m \n\u001b[0;32m   (...)\u001b[0m\n\u001b[1;32m    349\u001b[0m \u001b[38;5;124;03m    downloading streams\u001b[39;00m\n\u001b[1;32m    350\u001b[0m \u001b[38;5;124;03m\"\"\"\u001b[39;00m\n\u001b[1;32m    351\u001b[0m \u001b[38;5;28;01mif\u001b[39;00m transfer_future\u001b[38;5;241m.\u001b[39mmeta\u001b[38;5;241m.\u001b[39msize \u001b[38;5;129;01mis\u001b[39;00m \u001b[38;5;28;01mNone\u001b[39;00m:\n\u001b[1;32m    352\u001b[0m     \u001b[38;5;66;03m# If a size was not provided figure out the size for the\u001b[39;00m\n\u001b[1;32m    353\u001b[0m     \u001b[38;5;66;03m# user.\u001b[39;00m\n\u001b[0;32m--> 354\u001b[0m     response \u001b[38;5;241m=\u001b[39m \u001b[43mclient\u001b[49m\u001b[38;5;241;43m.\u001b[39;49m\u001b[43mhead_object\u001b[49m\u001b[43m(\u001b[49m\n\u001b[1;32m    355\u001b[0m \u001b[43m        \u001b[49m\u001b[43mBucket\u001b[49m\u001b[38;5;241;43m=\u001b[39;49m\u001b[43mtransfer_future\u001b[49m\u001b[38;5;241;43m.\u001b[39;49m\u001b[43mmeta\u001b[49m\u001b[38;5;241;43m.\u001b[39;49m\u001b[43mcall_args\u001b[49m\u001b[38;5;241;43m.\u001b[39;49m\u001b[43mbucket\u001b[49m\u001b[43m,\u001b[49m\n\u001b[1;32m    356\u001b[0m \u001b[43m        \u001b[49m\u001b[43mKey\u001b[49m\u001b[38;5;241;43m=\u001b[39;49m\u001b[43mtransfer_future\u001b[49m\u001b[38;5;241;43m.\u001b[39;49m\u001b[43mmeta\u001b[49m\u001b[38;5;241;43m.\u001b[39;49m\u001b[43mcall_args\u001b[49m\u001b[38;5;241;43m.\u001b[39;49m\u001b[43mkey\u001b[49m\u001b[43m,\u001b[49m\n\u001b[1;32m    357\u001b[0m \u001b[43m        \u001b[49m\u001b[38;5;241;43m*\u001b[39;49m\u001b[38;5;241;43m*\u001b[39;49m\u001b[43mtransfer_future\u001b[49m\u001b[38;5;241;43m.\u001b[39;49m\u001b[43mmeta\u001b[49m\u001b[38;5;241;43m.\u001b[39;49m\u001b[43mcall_args\u001b[49m\u001b[38;5;241;43m.\u001b[39;49m\u001b[43mextra_args\u001b[49m\u001b[43m,\u001b[49m\n\u001b[1;32m    358\u001b[0m \u001b[43m    \u001b[49m\u001b[43m)\u001b[49m\n\u001b[1;32m    359\u001b[0m     transfer_future\u001b[38;5;241m.\u001b[39mmeta\u001b[38;5;241m.\u001b[39mprovide_transfer_size(\n\u001b[1;32m    360\u001b[0m         response[\u001b[38;5;124m'\u001b[39m\u001b[38;5;124mContentLength\u001b[39m\u001b[38;5;124m'\u001b[39m]\n\u001b[1;32m    361\u001b[0m     )\n\u001b[1;32m    363\u001b[0m download_output_manager \u001b[38;5;241m=\u001b[39m \u001b[38;5;28mself\u001b[39m\u001b[38;5;241m.\u001b[39m_get_download_output_manager_cls(\n\u001b[1;32m    364\u001b[0m     transfer_future, osutil\n\u001b[1;32m    365\u001b[0m )(osutil, \u001b[38;5;28mself\u001b[39m\u001b[38;5;241m.\u001b[39m_transfer_coordinator, io_executor)\n",
      "File \u001b[0;32m~/anaconda3/envs/python3/lib/python3.10/site-packages/botocore/client.py:530\u001b[0m, in \u001b[0;36mClientCreator._create_api_method.<locals>._api_call\u001b[0;34m(self, *args, **kwargs)\u001b[0m\n\u001b[1;32m    526\u001b[0m     \u001b[38;5;28;01mraise\u001b[39;00m \u001b[38;5;167;01mTypeError\u001b[39;00m(\n\u001b[1;32m    527\u001b[0m         \u001b[38;5;124mf\u001b[39m\u001b[38;5;124m\"\u001b[39m\u001b[38;5;132;01m{\u001b[39;00mpy_operation_name\u001b[38;5;132;01m}\u001b[39;00m\u001b[38;5;124m() only accepts keyword arguments.\u001b[39m\u001b[38;5;124m\"\u001b[39m\n\u001b[1;32m    528\u001b[0m     )\n\u001b[1;32m    529\u001b[0m \u001b[38;5;66;03m# The \"self\" in this scope is referring to the BaseClient.\u001b[39;00m\n\u001b[0;32m--> 530\u001b[0m \u001b[38;5;28;01mreturn\u001b[39;00m \u001b[38;5;28;43mself\u001b[39;49m\u001b[38;5;241;43m.\u001b[39;49m\u001b[43m_make_api_call\u001b[49m\u001b[43m(\u001b[49m\u001b[43moperation_name\u001b[49m\u001b[43m,\u001b[49m\u001b[43m \u001b[49m\u001b[43mkwargs\u001b[49m\u001b[43m)\u001b[49m\n",
      "File \u001b[0;32m~/anaconda3/envs/python3/lib/python3.10/site-packages/botocore/client.py:960\u001b[0m, in \u001b[0;36mBaseClient._make_api_call\u001b[0;34m(self, operation_name, api_params)\u001b[0m\n\u001b[1;32m    958\u001b[0m     error_code \u001b[38;5;241m=\u001b[39m parsed_response\u001b[38;5;241m.\u001b[39mget(\u001b[38;5;124m\"\u001b[39m\u001b[38;5;124mError\u001b[39m\u001b[38;5;124m\"\u001b[39m, {})\u001b[38;5;241m.\u001b[39mget(\u001b[38;5;124m\"\u001b[39m\u001b[38;5;124mCode\u001b[39m\u001b[38;5;124m\"\u001b[39m)\n\u001b[1;32m    959\u001b[0m     error_class \u001b[38;5;241m=\u001b[39m \u001b[38;5;28mself\u001b[39m\u001b[38;5;241m.\u001b[39mexceptions\u001b[38;5;241m.\u001b[39mfrom_code(error_code)\n\u001b[0;32m--> 960\u001b[0m     \u001b[38;5;28;01mraise\u001b[39;00m error_class(parsed_response, operation_name)\n\u001b[1;32m    961\u001b[0m \u001b[38;5;28;01melse\u001b[39;00m:\n\u001b[1;32m    962\u001b[0m     \u001b[38;5;28;01mreturn\u001b[39;00m parsed_response\n",
      "\u001b[0;31mClientError\u001b[0m: An error occurred (404) when calling the HeadObject operation: Not Found"
     ]
    }
   ],
   "source": [
    "key = 'model.tar.gz'\n",
    "model_path = 'Sales/output/' +tuning_job_result[\"BestTrainingJob\"][\"TrainingJobName\"] + \"/output/\" + key\n",
    "print(bucket)\n",
    "print(key)\n",
    "print(model_path)\n",
    "\n",
    "s3_client = boto3.client('s3')\n",
    "s3_client.download_file(bucket, model_path, 'model.tar.gz')\n",
    "print(\"Model for k={} ({})\".format(k, key))\n",
    "!tar -xvf model.tar.gz                       \n",
    "kmeans_model=mx.ndarray.load('model_algo-1')"
   ]
  },
  {
   "cell_type": "code",
   "execution_count": 52,
   "id": "31d5302f-c8f5-4b20-8ece-70dd912307a5",
   "metadata": {
    "tags": []
   },
   "outputs": [],
   "source": [
    "Kmeans_model_params = mx.ndarray.load(\"model_algo-1\")\n",
    "cluster_centroids=pd.DataFrame(Kmeans_model_params[0].asnumpy())"
   ]
  },
  {
   "cell_type": "code",
   "execution_count": 53,
   "id": "91f3e774-91e0-457b-a061-6c1cd5778dd0",
   "metadata": {
    "tags": []
   },
   "outputs": [
    {
     "data": {
      "text/html": [
       "<div>\n",
       "<style scoped>\n",
       "    .dataframe tbody tr th:only-of-type {\n",
       "        vertical-align: middle;\n",
       "    }\n",
       "\n",
       "    .dataframe tbody tr th {\n",
       "        vertical-align: top;\n",
       "    }\n",
       "\n",
       "    .dataframe thead th {\n",
       "        text-align: right;\n",
       "    }\n",
       "</style>\n",
       "<table border=\"1\" class=\"dataframe\">\n",
       "  <thead>\n",
       "    <tr style=\"text-align: right;\">\n",
       "      <th></th>\n",
       "      <th>0</th>\n",
       "      <th>1</th>\n",
       "      <th>2</th>\n",
       "      <th>3</th>\n",
       "      <th>4</th>\n",
       "      <th>5</th>\n",
       "      <th>6</th>\n",
       "      <th>7</th>\n",
       "    </tr>\n",
       "  </thead>\n",
       "  <tbody>\n",
       "    <tr>\n",
       "      <th>0</th>\n",
       "      <td>70.504005</td>\n",
       "      <td>2.864558</td>\n",
       "      <td>12.806023</td>\n",
       "      <td>4.269463</td>\n",
       "      <td>23.289085</td>\n",
       "      <td>7.356380</td>\n",
       "      <td>0.847203</td>\n",
       "      <td>7.820424</td>\n",
       "    </tr>\n",
       "    <tr>\n",
       "      <th>1</th>\n",
       "      <td>31.922159</td>\n",
       "      <td>2.714561</td>\n",
       "      <td>13.312602</td>\n",
       "      <td>6.716116</td>\n",
       "      <td>83.294601</td>\n",
       "      <td>8.821157</td>\n",
       "      <td>0.779339</td>\n",
       "      <td>10.452982</td>\n",
       "    </tr>\n",
       "    <tr>\n",
       "      <th>2</th>\n",
       "      <td>10.575468</td>\n",
       "      <td>2.766989</td>\n",
       "      <td>13.538933</td>\n",
       "      <td>9.402946</td>\n",
       "      <td>49.177708</td>\n",
       "      <td>9.518319</td>\n",
       "      <td>0.506771</td>\n",
       "      <td>11.314034</td>\n",
       "    </tr>\n",
       "    <tr>\n",
       "      <th>3</th>\n",
       "      <td>8.396413</td>\n",
       "      <td>2.695392</td>\n",
       "      <td>13.517118</td>\n",
       "      <td>7.450602</td>\n",
       "      <td>116.923630</td>\n",
       "      <td>8.385681</td>\n",
       "      <td>0.503488</td>\n",
       "      <td>10.642991</td>\n",
       "    </tr>\n",
       "    <tr>\n",
       "      <th>4</th>\n",
       "      <td>35.471256</td>\n",
       "      <td>2.797022</td>\n",
       "      <td>13.300591</td>\n",
       "      <td>6.335332</td>\n",
       "      <td>117.285698</td>\n",
       "      <td>8.655152</td>\n",
       "      <td>0.782252</td>\n",
       "      <td>9.839492</td>\n",
       "    </tr>\n",
       "    <tr>\n",
       "      <th>5</th>\n",
       "      <td>9.311998</td>\n",
       "      <td>2.723423</td>\n",
       "      <td>13.455514</td>\n",
       "      <td>12.630598</td>\n",
       "      <td>21.429165</td>\n",
       "      <td>7.999105</td>\n",
       "      <td>0.540146</td>\n",
       "      <td>8.293481</td>\n",
       "    </tr>\n",
       "    <tr>\n",
       "      <th>6</th>\n",
       "      <td>69.753571</td>\n",
       "      <td>2.805083</td>\n",
       "      <td>12.824765</td>\n",
       "      <td>4.379051</td>\n",
       "      <td>88.212105</td>\n",
       "      <td>7.777079</td>\n",
       "      <td>0.825988</td>\n",
       "      <td>10.744861</td>\n",
       "    </tr>\n",
       "    <tr>\n",
       "      <th>7</th>\n",
       "      <td>8.757397</td>\n",
       "      <td>2.680361</td>\n",
       "      <td>13.489178</td>\n",
       "      <td>25.249523</td>\n",
       "      <td>80.429230</td>\n",
       "      <td>9.094408</td>\n",
       "      <td>0.498075</td>\n",
       "      <td>10.842699</td>\n",
       "    </tr>\n",
       "    <tr>\n",
       "      <th>8</th>\n",
       "      <td>36.068756</td>\n",
       "      <td>2.718799</td>\n",
       "      <td>13.294031</td>\n",
       "      <td>6.544954</td>\n",
       "      <td>26.248043</td>\n",
       "      <td>8.400711</td>\n",
       "      <td>0.790880</td>\n",
       "      <td>8.942739</td>\n",
       "    </tr>\n",
       "    <tr>\n",
       "      <th>9</th>\n",
       "      <td>8.892996</td>\n",
       "      <td>2.657843</td>\n",
       "      <td>13.433278</td>\n",
       "      <td>26.495123</td>\n",
       "      <td>117.409508</td>\n",
       "      <td>9.147008</td>\n",
       "      <td>0.511459</td>\n",
       "      <td>9.178493</td>\n",
       "    </tr>\n",
       "    <tr>\n",
       "      <th>10</th>\n",
       "      <td>7.836460</td>\n",
       "      <td>2.700171</td>\n",
       "      <td>13.543878</td>\n",
       "      <td>6.827414</td>\n",
       "      <td>84.125305</td>\n",
       "      <td>7.737277</td>\n",
       "      <td>0.501375</td>\n",
       "      <td>10.778637</td>\n",
       "    </tr>\n",
       "  </tbody>\n",
       "</table>\n",
       "</div>"
      ],
      "text/plain": [
       "            0         1          2          3           4         5         6  \\\n",
       "0   70.504005  2.864558  12.806023   4.269463   23.289085  7.356380  0.847203   \n",
       "1   31.922159  2.714561  13.312602   6.716116   83.294601  8.821157  0.779339   \n",
       "2   10.575468  2.766989  13.538933   9.402946   49.177708  9.518319  0.506771   \n",
       "3    8.396413  2.695392  13.517118   7.450602  116.923630  8.385681  0.503488   \n",
       "4   35.471256  2.797022  13.300591   6.335332  117.285698  8.655152  0.782252   \n",
       "5    9.311998  2.723423  13.455514  12.630598   21.429165  7.999105  0.540146   \n",
       "6   69.753571  2.805083  12.824765   4.379051   88.212105  7.777079  0.825988   \n",
       "7    8.757397  2.680361  13.489178  25.249523   80.429230  9.094408  0.498075   \n",
       "8   36.068756  2.718799  13.294031   6.544954   26.248043  8.400711  0.790880   \n",
       "9    8.892996  2.657843  13.433278  26.495123  117.409508  9.147008  0.511459   \n",
       "10   7.836460  2.700171  13.543878   6.827414   84.125305  7.737277  0.501375   \n",
       "\n",
       "            7  \n",
       "0    7.820424  \n",
       "1   10.452982  \n",
       "2   11.314034  \n",
       "3   10.642991  \n",
       "4    9.839492  \n",
       "5    8.293481  \n",
       "6   10.744861  \n",
       "7   10.842699  \n",
       "8    8.942739  \n",
       "9    9.178493  \n",
       "10  10.778637  "
      ]
     },
     "execution_count": 53,
     "metadata": {},
     "output_type": "execute_result"
    }
   ],
   "source": [
    "cluster_centroids"
   ]
  },
  {
   "cell_type": "markdown",
   "id": "0d148b4f-4821-4571-aee8-20960c45d953",
   "metadata": {},
   "source": [
    "## Model Response\n",
    "\n",
    "The ability of the model to make predictions not only on a single batch inference but on all the data from the ECommerce dataset is a significant advantage. This feature means that the model can perform predictions on a wide range of data, providing insights into various customer segments and their preferences. Furthermore, when the model is fed with data from the supermarket, it can use the same inference method to make accurate predictions on upcoming customers.\n",
    "\n",
    "This capability of the model is incredibly valuable, as it enables businesses to gain a deep understanding of the different customer segments and tailor their strategies accordingly. By analyzing the data, the model can identify the different characteristics of customers, including their age, gender, income, and location, among other factors. This information can be used to develop targeted marketing campaigns and improve customer experiences.\n",
    "\n",
    "In addition to this, the model's ability to accurately predict the customer segments will enable businesses to optimize their product offerings, pricing, and promotions. By understanding the preferences of different customer segments, businesses can develop products that are tailored to their needs and preferences. This approach will enhance customer loyalty, leading to increased sales and revenue.\n"
   ]
  },
  {
   "cell_type": "markdown",
   "id": "f136bfe9-7869-4cd6-92cd-90b3f1ebe64e",
   "metadata": {},
   "source": [
    "## Model Interface"
   ]
  },
  {
   "cell_type": "code",
   "execution_count": 54,
   "id": "5e4b0476-dc38-42ef-9e7a-55cef506e511",
   "metadata": {
    "tags": []
   },
   "outputs": [
    {
     "name": "stdout",
     "output_type": "stream",
     "text": [
      "Enter payload values (or 'quit' to exit):\n"
     ]
    },
    {
     "name": "stdin",
     "output_type": "stream",
     "text": [
      "Order number:  1\n",
      "Order day of week:  2\n",
      "Order hour of day:  18\n",
      "Days since prior order:  -1\n",
      "Product ID:  17\n",
      "Add to cart order:  1\n",
      "Reordered (0 or 1):  0\n",
      "Department ID:  13\n"
     ]
    },
    {
     "name": "stdout",
     "output_type": "stream",
     "text": [
      "{'predictions': [{'closest_cluster': 2.0, 'distance_to_cluster': 24.20021629333496}]}\n",
      "Enter payload values (or 'quit' to exit):\n"
     ]
    },
    {
     "name": "stdin",
     "output_type": "stream",
     "text": [
      "Order number:  quit\n"
     ]
    }
   ],
   "source": [
    "# Loop until the user enters 'quit'\n",
    "while True:\n",
    "    # Prompt the user to enter the payload values\n",
    "    print(\"Enter payload values (or 'quit' to exit):\")\n",
    "    order_number = input(\"Order number: \")\n",
    "    \n",
    "    # If the user entered 'quit', break out of the loop\n",
    "    if order_number == 'quit':\n",
    "        break\n",
    "    \n",
    "    order_dow = input(\"Order day of week: \")\n",
    "    order_hour_of_day = input(\"Order hour of day: \")\n",
    "    days_since_prior_order = input(\"Days since prior order: \")\n",
    "    product_id = input(\"Product ID: \")\n",
    "    add_to_cart_order = input(\"Add to cart order: \")\n",
    "    reordered = input(\"Reordered (0 or 1): \")\n",
    "    department_id = input(\"Department ID: \")\n",
    "\n",
    "    # Build the payload string using the entered values\n",
    "    runtime = boto3.Session().client('sagemaker-runtime',use_ssl=True)\n",
    "    payload = f\"{order_number},{order_dow},{order_hour_of_day},{days_since_prior_order},{product_id},{add_to_cart_order},{reordered},{department_id}\"\n",
    "\n",
    "    response = runtime.invoke_endpoint(EndpointName=endpoint_name, \n",
    "                                       ContentType='text/csv', \n",
    "                                       Body=payload)\n",
    "    result = json.loads(response['Body'].read())\n",
    "    print(result)"
   ]
  },
  {
   "cell_type": "markdown",
   "id": "3cd0d351-1f64-4a1e-a821-c9dad227da83",
   "metadata": {},
   "source": [
    "## Cleanup"
   ]
  },
  {
   "cell_type": "code",
   "execution_count": null,
   "id": "8436e47f-5d62-4393-8ca1-54c988dfa97d",
   "metadata": {
    "tags": []
   },
   "outputs": [],
   "source": [
    "sagemaker_client.delete_model(ModelName=model_name)"
   ]
  },
  {
   "cell_type": "code",
   "execution_count": null,
   "id": "299413ba-8988-47bc-90c3-41a84c11dc73",
   "metadata": {
    "tags": []
   },
   "outputs": [],
   "source": [
    "sagemaker_client.delete_endpoint_config(EndpointConfigName=endpoint_config_name)"
   ]
  },
  {
   "cell_type": "code",
   "execution_count": null,
   "id": "7619b1df-3941-413e-8d3c-b5cff6df88aa",
   "metadata": {
    "tags": []
   },
   "outputs": [],
   "source": [
    "sagemaker_client.delete_endpoint(EndpointName=endpoint_name)"
   ]
  }
 ],
 "metadata": {
  "kernelspec": {
   "display_name": "conda_python3",
   "language": "python",
   "name": "conda_python3"
  },
  "language_info": {
   "codemirror_mode": {
    "name": "ipython",
    "version": 3
   },
   "file_extension": ".py",
   "mimetype": "text/x-python",
   "name": "python",
   "nbconvert_exporter": "python",
   "pygments_lexer": "ipython3",
   "version": "3.10.8"
  }
 },
 "nbformat": 4,
 "nbformat_minor": 5
}
