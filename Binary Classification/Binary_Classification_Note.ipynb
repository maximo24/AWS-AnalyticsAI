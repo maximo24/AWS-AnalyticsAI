{
 "cells": [
  {
   "cell_type": "markdown",
   "id": "c4dd52f7-c9b7-457b-b6b9-53b753151464",
   "metadata": {},
   "source": [
    "# Limited Run Games Binary Classification"
   ]
  },
  {
   "cell_type": "markdown",
   "id": "65a00b07-4b28-4ea7-89e3-b05af14ff838",
   "metadata": {},
   "source": [
    "## Business Case\n",
    "Limited Run Games is a small video game publishing company that specializes in producing physical copies of video games that were originally only made digital. They operate in the video game industry, which is a rapidly growing market that generated  a record breaking 97.67 billion U.S. dollars in 2022. Limited Run Games operates under a businness to consumer model, targeting fans and collectors of physical video games. The primary product they sell is limited-edition physical copies of digital games, with exclusive content and packaging that appeal to collectors. Limited Run Games fall under the small business category as they have approximately 20-30 employees. Although the company may participate physically at special events, their business is conducted online through their e-commerce website, allowing customers to purchase their products from anywhere in the world. Their website can be found at [limitedrungames.com](https://limitedrungames.com/pages/about-us)"
   ]
  },
  {
   "cell_type": "markdown",
   "id": "95ba3b0a-9fda-4749-911f-4cb01f30562a",
   "metadata": {},
   "source": [
    "### Description\n",
    "The problem I am addressing is the uncertainty surrounding user purchasing behavior. By accurately predicting which users are more likely to purchase a product, Limited Run Games can optimize their marketing efforts and improve their sales performance. This solution will benefit both the company and the customers as it will target users more likely to make a purchase raising more awareness to those who may not previously heard about the company.\n",
    "\n",
    "My goal is to develop a binary classification model that can accurately predict if a user will make a purchase on the Limited Run Games website. The solution will use AWS's supervised learning algorithm linear learner to analyze website visitor data and identify patterns in visitor behavior. I will then use these patterns to predict which visitors are more likely to make a purchase and how we can target more users that will make a purchase.\n",
    "\n",
    "Limited Run Games will use this product by providing previous users data, analytics and how they interacted with the website to the model. The model will then analyze this data and provide predictions on who is mre likely to make a purchase. Limited Run games will use this information to optimize marketing and improve their sales performance."
   ]
  },
  {
   "cell_type": "markdown",
   "id": "b1bf87d8-31dc-474b-b447-5a774ae0ec69",
   "metadata": {},
   "source": [
    "### Value\n",
    "By investing into this binary classification model to predict if a visitor will buy a product or not, Limited Run Games can allocate their resources more effectively, focusing on those visitors with a higher likelihood of conversion. This could lead to an increase in revenue and profitability, as well as better customer satisfaction as visitors would receive more personalized and targeted marketing messages. We can quantify the value of this approach by measuring the conversion rate of visitors predicted to make a purchase versus those that aren't. For example, if the conversion rate is currently at 2% and our model can increase it to 3%, that extra percent represents a 50% increase in conversions.\n",
    "\n",
    "In order to achieve this, Limited Run Games would need to invest in data collection, analytics and marketing to effectively implemetn the model. This could include gathering more data on visitor behavior as well as optimizing marketing campaigns to target the most promising visitors. Implementing the model would also require consistent updates to ensure it remains accurate and effective over time.\n",
    "\n",
    "Investing in this binary classification model has the potential to significantly improve the bottom line and customerr experience of Limited Run Games. By better understanding which visitors are most likely to make a purchase, they can make more informed decisions about where to focus its resources and marketing efforts. This will lead to higher conversion rates, increased revenue, and improved customer satisfaction, driving long-term success for the business. "
   ]
  },
  {
   "cell_type": "markdown",
   "id": "986fe779-082d-408a-a50e-2e5406bf6350",
   "metadata": {
    "tags": []
   },
   "source": [
    "## Data"
   ]
  },
  {
   "cell_type": "code",
   "execution_count": 83,
   "id": "bc033168-788e-418f-9cc0-6bf781da2f1e",
   "metadata": {
    "tags": []
   },
   "outputs": [
    {
     "name": "stdout",
     "output_type": "stream",
     "text": [
      "Note: you may need to restart the kernel to use updated packages.\n",
      "Note: you may need to restart the kernel to use updated packages.\n"
     ]
    }
   ],
   "source": [
    "%pip install -qU --upgrade boto3\n",
    "%pip install -qU --upgrade sagemaker"
   ]
  },
  {
   "cell_type": "code",
   "execution_count": 84,
   "id": "71682854-ef54-4af3-8d1e-df513a0c7c46",
   "metadata": {
    "tags": []
   },
   "outputs": [],
   "source": [
    "import sagemaker\n",
    "from sagemaker import get_execution_role\n",
    "from sagemaker.amazon.amazon_estimator import get_image_uri\n",
    "from sklearn.preprocessing import LabelEncoder\n",
    "from sklearn.preprocessing import OrdinalEncoder\n",
    "import boto3\n",
    "import pandas as pd\n",
    "import numpy as np\n",
    "import seaborn as sns\n",
    "import matplotlib.pyplot as plt\n",
    "import sklearn\n",
    "from sklearn.model_selection import train_test_split\n",
    "from time import gmtime, strftime"
   ]
  },
  {
   "cell_type": "code",
   "execution_count": 85,
   "id": "2f6ea531-797f-4015-bad2-67f8c7ef7562",
   "metadata": {
    "tags": []
   },
   "outputs": [
    {
     "name": "stdout",
     "output_type": "stream",
     "text": [
      "The role is  arn:aws:iam::035791914788:role/LabRole\n",
      "The session is  <sagemaker.session.Session object at 0x7fc008c85110>\n",
      "The region is  us-east-1\n",
      "The bucket is  sagemaker-us-east-1-035791914788\n"
     ]
    }
   ],
   "source": [
    "role = get_execution_role()\n",
    "sess = sagemaker.Session() \n",
    "region = sess.boto_session.region_name\n",
    "bucket = sess.default_bucket()\n",
    "print(\"The role is \", role)\n",
    "print(\"The session is \", sess)\n",
    "print(\"The region is \", region)\n",
    "print(\"The bucket is \", bucket)"
   ]
  },
  {
   "cell_type": "markdown",
   "id": "971eee50-d1dd-4809-ada2-d61a1d6adef0",
   "metadata": {
    "tags": []
   },
   "source": [
    "## Data Description - I will be using Linear Learner to make predictions based on the online shopper interntion dataset\n",
    "\n",
    "The online shopper intention dataset [https://archive.ics.uci.edu/ml/machine-learning-databases/00468/] from UCI was collected to understand the factors that influence visitor purchasing decision on an e-commerce website.\n",
    "The following describes the dataset columns:\n",
    "\n",
    "* Administrative - The number of administrative pages that the user visited.\n",
    "* Administrative_Duration - The amount of time spent on administrative pages.\n",
    "* Informational - The number of informational pages the user visited.\n",
    "* Informational_Duration - The amount of time spent on informational pages.\n",
    "* ProductRelated - The number of product related pages the user visited.\n",
    "* ProductRelated_Duration - The amount of time spent on product related pages.\n",
    "* BounceRates - The percentage of visitors who enter through that page and exit without triggering additional tasks.\n",
    "* ExitRates - Percentage of pageviews on the website that end at that specific page.\n",
    "* PageValues - The average value for a page visited by a user before landing on the goal page or completing an Ecommerce transaction.\n",
    "* SpecialDay - Measures how close the date of a site visit is to a special day (Christmas, Valentine's Day...).\n",
    "* Month - The month the user visited the website.\n",
    "* OperatingSystems - Integer value representing the operating system the user was on when viewing the page.\n",
    "* Browser - Integer value representing the browser that the user was using to view the page.\n",
    "* Region - Integer value representing which region the user is located in.\n",
    "* TrafficType - Integer value representing what type of traffic the user is categorized into.\n",
    "* VisitorType - Checks whether a visitor is a returning visitor, new visitor or other.\n",
    "* Weekend - Boolean that represents if the user session is on a weekend.\n",
    "* Revenue - Boolean that represents is the user made a purchase or not.\n",
    " \n",
    "For the proof of concept, the data will be used to develop a binary classification model that predicts if a website visitor is likely to make a purchase or not based on their behaviour while on the website. The model will help Limited Run Games identify the best features and marketing strategies in driving sales and revenue.\n",
    "\n",
    "The dataset used will be very similar to the data needed for Limited Run Games solution. However, they will need to update the current dataset of online shopper intention with their own.\n",
    "\n",
    "I recommend they add more user behavior columns tailored to their company and update the datasets in real time to consistently optimize the accuracy of the model."
   ]
  },
  {
   "cell_type": "markdown",
   "id": "3f225273-4dc3-45f3-a1a1-6c0352cb28c4",
   "metadata": {},
   "source": [
    "## Data exploration"
   ]
  },
  {
   "cell_type": "code",
   "execution_count": 86,
   "id": "b0796052-a54e-4634-afbb-ef0a56c3525d",
   "metadata": {
    "tags": []
   },
   "outputs": [],
   "source": [
    "# Read in the data from the games csv\n",
    "\n",
    "shop_data = pd.read_csv('online_shoppers_intention.csv')\n",
    "\n",
    "# Removing the administrative and administrative duration columns\n",
    "\n",
    "del shop_data['Administrative']\n",
    "del shop_data['Administrative_Duration']"
   ]
  },
  {
   "cell_type": "markdown",
   "id": "f860d750-314a-412e-90a0-3c2cf433155e",
   "metadata": {},
   "source": [
    "Here I opened the online shoppers intention csv and deleted the administrative columns as the site admins will not be factored in when predicting if a user will make a sale."
   ]
  },
  {
   "cell_type": "code",
   "execution_count": 87,
   "id": "c2b0db95-a13f-4a93-b27e-16d41c761c49",
   "metadata": {
    "tags": []
   },
   "outputs": [],
   "source": [
    "# Need to move the Revenue column to the front since linear learner assumns the first column is the target variable\n",
    "\n",
    "new_columns = ['Revenue','Informational','Informational_Duration','ProductRelated','ProductRelated_Duration','BounceRates','ExitRates','PageValues','SpecialDay','Month','OperatingSystems','Browser','Region','TrafficType','VisitorType','Weekend']\n",
    "shop_data = shop_data.reindex(columns=new_columns)"
   ]
  },
  {
   "cell_type": "markdown",
   "id": "1b8e28ca-149b-408f-bd08-a481ae5e6ae4",
   "metadata": {},
   "source": [
    "#### Binary encoding the Revenue is 1 and False is 0"
   ]
  },
  {
   "cell_type": "code",
   "execution_count": 88,
   "id": "6b91d3d8-9620-434f-adbf-987152977df5",
   "metadata": {
    "tags": []
   },
   "outputs": [],
   "source": [
    "labelencoder = LabelEncoder()\n",
    "shop_data['Revenue'] = labelencoder.fit_transform(shop_data['Revenue'])\n",
    "\n",
    "labelencoder = LabelEncoder()\n",
    "shop_data['Weekend'] = labelencoder.fit_transform(shop_data['Weekend'])"
   ]
  },
  {
   "cell_type": "code",
   "execution_count": 89,
   "id": "1b045b38-e6fc-4666-9faa-e9093aaf4d0b",
   "metadata": {
    "tags": []
   },
   "outputs": [
    {
     "data": {
      "text/html": [
       "<div>\n",
       "<style scoped>\n",
       "    .dataframe tbody tr th:only-of-type {\n",
       "        vertical-align: middle;\n",
       "    }\n",
       "\n",
       "    .dataframe tbody tr th {\n",
       "        vertical-align: top;\n",
       "    }\n",
       "\n",
       "    .dataframe thead th {\n",
       "        text-align: right;\n",
       "    }\n",
       "</style>\n",
       "<table border=\"1\" class=\"dataframe\">\n",
       "  <thead>\n",
       "    <tr style=\"text-align: right;\">\n",
       "      <th></th>\n",
       "      <th>Revenue</th>\n",
       "      <th>Informational</th>\n",
       "      <th>Informational_Duration</th>\n",
       "      <th>ProductRelated</th>\n",
       "      <th>ProductRelated_Duration</th>\n",
       "      <th>BounceRates</th>\n",
       "      <th>ExitRates</th>\n",
       "      <th>PageValues</th>\n",
       "      <th>SpecialDay</th>\n",
       "      <th>Month</th>\n",
       "      <th>OperatingSystems</th>\n",
       "      <th>Browser</th>\n",
       "      <th>Region</th>\n",
       "      <th>TrafficType</th>\n",
       "      <th>VisitorType</th>\n",
       "      <th>Weekend</th>\n",
       "    </tr>\n",
       "  </thead>\n",
       "  <tbody>\n",
       "    <tr>\n",
       "      <th>0</th>\n",
       "      <td>0</td>\n",
       "      <td>0</td>\n",
       "      <td>0.0</td>\n",
       "      <td>1</td>\n",
       "      <td>0.000000</td>\n",
       "      <td>0.20</td>\n",
       "      <td>0.20</td>\n",
       "      <td>0.0</td>\n",
       "      <td>0.0</td>\n",
       "      <td>Feb</td>\n",
       "      <td>1</td>\n",
       "      <td>1</td>\n",
       "      <td>1</td>\n",
       "      <td>1</td>\n",
       "      <td>Returning_Visitor</td>\n",
       "      <td>0</td>\n",
       "    </tr>\n",
       "    <tr>\n",
       "      <th>1</th>\n",
       "      <td>0</td>\n",
       "      <td>0</td>\n",
       "      <td>0.0</td>\n",
       "      <td>2</td>\n",
       "      <td>64.000000</td>\n",
       "      <td>0.00</td>\n",
       "      <td>0.10</td>\n",
       "      <td>0.0</td>\n",
       "      <td>0.0</td>\n",
       "      <td>Feb</td>\n",
       "      <td>2</td>\n",
       "      <td>2</td>\n",
       "      <td>1</td>\n",
       "      <td>2</td>\n",
       "      <td>Returning_Visitor</td>\n",
       "      <td>0</td>\n",
       "    </tr>\n",
       "    <tr>\n",
       "      <th>2</th>\n",
       "      <td>0</td>\n",
       "      <td>0</td>\n",
       "      <td>0.0</td>\n",
       "      <td>1</td>\n",
       "      <td>0.000000</td>\n",
       "      <td>0.20</td>\n",
       "      <td>0.20</td>\n",
       "      <td>0.0</td>\n",
       "      <td>0.0</td>\n",
       "      <td>Feb</td>\n",
       "      <td>4</td>\n",
       "      <td>1</td>\n",
       "      <td>9</td>\n",
       "      <td>3</td>\n",
       "      <td>Returning_Visitor</td>\n",
       "      <td>0</td>\n",
       "    </tr>\n",
       "    <tr>\n",
       "      <th>3</th>\n",
       "      <td>0</td>\n",
       "      <td>0</td>\n",
       "      <td>0.0</td>\n",
       "      <td>2</td>\n",
       "      <td>2.666667</td>\n",
       "      <td>0.05</td>\n",
       "      <td>0.14</td>\n",
       "      <td>0.0</td>\n",
       "      <td>0.0</td>\n",
       "      <td>Feb</td>\n",
       "      <td>3</td>\n",
       "      <td>2</td>\n",
       "      <td>2</td>\n",
       "      <td>4</td>\n",
       "      <td>Returning_Visitor</td>\n",
       "      <td>0</td>\n",
       "    </tr>\n",
       "    <tr>\n",
       "      <th>4</th>\n",
       "      <td>0</td>\n",
       "      <td>0</td>\n",
       "      <td>0.0</td>\n",
       "      <td>10</td>\n",
       "      <td>627.500000</td>\n",
       "      <td>0.02</td>\n",
       "      <td>0.05</td>\n",
       "      <td>0.0</td>\n",
       "      <td>0.0</td>\n",
       "      <td>Feb</td>\n",
       "      <td>3</td>\n",
       "      <td>3</td>\n",
       "      <td>1</td>\n",
       "      <td>4</td>\n",
       "      <td>Returning_Visitor</td>\n",
       "      <td>1</td>\n",
       "    </tr>\n",
       "  </tbody>\n",
       "</table>\n",
       "</div>"
      ],
      "text/plain": [
       "   Revenue  Informational  Informational_Duration  ProductRelated  \\\n",
       "0        0              0                     0.0               1   \n",
       "1        0              0                     0.0               2   \n",
       "2        0              0                     0.0               1   \n",
       "3        0              0                     0.0               2   \n",
       "4        0              0                     0.0              10   \n",
       "\n",
       "   ProductRelated_Duration  BounceRates  ExitRates  PageValues  SpecialDay  \\\n",
       "0                 0.000000         0.20       0.20         0.0         0.0   \n",
       "1                64.000000         0.00       0.10         0.0         0.0   \n",
       "2                 0.000000         0.20       0.20         0.0         0.0   \n",
       "3                 2.666667         0.05       0.14         0.0         0.0   \n",
       "4               627.500000         0.02       0.05         0.0         0.0   \n",
       "\n",
       "  Month  OperatingSystems  Browser  Region  TrafficType        VisitorType  \\\n",
       "0   Feb                 1        1       1            1  Returning_Visitor   \n",
       "1   Feb                 2        2       1            2  Returning_Visitor   \n",
       "2   Feb                 4        1       9            3  Returning_Visitor   \n",
       "3   Feb                 3        2       2            4  Returning_Visitor   \n",
       "4   Feb                 3        3       1            4  Returning_Visitor   \n",
       "\n",
       "   Weekend  \n",
       "0        0  \n",
       "1        0  \n",
       "2        0  \n",
       "3        0  \n",
       "4        1  "
      ]
     },
     "execution_count": 89,
     "metadata": {},
     "output_type": "execute_result"
    }
   ],
   "source": [
    "#### Label encoding the month and weekend column\n",
    "\n",
    "shop_data['Month'].unique()\n",
    "shop_data.head()"
   ]
  },
  {
   "cell_type": "markdown",
   "id": "5045eb03-86fa-4fc0-ae1b-3cbd9e9d0aa0",
   "metadata": {},
   "source": [
    "#### Label encoding the months and visitor type"
   ]
  },
  {
   "cell_type": "code",
   "execution_count": 90,
   "id": "c4d1d917-a969-4299-9df2-8ed4124732b0",
   "metadata": {
    "tags": []
   },
   "outputs": [],
   "source": [
    "ordinalencoder = OrdinalEncoder(categories=[[\"Jan\", \"Feb\", \"Mar\", \"Apr\", \"May\", \"June\", \"Jul\", \"Aug\", \"Sep\", \"Oct\", \"Nov\", \"Dec\" ]])\n",
    "\n",
    "shop_data['Month'] = ordinalencoder.fit_transform(shop_data[['Month']])"
   ]
  },
  {
   "cell_type": "code",
   "execution_count": 91,
   "id": "8900d753-dce8-4013-b40f-839d6f3d0b99",
   "metadata": {
    "tags": []
   },
   "outputs": [],
   "source": [
    "ordinalencoder2 = OrdinalEncoder(categories=[[\"Returning_Visitor\", \"New_Visitor\", \"Other\"]])\n",
    "\n",
    "shop_data['VisitorType'] = ordinalencoder2.fit_transform(shop_data[['VisitorType']])"
   ]
  },
  {
   "cell_type": "code",
   "execution_count": 92,
   "id": "cbde8573-26cf-48bd-9a3c-23e5e304a334",
   "metadata": {
    "tags": []
   },
   "outputs": [
    {
     "name": "stdout",
     "output_type": "stream",
     "text": [
      "The data collected is over the span of a year so as one can expect, the csv holds lots of data. The file has 12330 visitor sessions recorded!\n"
     ]
    }
   ],
   "source": [
    "# Printing the number of rows\n",
    "\n",
    "print(f'The data collected is over the span of a year so as one can expect, the csv holds lots of data. The file has {shop_data.shape[0]} visitor sessions recorded!')"
   ]
  },
  {
   "cell_type": "code",
   "execution_count": 93,
   "id": "33bca97e-1573-4088-a69a-d4a3cae2dbdb",
   "metadata": {
    "tags": []
   },
   "outputs": [
    {
     "data": {
      "text/html": [
       "<div>\n",
       "<style scoped>\n",
       "    .dataframe tbody tr th:only-of-type {\n",
       "        vertical-align: middle;\n",
       "    }\n",
       "\n",
       "    .dataframe tbody tr th {\n",
       "        vertical-align: top;\n",
       "    }\n",
       "\n",
       "    .dataframe thead th {\n",
       "        text-align: right;\n",
       "    }\n",
       "</style>\n",
       "<table border=\"1\" class=\"dataframe\">\n",
       "  <thead>\n",
       "    <tr style=\"text-align: right;\">\n",
       "      <th></th>\n",
       "      <th>Revenue</th>\n",
       "      <th>Informational</th>\n",
       "      <th>Informational_Duration</th>\n",
       "      <th>ProductRelated</th>\n",
       "      <th>ProductRelated_Duration</th>\n",
       "      <th>BounceRates</th>\n",
       "      <th>ExitRates</th>\n",
       "      <th>PageValues</th>\n",
       "      <th>SpecialDay</th>\n",
       "      <th>Month</th>\n",
       "      <th>OperatingSystems</th>\n",
       "      <th>Browser</th>\n",
       "      <th>Region</th>\n",
       "      <th>TrafficType</th>\n",
       "      <th>VisitorType</th>\n",
       "      <th>Weekend</th>\n",
       "    </tr>\n",
       "  </thead>\n",
       "  <tbody>\n",
       "    <tr>\n",
       "      <th>0</th>\n",
       "      <td>0</td>\n",
       "      <td>0</td>\n",
       "      <td>0.0</td>\n",
       "      <td>1</td>\n",
       "      <td>0.000000</td>\n",
       "      <td>0.20</td>\n",
       "      <td>0.20</td>\n",
       "      <td>0.0</td>\n",
       "      <td>0.0</td>\n",
       "      <td>1.0</td>\n",
       "      <td>1</td>\n",
       "      <td>1</td>\n",
       "      <td>1</td>\n",
       "      <td>1</td>\n",
       "      <td>0.0</td>\n",
       "      <td>0</td>\n",
       "    </tr>\n",
       "    <tr>\n",
       "      <th>1</th>\n",
       "      <td>0</td>\n",
       "      <td>0</td>\n",
       "      <td>0.0</td>\n",
       "      <td>2</td>\n",
       "      <td>64.000000</td>\n",
       "      <td>0.00</td>\n",
       "      <td>0.10</td>\n",
       "      <td>0.0</td>\n",
       "      <td>0.0</td>\n",
       "      <td>1.0</td>\n",
       "      <td>2</td>\n",
       "      <td>2</td>\n",
       "      <td>1</td>\n",
       "      <td>2</td>\n",
       "      <td>0.0</td>\n",
       "      <td>0</td>\n",
       "    </tr>\n",
       "    <tr>\n",
       "      <th>2</th>\n",
       "      <td>0</td>\n",
       "      <td>0</td>\n",
       "      <td>0.0</td>\n",
       "      <td>1</td>\n",
       "      <td>0.000000</td>\n",
       "      <td>0.20</td>\n",
       "      <td>0.20</td>\n",
       "      <td>0.0</td>\n",
       "      <td>0.0</td>\n",
       "      <td>1.0</td>\n",
       "      <td>4</td>\n",
       "      <td>1</td>\n",
       "      <td>9</td>\n",
       "      <td>3</td>\n",
       "      <td>0.0</td>\n",
       "      <td>0</td>\n",
       "    </tr>\n",
       "    <tr>\n",
       "      <th>3</th>\n",
       "      <td>0</td>\n",
       "      <td>0</td>\n",
       "      <td>0.0</td>\n",
       "      <td>2</td>\n",
       "      <td>2.666667</td>\n",
       "      <td>0.05</td>\n",
       "      <td>0.14</td>\n",
       "      <td>0.0</td>\n",
       "      <td>0.0</td>\n",
       "      <td>1.0</td>\n",
       "      <td>3</td>\n",
       "      <td>2</td>\n",
       "      <td>2</td>\n",
       "      <td>4</td>\n",
       "      <td>0.0</td>\n",
       "      <td>0</td>\n",
       "    </tr>\n",
       "    <tr>\n",
       "      <th>4</th>\n",
       "      <td>0</td>\n",
       "      <td>0</td>\n",
       "      <td>0.0</td>\n",
       "      <td>10</td>\n",
       "      <td>627.500000</td>\n",
       "      <td>0.02</td>\n",
       "      <td>0.05</td>\n",
       "      <td>0.0</td>\n",
       "      <td>0.0</td>\n",
       "      <td>1.0</td>\n",
       "      <td>3</td>\n",
       "      <td>3</td>\n",
       "      <td>1</td>\n",
       "      <td>4</td>\n",
       "      <td>0.0</td>\n",
       "      <td>1</td>\n",
       "    </tr>\n",
       "  </tbody>\n",
       "</table>\n",
       "</div>"
      ],
      "text/plain": [
       "   Revenue  Informational  Informational_Duration  ProductRelated  \\\n",
       "0        0              0                     0.0               1   \n",
       "1        0              0                     0.0               2   \n",
       "2        0              0                     0.0               1   \n",
       "3        0              0                     0.0               2   \n",
       "4        0              0                     0.0              10   \n",
       "\n",
       "   ProductRelated_Duration  BounceRates  ExitRates  PageValues  SpecialDay  \\\n",
       "0                 0.000000         0.20       0.20         0.0         0.0   \n",
       "1                64.000000         0.00       0.10         0.0         0.0   \n",
       "2                 0.000000         0.20       0.20         0.0         0.0   \n",
       "3                 2.666667         0.05       0.14         0.0         0.0   \n",
       "4               627.500000         0.02       0.05         0.0         0.0   \n",
       "\n",
       "   Month  OperatingSystems  Browser  Region  TrafficType  VisitorType  Weekend  \n",
       "0    1.0                 1        1       1            1          0.0        0  \n",
       "1    1.0                 2        2       1            2          0.0        0  \n",
       "2    1.0                 4        1       9            3          0.0        0  \n",
       "3    1.0                 3        2       2            4          0.0        0  \n",
       "4    1.0                 3        3       1            4          0.0        1  "
      ]
     },
     "execution_count": 93,
     "metadata": {},
     "output_type": "execute_result"
    }
   ],
   "source": [
    "shop_data.head()"
   ]
  },
  {
   "cell_type": "code",
   "execution_count": 94,
   "id": "80d7abd9-f2da-4c60-93de-eba4f6c2a8ed",
   "metadata": {
    "tags": []
   },
   "outputs": [
    {
     "data": {
      "text/plain": [
       "Revenue                    0\n",
       "Informational              0\n",
       "Informational_Duration     0\n",
       "ProductRelated             0\n",
       "ProductRelated_Duration    0\n",
       "BounceRates                0\n",
       "ExitRates                  0\n",
       "PageValues                 0\n",
       "SpecialDay                 0\n",
       "Month                      0\n",
       "OperatingSystems           0\n",
       "Browser                    0\n",
       "Region                     0\n",
       "TrafficType                0\n",
       "VisitorType                0\n",
       "Weekend                    0\n",
       "dtype: int64"
      ]
     },
     "execution_count": 94,
     "metadata": {},
     "output_type": "execute_result"
    }
   ],
   "source": [
    "# Checking to see if there are any missing values\n",
    "\n",
    "shop_data.isnull().sum()"
   ]
  },
  {
   "cell_type": "markdown",
   "id": "a94cbd85-b3a5-4d80-9096-851b8450b459",
   "metadata": {
    "tags": []
   },
   "source": [
    "#### Boxplot"
   ]
  },
  {
   "cell_type": "code",
   "execution_count": 95,
   "id": "3cfa1216-974c-462f-b082-e83e958ad3dd",
   "metadata": {
    "tags": []
   },
   "outputs": [
    {
     "data": {
      "image/png": "[encoded data removed]",
      "text/plain": [
       "<Figure size 640x480 with 1 Axes>"
      ]
     },
     "metadata": {},
     "output_type": "display_data"
    }
   ],
   "source": [
    "sns.boxplot(x='Month', y='ExitRates', data=shop_data)\n",
    "plt.xlabel('Month')\n",
    "plt.ylabel('Exit Rates')\n",
    "plt.title('Boxplot comparison of exit rates by month')\n",
    "plt.show()"
   ]
  },
  {
   "cell_type": "markdown",
   "id": "24f7ecc7-5393-443b-ae44-722e5813e57c",
   "metadata": {},
   "source": [
    "Here we can see that the median exit rate is at its highest in February and lowest in October. This means that visitors are more likely to leave the website in February than other months."
   ]
  },
  {
   "cell_type": "markdown",
   "id": "e7eea0c0-4d30-4721-b30d-904ef82bcce9",
   "metadata": {
    "tags": []
   },
   "source": [
    "#### Scatter plot"
   ]
  },
  {
   "cell_type": "code",
   "execution_count": 96,
   "id": "032e73c4-cdf1-49a6-9e1a-26a930d7db34",
   "metadata": {
    "tags": []
   },
   "outputs": [
    {
     "data": {
      "image/png": "[encoded data removed]",
      "text/plain": [
       "<Figure size 640x480 with 1 Axes>"
      ]
     },
     "metadata": {},
     "output_type": "display_data"
    }
   ],
   "source": [
    "plt.scatter(shop_data['ProductRelated_Duration'], shop_data['ProductRelated'])\n",
    "plt.xlabel('Product Related Duration')\n",
    "plt.ylabel('Product Related')\n",
    "plt.title('Relationship between Product Related Duration and Product Related')\n",
    "plt.show()"
   ]
  },
  {
   "cell_type": "markdown",
   "id": "a9848303-07f3-408c-9121-0bb4cc956ebf",
   "metadata": {
    "tags": []
   },
   "source": [
    "Here we see that their is a positive relationship between the duration of product related pages visited and the number of product related pages visited which makes sense because the more product pages you visit, the more time you are likely to spend on them."
   ]
  },
  {
   "cell_type": "markdown",
   "id": "cdebdd0b-36a4-4141-961a-380e63081072",
   "metadata": {},
   "source": [
    "#### Stacked bar chart\n",
    "\n",
    "Here I will use a scatter plot between two values to see if there is any correlation between the values. Let's see if there is a correlation between a teams field goal percentage and final score..."
   ]
  },
  {
   "cell_type": "code",
   "execution_count": 97,
   "id": "c5ab5333-aff9-4b2e-a14b-e1f612b1f74e",
   "metadata": {
    "tags": []
   },
   "outputs": [
    {
     "data": {
      "image/png": "[encoded data removed]",
      "text/plain": [
       "<Figure size 640x480 with 1 Axes>"
      ]
     },
     "metadata": {},
     "output_type": "display_data"
    }
   ],
   "source": [
    "os_revenue = shop_data.groupby(['Region', 'Revenue']).size().unstack()\n",
    "os_revenue.plot(kind='bar', stacked=True)\n",
    "plt.xlabel('Region')\n",
    "plt.ylabel('Count')\n",
    "plt.title('Stacked bar chart comparison of region and revenue')\n",
    "plt.show()"
   ]
  },
  {
   "cell_type": "markdown",
   "id": "ebd2532f-560d-42ee-9f8c-852a765edebb",
   "metadata": {},
   "source": [
    "This shows we have visitors from over 9 regions and region 1 is the most common region with the most revenue and non-revenue visits whereas region 5 has the least amount of revenue and non-revenue visits. "
   ]
  },
  {
   "cell_type": "markdown",
   "id": "02b02160-668f-4df4-8812-13379b6a76dc",
   "metadata": {},
   "source": [
    "# Split data into testing and training"
   ]
  },
  {
   "cell_type": "code",
   "execution_count": 98,
   "id": "a7954398-a2b5-4e34-b513-67876001bde2",
   "metadata": {
    "tags": []
   },
   "outputs": [],
   "source": [
    "# Shuffle and Split the data into 80% training and 20% testing\n",
    "\n",
    "train_data, test_data = train_test_split(shop_data, test_size=0.2)\n",
    "\n",
    "# Convert dataframes to back to CSV files and save them locally to the notebook and make sure to exclude the headers so taht Linear Learner will accept the file\n",
    "\n",
    "train_data.to_csv('train.csv', header=False, index=False)\n",
    "test_data.to_csv('test.csv', header=False, index=False)"
   ]
  },
  {
   "cell_type": "code",
   "execution_count": 99,
   "id": "a111b28f-6786-4a7b-89e9-adee74deb52e",
   "metadata": {
    "tags": []
   },
   "outputs": [
    {
     "name": "stdout",
     "output_type": "stream",
     "text": [
      "s3://sagemaker-us-east-1-035791914788/shop/train/train.csv\n",
      "s3://sagemaker-us-east-1-035791914788/shop/test/test.csv\n",
      "s3://sagemaker-us-east-1-035791914788/shop/output\n"
     ]
    }
   ],
   "source": [
    "# Copy the file to your S3 bucket using sess.upload_data\n",
    "# You will need to pass the file to be uploaded, a prefix (top level folder to store the data) and the subfolders\n",
    "# Here we will also define the output folder for the results\n",
    "\n",
    "prefix = 'shop'\n",
    "training_data_path = sess.upload_data( path='train.csv', key_prefix=prefix + '/train') \n",
    "testing_data_path = sess.upload_data( path='test.csv', key_prefix=prefix + '/test')\n",
    "output_data_path = 's3://{}/{}/output'.format(bucket, prefix)\n",
    "print(training_data_path)\n",
    "print(testing_data_path)\n",
    "print(output_data_path)"
   ]
  },
  {
   "cell_type": "markdown",
   "id": "83052fff-b8c9-409d-aeb8-7f442970d4f6",
   "metadata": {},
   "source": [
    "# Training"
   ]
  },
  {
   "cell_type": "markdown",
   "id": "57ef4a53-e23e-4987-a337-04afac6ec997",
   "metadata": {},
   "source": [
    "Supervised learning is a type of machine learning where an algorithm learns from labled data to make predictions on new data. It involves a supervised process of training model using input features and corresponding output labels where the algorithm learns to map the input features to the output labels.\n",
    "\n",
    "In the context of the dataset we are using, the problem is to predict if a website visitor will make a purchase or not, which is a binary classification problem. So therefore I will use the binary classification approach of supervised learning to train a model to make predictions. I wil use linear learner which is a type of linear model that can be used for binary classification tasks. It is relevant for this problem because it is a simple and efficient model that can handle large datasets.The model will determine based on the given dataset if a new visitor with new behaviors and variables will be likely to purchase a product given user history."
   ]
  },
  {
   "cell_type": "code",
   "execution_count": 100,
   "id": "6706dc0d-63e6-4a4b-8918-004494c716ae",
   "metadata": {
    "tags": []
   },
   "outputs": [
    {
     "name": "stderr",
     "output_type": "stream",
     "text": [
      "INFO:sagemaker.image_uris:Same images used for training and inference. Defaulting to image scope: inference.\n",
      "INFO:sagemaker.image_uris:Defaulting to the only supported framework/algorithm version: 1.\n",
      "INFO:sagemaker.image_uris:Ignoring unnecessary instance type: None.\n"
     ]
    }
   ],
   "source": [
    "# specify containers\n",
    "\n",
    "from sagemaker.image_uris import retrieve\n",
    "\n",
    "\n",
    "# List of frameworks that can be retrieved https://sagemaker.readthedocs.io/en/stable/frameworks/index.html\n",
    "# list of Built-in Algorithms that can be retrieved https://sagemaker.readthedocs.io/en/stable/algorithms/index.html\n",
    "\n",
    "container = retrieve('linear-learner', region)"
   ]
  },
  {
   "cell_type": "code",
   "execution_count": 101,
   "id": "8e500213-8054-4764-bf04-d5969c77285c",
   "metadata": {
    "tags": []
   },
   "outputs": [],
   "source": [
    "# Amazon Estimator Documentation https://sagemaker.readthedocs.io/en/stable/algorithms/sagemaker.amazon.amazon_estimator.html\n",
    "\n",
    "from sagemaker.estimator import Estimator \n",
    "ll_estimator = Estimator(container, \n",
    "                         role=role, \n",
    "                         instance_count=1, \n",
    "                         instance_type='ml.c4.xlarge', \n",
    "                         output_path=output_data_path)"
   ]
  },
  {
   "cell_type": "code",
   "execution_count": 102,
   "id": "a09b00a8-253d-4443-b35f-f18e11596d9d",
   "metadata": {
    "tags": []
   },
   "outputs": [],
   "source": [
    "# Set the linear learner hyperparameters\n",
    "# hyperparameters can be found here https://docs.aws.amazon.com/sagemaker/latest/dg/ll_hyperparameters.html\n",
    "# Here we will use the Hyperameter values for \n",
    "\n",
    "\n",
    "ll_estimator.set_hyperparameters(predictor_type='binary_classifier')"
   ]
  },
  {
   "cell_type": "code",
   "execution_count": 103,
   "id": "d21b8720-e3ea-4248-95cb-6a3077b5501e",
   "metadata": {
    "tags": []
   },
   "outputs": [],
   "source": [
    "# Creating a channel from the S3 data source and file system\n",
    "\n",
    "from sagemaker import TrainingInput \n",
    "training_data_channel = TrainingInput( s3_data=training_data_path, content_type='text/csv') \n",
    "testing_data_channel = TrainingInput( s3_data=testing_data_path, content_type='text/csv') "
   ]
  },
  {
   "cell_type": "markdown",
   "id": "f54d5b67-7fae-45d1-8204-e80755f99fb9",
   "metadata": {},
   "source": [
    "### Find best hyperparameters"
   ]
  },
  {
   "cell_type": "code",
   "execution_count": 104,
   "id": "fcf05779-03e3-419b-8192-5eb1f5e29469",
   "metadata": {
    "tags": []
   },
   "outputs": [],
   "source": [
    "# Hyperparameters = https://docs.aws.amazon.com/sagemaker/latest/dg/ll_hyperparameters.html\n",
    "# Objectives = https://docs.aws.amazon.com/sagemaker/latest/dg/linear-learner-tuning.html\n",
    "\n",
    "from sagemaker.tuner import IntegerParameter, CategoricalParameter, ContinuousParameter, HyperparameterTuner\n",
    "\n",
    "hypertuner = HyperparameterTuner(ll_estimator, \n",
    "                                 objective_metric_name = 'test:binary_classification_accuracy',\n",
    "                                 hyperparameter_ranges = {\n",
    "                                 'learning_rate' : ContinuousParameter(0.01, 0.1),\n",
    "                                 'mini_batch_size': CategoricalParameter([32,64,128,256,512])},\n",
    "                                 objective_type = 'Maximize',\n",
    "                                 metric_definitions = [{'Name': 'test:binary_classification_accuracy', 'Regex': 'loss (\\S+)'}],\n",
    "                                 max_jobs=10, \n",
    "                                 max_parallel_jobs=1\n",
    "                                )"
   ]
  },
  {
   "cell_type": "code",
   "execution_count": 105,
   "id": "e6164c18-6e02-49b9-a261-3b153248aa9d",
   "metadata": {
    "tags": []
   },
   "outputs": [
    {
     "name": "stderr",
     "output_type": "stream",
     "text": [
      "WARNING:sagemaker.estimator:No finished training job found associated with this estimator. Please make sure this estimator is only used for building workflow config\n",
      "WARNING:sagemaker.estimator:No finished training job found associated with this estimator. Please make sure this estimator is only used for building workflow config\n",
      "INFO:sagemaker:Creating hyperparameter tuning job with name: linear-learner-230309-0433\n"
     ]
    },
    {
     "name": "stdout",
     "output_type": "stream",
     "text": [
      "........................................................................................................................................................................!\n"
     ]
    }
   ],
   "source": [
    "hypertuner.fit( {'train': training_data_channel, 'test': testing_data_channel})"
   ]
  },
  {
   "cell_type": "code",
   "execution_count": 106,
   "id": "9772127b-e204-4c60-8c4d-fe36c492d7ca",
   "metadata": {
    "tags": []
   },
   "outputs": [
    {
     "name": "stdout",
     "output_type": "stream",
     "text": [
      "Best hyerparameter tuning job:linear-learner-230309-0433-001-d56a4d53\n",
      "\n",
      "2023-03-09 04:38:02 Starting - Preparing the instances for training\n",
      "2023-03-09 04:38:02 Downloading - Downloading input data\n",
      "2023-03-09 04:38:02 Training - Training image download completed. Training in progress.\n",
      "2023-03-09 04:38:02 Uploading - Uploading generated training model\n",
      "2023-03-09 04:38:02 Completed - Resource reused by training job: linear-learner-230309-0433-002-ed9e23df\n",
      "Best parameters found={'_tuning_objective_metric': 'test:binary_classification_accuracy', 'learning_rate': '0.07784235498972855', 'mini_batch_size': '32', 'predictor_type': 'binary_classifier'}\n"
     ]
    }
   ],
   "source": [
    "print(\"Best hyerparameter tuning job:{}\".format(hypertuner.best_training_job()))\n",
    "print(\"Best parameters found={}\".format(hypertuner.best_estimator().hyperparameters()))"
   ]
  },
  {
   "cell_type": "markdown",
   "id": "e9b10f1e-6748-4c1d-97ec-d33111f29538",
   "metadata": {},
   "source": [
    "## Train model"
   ]
  },
  {
   "cell_type": "code",
   "execution_count": 107,
   "id": "2966c64b-05d1-4a59-b473-08ebe84fabe4",
   "metadata": {
    "tags": []
   },
   "outputs": [],
   "source": [
    "# Set the linear learner hyperparameters\n",
    "# hyperparameters can be found here https://docs.aws.amazon.com/sagemaker/latest/dg/ll_hyperparameters.html\n",
    "# We will use the values discovered about for learning_rate and mini_batch_size\n",
    "\n",
    "ll_estimator.set_hyperparameters(feature_dim='auto', \n",
    "                                 predictor_type='binary_classifier',\n",
    "                                 mini_batch_size=32,\n",
    "                                 learning_rate=0.07784235498972855,\n",
    "                                 _tuning_objective_metric='test:binary_classification_accuracy')"
   ]
  },
  {
   "cell_type": "code",
   "execution_count": 108,
   "id": "79c78a8c-1085-4c92-99d1-60a28d0309f0",
   "metadata": {
    "tags": []
   },
   "outputs": [
    {
     "name": "stderr",
     "output_type": "stream",
     "text": [
      "INFO:sagemaker:Creating training-job with name: linear-learner-2023-03-09-04-47-59-413\n"
     ]
    },
    {
     "name": "stdout",
     "output_type": "stream",
     "text": [
      "2023-03-09 04:47:59 Starting - Starting the training job...\n",
      "2023-03-09 04:48:25 Starting - Preparing the instances for training......\n",
      "2023-03-09 04:49:22 Downloading - Downloading input data...\n",
      "2023-03-09 04:49:52 Training - Downloading the training image........\u001b[34mDocker entrypoint called with argument(s): train\u001b[0m\n",
      "\u001b[34mRunning default environment configuration script\u001b[0m\n",
      "\u001b[34m[03/09/2023 04:51:11 INFO 140185794414400] Reading default configuration from /opt/amazon/lib/python3.7/site-packages/algorithm/resources/default-input.json: {'mini_batch_size': '1000', 'epochs': '15', 'feature_dim': 'auto', 'use_bias': 'true', 'binary_classifier_model_selection_criteria': 'accuracy', 'f_beta': '1.0', 'target_recall': '0.8', 'target_precision': '0.8', 'num_models': 'auto', 'num_calibration_samples': '10000000', 'init_method': 'uniform', 'init_scale': '0.07', 'init_sigma': '0.01', 'init_bias': '0.0', 'optimizer': 'auto', 'loss': 'auto', 'margin': '1.0', 'quantile': '0.5', 'loss_insensitivity': '0.01', 'huber_delta': '1.0', 'num_classes': '1', 'accuracy_top_k': '3', 'wd': 'auto', 'l1': 'auto', 'momentum': 'auto', 'learning_rate': 'auto', 'beta_1': 'auto', 'beta_2': 'auto', 'bias_lr_mult': 'auto', 'bias_wd_mult': 'auto', 'use_lr_scheduler': 'true', 'lr_scheduler_step': 'auto', 'lr_scheduler_factor': 'auto', 'lr_scheduler_minimum_lr': 'auto', 'positive_example_weight_mult': '1.0', 'balance_multiclass_weights': 'false', 'normalize_data': 'true', 'normalize_label': 'auto', 'unbias_data': 'auto', 'unbias_label': 'auto', 'num_point_for_scaler': '10000', '_kvstore': 'auto', '_num_gpus': 'auto', '_num_kv_servers': 'auto', '_log_level': 'info', '_tuning_objective_metric': '', 'early_stopping_patience': '3', 'early_stopping_tolerance': '0.001', '_enable_profiler': 'false'}\u001b[0m\n",
      "\u001b[34m[03/09/2023 04:51:11 INFO 140185794414400] Merging with provided configuration from /opt/ml/input/config/hyperparameters.json: {'_tuning_objective_metric': 'test:binary_classification_accuracy', 'feature_dim': 'auto', 'learning_rate': '0.09842614237186559', 'mini_batch_size': '512', 'predictor_type': 'binary_classifier'}\u001b[0m\n",
      "\u001b[34m[03/09/2023 04:51:11 INFO 140185794414400] Final configuration: {'mini_batch_size': '512', 'epochs': '15', 'feature_dim': 'auto', 'use_bias': 'true', 'binary_classifier_model_selection_criteria': 'accuracy', 'f_beta': '1.0', 'target_recall': '0.8', 'target_precision': '0.8', 'num_models': 'auto', 'num_calibration_samples': '10000000', 'init_method': 'uniform', 'init_scale': '0.07', 'init_sigma': '0.01', 'init_bias': '0.0', 'optimizer': 'auto', 'loss': 'auto', 'margin': '1.0', 'quantile': '0.5', 'loss_insensitivity': '0.01', 'huber_delta': '1.0', 'num_classes': '1', 'accuracy_top_k': '3', 'wd': 'auto', 'l1': 'auto', 'momentum': 'auto', 'learning_rate': '0.09842614237186559', 'beta_1': 'auto', 'beta_2': 'auto', 'bias_lr_mult': 'auto', 'bias_wd_mult': 'auto', 'use_lr_scheduler': 'true', 'lr_scheduler_step': 'auto', 'lr_scheduler_factor': 'auto', 'lr_scheduler_minimum_lr': 'auto', 'positive_example_weight_mult': '1.0', 'balance_multiclass_weights': 'false', 'normalize_data': 'true', 'normalize_label': 'auto', 'unbias_data': 'auto', 'unbias_label': 'auto', 'num_point_for_scaler': '10000', '_kvstore': 'auto', '_num_gpus': 'auto', '_num_kv_servers': 'auto', '_log_level': 'info', '_tuning_objective_metric': 'test:binary_classification_accuracy', 'early_stopping_patience': '3', 'early_stopping_tolerance': '0.001', '_enable_profiler': 'false', 'predictor_type': 'binary_classifier'}\u001b[0m\n",
      "\u001b[34m[03/09/2023 04:51:14 WARNING 140185794414400] Loggers have already been setup.\u001b[0m\n",
      "\u001b[34m[03/09/2023 04:51:14 INFO 140185794414400] Final configuration: {'mini_batch_size': '512', 'epochs': '15', 'feature_dim': 'auto', 'use_bias': 'true', 'binary_classifier_model_selection_criteria': 'accuracy', 'f_beta': '1.0', 'target_recall': '0.8', 'target_precision': '0.8', 'num_models': 'auto', 'num_calibration_samples': '10000000', 'init_method': 'uniform', 'init_scale': '0.07', 'init_sigma': '0.01', 'init_bias': '0.0', 'optimizer': 'auto', 'loss': 'auto', 'margin': '1.0', 'quantile': '0.5', 'loss_insensitivity': '0.01', 'huber_delta': '1.0', 'num_classes': '1', 'accuracy_top_k': '3', 'wd': 'auto', 'l1': 'auto', 'momentum': 'auto', 'learning_rate': '0.09842614237186559', 'beta_1': 'auto', 'beta_2': 'auto', 'bias_lr_mult': 'auto', 'bias_wd_mult': 'auto', 'use_lr_scheduler': 'true', 'lr_scheduler_step': 'auto', 'lr_scheduler_factor': 'auto', 'lr_scheduler_minimum_lr': 'auto', 'positive_example_weight_mult': '1.0', 'balance_multiclass_weights': 'false', 'normalize_data': 'true', 'normalize_label': 'auto', 'unbias_data': 'auto', 'unbias_label': 'auto', 'num_point_for_scaler': '10000', '_kvstore': 'auto', '_num_gpus': 'auto', '_num_kv_servers': 'auto', '_log_level': 'info', '_tuning_objective_metric': 'test:binary_classification_accuracy', 'early_stopping_patience': '3', 'early_stopping_tolerance': '0.001', '_enable_profiler': 'false', 'predictor_type': 'binary_classifier'}\u001b[0m\n",
      "\u001b[34m[03/09/2023 04:51:14 WARNING 140185794414400] Loggers have already been setup.\u001b[0m\n",
      "\u001b[34mProcess 7 is a worker.\u001b[0m\n",
      "\u001b[34m[03/09/2023 04:51:14 INFO 140185794414400] Using default worker.\u001b[0m\n",
      "\u001b[34m[03/09/2023 04:51:14 INFO 140185794414400] Checkpoint loading and saving are disabled.\u001b[0m\n",
      "\u001b[34m[03/09/2023 04:51:14 INFO 140185794414400] Create Store: local\u001b[0m\n",
      "\u001b[34m[03/09/2023 04:51:14 INFO 140185794414400] Scaler algorithm parameters\n",
      " <algorithm.scaler.ScalerAlgorithmStable object at 0x7f7efb902e50>\u001b[0m\n",
      "\u001b[34m[03/09/2023 04:51:14 INFO 140185794414400] Scaling model computed with parameters:\n",
      " {'stdev_label': None, 'stdev_weight': \u001b[0m\n",
      "\u001b[34m[1.2770013e+00 1.4006714e+02 4.4908772e+01 1.9657402e+03 4.8294954e-02\n",
      " 4.8515137e-02 1.7727758e+01 1.9848707e-01 3.4001789e+00 9.1188610e-01\n",
      " 1.7315286e+00 2.4121935e+00 4.0175152e+00 3.7644634e-01 4.2392942e-01]\u001b[0m\n",
      "\u001b[34m<NDArray 15 @cpu(0)>, 'mean_label': None, 'mean_weight': \u001b[0m\n",
      "\u001b[34m[5.0493419e-01 3.4228283e+01 3.1781866e+01 1.2033119e+03 2.2149395e-02\n",
      " 4.3088682e-02 5.7269325e+00 6.0752466e-02 6.6642685e+00 2.1224301e+00\n",
      " 2.3656456e+00 3.1631374e+00 4.0463610e+00 1.4915706e-01 2.3488899e-01]\u001b[0m\n",
      "\u001b[34m<NDArray 15 @cpu(0)>}\u001b[0m\n",
      "\u001b[34m[03/09/2023 04:51:14 INFO 140185794414400] nvidia-smi: took 0.032 seconds to run.\u001b[0m\n",
      "\u001b[34m[03/09/2023 04:51:14 INFO 140185794414400] nvidia-smi identified 0 GPUs.\u001b[0m\n",
      "\u001b[34m[03/09/2023 04:51:14 INFO 140185794414400] Number of GPUs being used: 0\u001b[0m\n",
      "\u001b[34m#metrics {\"StartTime\": 1678337474.8971643, \"EndTime\": 1678337474.8971958, \"Dimensions\": {\"Algorithm\": \"Linear Learner\", \"Host\": \"algo-1\", \"Operation\": \"training\", \"Meta\": \"init_train_data_iter\"}, \"Metrics\": {\"Total Records Seen\": {\"sum\": 10376.0, \"count\": 1, \"min\": 10376, \"max\": 10376}, \"Total Batches Seen\": {\"sum\": 21.0, \"count\": 1, \"min\": 21, \"max\": 21}, \"Max Records Seen Between Resets\": {\"sum\": 9864.0, \"count\": 1, \"min\": 9864, \"max\": 9864}, \"Max Batches Seen Between Resets\": {\"sum\": 20.0, \"count\": 1, \"min\": 20, \"max\": 20}, \"Reset Count\": {\"sum\": 2.0, \"count\": 1, \"min\": 2, \"max\": 2}, \"Number of Records Since Last Reset\": {\"sum\": 0.0, \"count\": 1, \"min\": 0, \"max\": 0}, \"Number of Batches Since Last Reset\": {\"sum\": 0.0, \"count\": 1, \"min\": 0, \"max\": 0}}}\u001b[0m\n",
      "\u001b[34m#metrics {\"StartTime\": 1678337475.0166793, \"EndTime\": 1678337475.0167155, \"Dimensions\": {\"Algorithm\": \"Linear Learner\", \"Host\": \"algo-1\", \"Operation\": \"training\", \"epoch\": 0, \"model\": 0}, \"Metrics\": {\"train_binary_classification_cross_entropy_objective\": {\"sum\": 0.3603507029382806, \"count\": 1, \"min\": 0.3603507029382806, \"max\": 0.3603507029382806}}}\u001b[0m\n",
      "\u001b[34m[03/09/2023 04:51:15 INFO 140185794414400] #quality_metric: host=algo-1, epoch=0, train binary_classification_cross_entropy_objective <loss>=0.3603507029382806\u001b[0m\n",
      "\u001b[34m[03/09/2023 04:51:15 INFO 140185794414400] #early_stopping_criteria_metric: host=algo-1, epoch=0, criteria=binary_classification_cross_entropy_objective, value=0.3603507029382806\u001b[0m\n",
      "\u001b[34m[03/09/2023 04:51:15 INFO 140185794414400] Epoch 0: Loss improved. Updating best model\u001b[0m\n",
      "\u001b[34m[03/09/2023 04:51:15 INFO 140185794414400] Saving model for epoch: 0\u001b[0m\n",
      "\u001b[34m[03/09/2023 04:51:15 INFO 140185794414400] Saved checkpoint to \"/tmp/tmpxun7s5w_/mx-mod-0000.params\"\u001b[0m\n",
      "\u001b[34m[03/09/2023 04:51:15 INFO 140185794414400] #progress_metric: host=algo-1, completed 6.666666666666667 % of epochs\u001b[0m\n",
      "\u001b[34m#metrics {\"StartTime\": 1678337474.8974736, \"EndTime\": 1678337475.0241022, \"Dimensions\": {\"Algorithm\": \"Linear Learner\", \"Host\": \"algo-1\", \"Operation\": \"training\", \"epoch\": 0, \"Meta\": \"training_data_iter\"}, \"Metrics\": {\"Total Records Seen\": {\"sum\": 20240.0, \"count\": 1, \"min\": 20240, \"max\": 20240}, \"Total Batches Seen\": {\"sum\": 41.0, \"count\": 1, \"min\": 41, \"max\": 41}, \"Max Records Seen Between Resets\": {\"sum\": 9864.0, \"count\": 1, \"min\": 9864, \"max\": 9864}, \"Max Batches Seen Between Resets\": {\"sum\": 20.0, \"count\": 1, \"min\": 20, \"max\": 20}, \"Reset Count\": {\"sum\": 3.0, \"count\": 1, \"min\": 3, \"max\": 3}, \"Number of Records Since Last Reset\": {\"sum\": 9864.0, \"count\": 1, \"min\": 9864, \"max\": 9864}, \"Number of Batches Since Last Reset\": {\"sum\": 20.0, \"count\": 1, \"min\": 20, \"max\": 20}}}\u001b[0m\n",
      "\u001b[34m[03/09/2023 04:51:15 INFO 140185794414400] #throughput_metric: host=algo-1, train throughput=77810.48815331666 records/second\u001b[0m\n",
      "\u001b[34m#metrics {\"StartTime\": 1678337475.1405888, \"EndTime\": 1678337475.140629, \"Dimensions\": {\"Algorithm\": \"Linear Learner\", \"Host\": \"algo-1\", \"Operation\": \"training\", \"epoch\": 1, \"model\": 0}, \"Metrics\": {\"train_binary_classification_cross_entropy_objective\": {\"sum\": 0.31013667426611247, \"count\": 1, \"min\": 0.31013667426611247, \"max\": 0.31013667426611247}}}\u001b[0m\n",
      "\u001b[34m[03/09/2023 04:51:15 INFO 140185794414400] #quality_metric: host=algo-1, epoch=1, train binary_classification_cross_entropy_objective <loss>=0.31013667426611247\u001b[0m\n",
      "\u001b[34m[03/09/2023 04:51:15 INFO 140185794414400] #early_stopping_criteria_metric: host=algo-1, epoch=1, criteria=binary_classification_cross_entropy_objective, value=0.31013667426611247\u001b[0m\n",
      "\u001b[34m[03/09/2023 04:51:15 INFO 140185794414400] Epoch 1: Loss improved. Updating best model\u001b[0m\n",
      "\u001b[34m[03/09/2023 04:51:15 INFO 140185794414400] Saving model for epoch: 1\u001b[0m\n",
      "\u001b[34m[03/09/2023 04:51:15 INFO 140185794414400] Saved checkpoint to \"/tmp/tmpcya39nqf/mx-mod-0000.params\"\u001b[0m\n",
      "\u001b[34m[03/09/2023 04:51:15 INFO 140185794414400] #progress_metric: host=algo-1, completed 13.333333333333334 % of epochs\u001b[0m\n",
      "\u001b[34m#metrics {\"StartTime\": 1678337475.0243979, \"EndTime\": 1678337475.1481698, \"Dimensions\": {\"Algorithm\": \"Linear Learner\", \"Host\": \"algo-1\", \"Operation\": \"training\", \"epoch\": 1, \"Meta\": \"training_data_iter\"}, \"Metrics\": {\"Total Records Seen\": {\"sum\": 30104.0, \"count\": 1, \"min\": 30104, \"max\": 30104}, \"Total Batches Seen\": {\"sum\": 61.0, \"count\": 1, \"min\": 61, \"max\": 61}, \"Max Records Seen Between Resets\": {\"sum\": 9864.0, \"count\": 1, \"min\": 9864, \"max\": 9864}, \"Max Batches Seen Between Resets\": {\"sum\": 20.0, \"count\": 1, \"min\": 20, \"max\": 20}, \"Reset Count\": {\"sum\": 4.0, \"count\": 1, \"min\": 4, \"max\": 4}, \"Number of Records Since Last Reset\": {\"sum\": 9864.0, \"count\": 1, \"min\": 9864, \"max\": 9864}, \"Number of Batches Since Last Reset\": {\"sum\": 20.0, \"count\": 1, \"min\": 20, \"max\": 20}}}\u001b[0m\n",
      "\u001b[34m[03/09/2023 04:51:15 INFO 140185794414400] #throughput_metric: host=algo-1, train throughput=79595.32396154579 records/second\u001b[0m\n",
      "\u001b[34m#metrics {\"StartTime\": 1678337475.2604227, \"EndTime\": 1678337475.2604537, \"Dimensions\": {\"Algorithm\": \"Linear Learner\", \"Host\": \"algo-1\", \"Operation\": \"training\", \"epoch\": 2, \"model\": 0}, \"Metrics\": {\"train_binary_classification_cross_entropy_objective\": {\"sum\": 0.3039677582289043, \"count\": 1, \"min\": 0.3039677582289043, \"max\": 0.3039677582289043}}}\u001b[0m\n",
      "\u001b[34m[03/09/2023 04:51:15 INFO 140185794414400] #quality_metric: host=algo-1, epoch=2, train binary_classification_cross_entropy_objective <loss>=0.3039677582289043\u001b[0m\n",
      "\u001b[34m[03/09/2023 04:51:15 INFO 140185794414400] #early_stopping_criteria_metric: host=algo-1, epoch=2, criteria=binary_classification_cross_entropy_objective, value=0.3039677582289043\u001b[0m\n",
      "\u001b[34m[03/09/2023 04:51:15 INFO 140185794414400] Epoch 2: Loss improved. Updating best model\u001b[0m\n",
      "\u001b[34m[03/09/2023 04:51:15 INFO 140185794414400] Saving model for epoch: 2\u001b[0m\n",
      "\u001b[34m[03/09/2023 04:51:15 INFO 140185794414400] Saved checkpoint to \"/tmp/tmpixrxjzmk/mx-mod-0000.params\"\u001b[0m\n",
      "\u001b[34m[03/09/2023 04:51:15 INFO 140185794414400] #progress_metric: host=algo-1, completed 20.0 % of epochs\u001b[0m\n",
      "\u001b[34m#metrics {\"StartTime\": 1678337475.148489, \"EndTime\": 1678337475.2671945, \"Dimensions\": {\"Algorithm\": \"Linear Learner\", \"Host\": \"algo-1\", \"Operation\": \"training\", \"epoch\": 2, \"Meta\": \"training_data_iter\"}, \"Metrics\": {\"Total Records Seen\": {\"sum\": 39968.0, \"count\": 1, \"min\": 39968, \"max\": 39968}, \"Total Batches Seen\": {\"sum\": 81.0, \"count\": 1, \"min\": 81, \"max\": 81}, \"Max Records Seen Between Resets\": {\"sum\": 9864.0, \"count\": 1, \"min\": 9864, \"max\": 9864}, \"Max Batches Seen Between Resets\": {\"sum\": 20.0, \"count\": 1, \"min\": 20, \"max\": 20}, \"Reset Count\": {\"sum\": 5.0, \"count\": 1, \"min\": 5, \"max\": 5}, \"Number of Records Since Last Reset\": {\"sum\": 9864.0, \"count\": 1, \"min\": 9864, \"max\": 9864}, \"Number of Batches Since Last Reset\": {\"sum\": 20.0, \"count\": 1, \"min\": 20, \"max\": 20}}}\u001b[0m\n",
      "\u001b[34m[03/09/2023 04:51:15 INFO 140185794414400] #throughput_metric: host=algo-1, train throughput=82991.54822713815 records/second\u001b[0m\n",
      "\u001b[34m#metrics {\"StartTime\": 1678337475.3784325, \"EndTime\": 1678337475.3784628, \"Dimensions\": {\"Algorithm\": \"Linear Learner\", \"Host\": \"algo-1\", \"Operation\": \"training\", \"epoch\": 3, \"model\": 0}, \"Metrics\": {\"train_binary_classification_cross_entropy_objective\": {\"sum\": 0.3020510704893815, \"count\": 1, \"min\": 0.3020510704893815, \"max\": 0.3020510704893815}}}\u001b[0m\n",
      "\u001b[34m[03/09/2023 04:51:15 INFO 140185794414400] #quality_metric: host=algo-1, epoch=3, train binary_classification_cross_entropy_objective <loss>=0.3020510704893815\u001b[0m\n",
      "\u001b[34m[03/09/2023 04:51:15 INFO 140185794414400] #early_stopping_criteria_metric: host=algo-1, epoch=3, criteria=binary_classification_cross_entropy_objective, value=0.3020510704893815\u001b[0m\n",
      "\u001b[34m[03/09/2023 04:51:15 INFO 140185794414400] Epoch 3: Loss improved. Updating best model\u001b[0m\n",
      "\u001b[34m[03/09/2023 04:51:15 INFO 140185794414400] Saving model for epoch: 3\u001b[0m\n",
      "\u001b[34m[03/09/2023 04:51:15 INFO 140185794414400] Saved checkpoint to \"/tmp/tmppa5cqk2e/mx-mod-0000.params\"\u001b[0m\n",
      "\u001b[34m[03/09/2023 04:51:15 INFO 140185794414400] #progress_metric: host=algo-1, completed 26.666666666666668 % of epochs\u001b[0m\n",
      "\u001b[34m#metrics {\"StartTime\": 1678337475.267478, \"EndTime\": 1678337475.3852742, \"Dimensions\": {\"Algorithm\": \"Linear Learner\", \"Host\": \"algo-1\", \"Operation\": \"training\", \"epoch\": 3, \"Meta\": \"training_data_iter\"}, \"Metrics\": {\"Total Records Seen\": {\"sum\": 49832.0, \"count\": 1, \"min\": 49832, \"max\": 49832}, \"Total Batches Seen\": {\"sum\": 101.0, \"count\": 1, \"min\": 101, \"max\": 101}, \"Max Records Seen Between Resets\": {\"sum\": 9864.0, \"count\": 1, \"min\": 9864, \"max\": 9864}, \"Max Batches Seen Between Resets\": {\"sum\": 20.0, \"count\": 1, \"min\": 20, \"max\": 20}, \"Reset Count\": {\"sum\": 6.0, \"count\": 1, \"min\": 6, \"max\": 6}, \"Number of Records Since Last Reset\": {\"sum\": 9864.0, \"count\": 1, \"min\": 9864, \"max\": 9864}, \"Number of Batches Since Last Reset\": {\"sum\": 20.0, \"count\": 1, \"min\": 20, \"max\": 20}}}\u001b[0m\n",
      "\u001b[34m[03/09/2023 04:51:15 INFO 140185794414400] #throughput_metric: host=algo-1, train throughput=83638.8265346967 records/second\u001b[0m\n",
      "\u001b[34m#metrics {\"StartTime\": 1678337475.4920819, \"EndTime\": 1678337475.4921129, \"Dimensions\": {\"Algorithm\": \"Linear Learner\", \"Host\": \"algo-1\", \"Operation\": \"training\", \"epoch\": 4, \"model\": 0}, \"Metrics\": {\"train_binary_classification_cross_entropy_objective\": {\"sum\": 0.30100830605155543, \"count\": 1, \"min\": 0.30100830605155543, \"max\": 0.30100830605155543}}}\u001b[0m\n",
      "\u001b[34m[03/09/2023 04:51:15 INFO 140185794414400] #quality_metric: host=algo-1, epoch=4, train binary_classification_cross_entropy_objective <loss>=0.30100830605155543\u001b[0m\n",
      "\u001b[34m[03/09/2023 04:51:15 INFO 140185794414400] #early_stopping_criteria_metric: host=algo-1, epoch=4, criteria=binary_classification_cross_entropy_objective, value=0.30100830605155543\u001b[0m\n",
      "\u001b[34m[03/09/2023 04:51:15 INFO 140185794414400] Epoch 4: Loss improved. Updating best model\u001b[0m\n",
      "\u001b[34m[03/09/2023 04:51:15 INFO 140185794414400] Saving model for epoch: 4\u001b[0m\n",
      "\u001b[34m[03/09/2023 04:51:15 INFO 140185794414400] Saved checkpoint to \"/tmp/tmpaf08gf0r/mx-mod-0000.params\"\u001b[0m\n",
      "\u001b[34m[03/09/2023 04:51:15 INFO 140185794414400] #progress_metric: host=algo-1, completed 33.333333333333336 % of epochs\u001b[0m\n",
      "\u001b[34m#metrics {\"StartTime\": 1678337475.3855557, \"EndTime\": 1678337475.498781, \"Dimensions\": {\"Algorithm\": \"Linear Learner\", \"Host\": \"algo-1\", \"Operation\": \"training\", \"epoch\": 4, \"Meta\": \"training_data_iter\"}, \"Metrics\": {\"Total Records Seen\": {\"sum\": 59696.0, \"count\": 1, \"min\": 59696, \"max\": 59696}, \"Total Batches Seen\": {\"sum\": 121.0, \"count\": 1, \"min\": 121, \"max\": 121}, \"Max Records Seen Between Resets\": {\"sum\": 9864.0, \"count\": 1, \"min\": 9864, \"max\": 9864}, \"Max Batches Seen Between Resets\": {\"sum\": 20.0, \"count\": 1, \"min\": 20, \"max\": 20}, \"Reset Count\": {\"sum\": 7.0, \"count\": 1, \"min\": 7, \"max\": 7}, \"Number of Records Since Last Reset\": {\"sum\": 9864.0, \"count\": 1, \"min\": 9864, \"max\": 9864}, \"Number of Batches Since Last Reset\": {\"sum\": 20.0, \"count\": 1, \"min\": 20, \"max\": 20}}}\u001b[0m\n",
      "\u001b[34m[03/09/2023 04:51:15 INFO 140185794414400] #throughput_metric: host=algo-1, train throughput=87006.45757835764 records/second\u001b[0m\n",
      "\u001b[34m#metrics {\"StartTime\": 1678337475.608701, \"EndTime\": 1678337475.6087718, \"Dimensions\": {\"Algorithm\": \"Linear Learner\", \"Host\": \"algo-1\", \"Operation\": \"training\", \"epoch\": 5, \"model\": 0}, \"Metrics\": {\"train_binary_classification_cross_entropy_objective\": {\"sum\": 0.3010220260996568, \"count\": 1, \"min\": 0.3010220260996568, \"max\": 0.3010220260996568}}}\u001b[0m\n",
      "\u001b[34m[03/09/2023 04:51:15 INFO 140185794414400] #quality_metric: host=algo-1, epoch=5, train binary_classification_cross_entropy_objective <loss>=0.3010220260996568\u001b[0m\n",
      "\u001b[34m[03/09/2023 04:51:15 INFO 140185794414400] #early_stopping_criteria_metric: host=algo-1, epoch=5, criteria=binary_classification_cross_entropy_objective, value=0.3010220260996568\u001b[0m\n",
      "\u001b[34m[03/09/2023 04:51:15 INFO 140185794414400] Saving model for epoch: 5\u001b[0m\n",
      "\u001b[34m[03/09/2023 04:51:15 INFO 140185794414400] Saved checkpoint to \"/tmp/tmp5knag8g4/mx-mod-0000.params\"\u001b[0m\n",
      "\u001b[34m[03/09/2023 04:51:15 INFO 140185794414400] #progress_metric: host=algo-1, completed 40.0 % of epochs\u001b[0m\n",
      "\u001b[34m#metrics {\"StartTime\": 1678337475.4990718, \"EndTime\": 1678337475.6149576, \"Dimensions\": {\"Algorithm\": \"Linear Learner\", \"Host\": \"algo-1\", \"Operation\": \"training\", \"epoch\": 5, \"Meta\": \"training_data_iter\"}, \"Metrics\": {\"Total Records Seen\": {\"sum\": 69560.0, \"count\": 1, \"min\": 69560, \"max\": 69560}, \"Total Batches Seen\": {\"sum\": 141.0, \"count\": 1, \"min\": 141, \"max\": 141}, \"Max Records Seen Between Resets\": {\"sum\": 9864.0, \"count\": 1, \"min\": 9864, \"max\": 9864}, \"Max Batches Seen Between Resets\": {\"sum\": 20.0, \"count\": 1, \"min\": 20, \"max\": 20}, \"Reset Count\": {\"sum\": 8.0, \"count\": 1, \"min\": 8, \"max\": 8}, \"Number of Records Since Last Reset\": {\"sum\": 9864.0, \"count\": 1, \"min\": 9864, \"max\": 9864}, \"Number of Batches Since Last Reset\": {\"sum\": 20.0, \"count\": 1, \"min\": 20, \"max\": 20}}}\u001b[0m\n",
      "\u001b[34m[03/09/2023 04:51:15 INFO 140185794414400] #throughput_metric: host=algo-1, train throughput=85017.92857876762 records/second\u001b[0m\n",
      "\u001b[34m#metrics {\"StartTime\": 1678337475.7269633, \"EndTime\": 1678337475.72701, \"Dimensions\": {\"Algorithm\": \"Linear Learner\", \"Host\": \"algo-1\", \"Operation\": \"training\", \"epoch\": 6, \"model\": 0}, \"Metrics\": {\"train_binary_classification_cross_entropy_objective\": {\"sum\": 0.3009214056165595, \"count\": 1, \"min\": 0.3009214056165595, \"max\": 0.3009214056165595}}}\u001b[0m\n",
      "\u001b[34m[03/09/2023 04:51:15 INFO 140185794414400] #quality_metric: host=algo-1, epoch=6, train binary_classification_cross_entropy_objective <loss>=0.3009214056165595\u001b[0m\n",
      "\u001b[34m[03/09/2023 04:51:15 INFO 140185794414400] #early_stopping_criteria_metric: host=algo-1, epoch=6, criteria=binary_classification_cross_entropy_objective, value=0.3009214056165595\u001b[0m\n",
      "\u001b[34m[03/09/2023 04:51:15 INFO 140185794414400] Saving model for epoch: 6\u001b[0m\n",
      "\u001b[34m[03/09/2023 04:51:15 INFO 140185794414400] Saved checkpoint to \"/tmp/tmpf2jsjk_j/mx-mod-0000.params\"\u001b[0m\n",
      "\u001b[34m[03/09/2023 04:51:15 INFO 140185794414400] #progress_metric: host=algo-1, completed 46.666666666666664 % of epochs\u001b[0m\n",
      "\u001b[34m#metrics {\"StartTime\": 1678337475.6152291, \"EndTime\": 1678337475.7350597, \"Dimensions\": {\"Algorithm\": \"Linear Learner\", \"Host\": \"algo-1\", \"Operation\": \"training\", \"epoch\": 6, \"Meta\": \"training_data_iter\"}, \"Metrics\": {\"Total Records Seen\": {\"sum\": 79424.0, \"count\": 1, \"min\": 79424, \"max\": 79424}, \"Total Batches Seen\": {\"sum\": 161.0, \"count\": 1, \"min\": 161, \"max\": 161}, \"Max Records Seen Between Resets\": {\"sum\": 9864.0, \"count\": 1, \"min\": 9864, \"max\": 9864}, \"Max Batches Seen Between Resets\": {\"sum\": 20.0, \"count\": 1, \"min\": 20, \"max\": 20}, \"Reset Count\": {\"sum\": 9.0, \"count\": 1, \"min\": 9, \"max\": 9}, \"Number of Records Since Last Reset\": {\"sum\": 9864.0, \"count\": 1, \"min\": 9864, \"max\": 9864}, \"Number of Batches Since Last Reset\": {\"sum\": 20.0, \"count\": 1, \"min\": 20, \"max\": 20}}}\u001b[0m\n",
      "\u001b[34m[03/09/2023 04:51:15 INFO 140185794414400] #throughput_metric: host=algo-1, train throughput=82208.73510669371 records/second\u001b[0m\n",
      "\u001b[34m#metrics {\"StartTime\": 1678337475.8428094, \"EndTime\": 1678337475.8428407, \"Dimensions\": {\"Algorithm\": \"Linear Learner\", \"Host\": \"algo-1\", \"Operation\": \"training\", \"epoch\": 7, \"model\": 0}, \"Metrics\": {\"train_binary_classification_cross_entropy_objective\": {\"sum\": 0.30070819823365463, \"count\": 1, \"min\": 0.30070819823365463, \"max\": 0.30070819823365463}}}\u001b[0m\n",
      "\u001b[34m[03/09/2023 04:51:15 INFO 140185794414400] #quality_metric: host=algo-1, epoch=7, train binary_classification_cross_entropy_objective <loss>=0.30070819823365463\u001b[0m\n",
      "\u001b[34m[03/09/2023 04:51:15 INFO 140185794414400] #early_stopping_criteria_metric: host=algo-1, epoch=7, criteria=binary_classification_cross_entropy_objective, value=0.30070819823365463\u001b[0m\n",
      "\u001b[34m[03/09/2023 04:51:15 INFO 140185794414400] Saving model for epoch: 7\u001b[0m\n",
      "\u001b[34m[03/09/2023 04:51:15 INFO 140185794414400] Saved checkpoint to \"/tmp/tmpgizxdgzz/mx-mod-0000.params\"\u001b[0m\n",
      "\u001b[34m[03/09/2023 04:51:15 INFO 140185794414400] #progress_metric: host=algo-1, completed 53.333333333333336 % of epochs\u001b[0m\n",
      "\u001b[34m#metrics {\"StartTime\": 1678337475.735357, \"EndTime\": 1678337475.8489628, \"Dimensions\": {\"Algorithm\": \"Linear Learner\", \"Host\": \"algo-1\", \"Operation\": \"training\", \"epoch\": 7, \"Meta\": \"training_data_iter\"}, \"Metrics\": {\"Total Records Seen\": {\"sum\": 89288.0, \"count\": 1, \"min\": 89288, \"max\": 89288}, \"Total Batches Seen\": {\"sum\": 181.0, \"count\": 1, \"min\": 181, \"max\": 181}, \"Max Records Seen Between Resets\": {\"sum\": 9864.0, \"count\": 1, \"min\": 9864, \"max\": 9864}, \"Max Batches Seen Between Resets\": {\"sum\": 20.0, \"count\": 1, \"min\": 20, \"max\": 20}, \"Reset Count\": {\"sum\": 10.0, \"count\": 1, \"min\": 10, \"max\": 10}, \"Number of Records Since Last Reset\": {\"sum\": 9864.0, \"count\": 1, \"min\": 9864, \"max\": 9864}, \"Number of Batches Since Last Reset\": {\"sum\": 20.0, \"count\": 1, \"min\": 20, \"max\": 20}}}\u001b[0m\n",
      "\u001b[34m[03/09/2023 04:51:15 INFO 140185794414400] #throughput_metric: host=algo-1, train throughput=86717.77037277691 records/second\u001b[0m\n",
      "\u001b[34m#metrics {\"StartTime\": 1678337475.9583824, \"EndTime\": 1678337475.9584131, \"Dimensions\": {\"Algorithm\": \"Linear Learner\", \"Host\": \"algo-1\", \"Operation\": \"training\", \"epoch\": 8, \"model\": 0}, \"Metrics\": {\"train_binary_classification_cross_entropy_objective\": {\"sum\": 0.30053098735056427, \"count\": 1, \"min\": 0.30053098735056427, \"max\": 0.30053098735056427}}}\u001b[0m\n",
      "\u001b[34m[03/09/2023 04:51:15 INFO 140185794414400] #quality_metric: host=algo-1, epoch=8, train binary_classification_cross_entropy_objective <loss>=0.30053098735056427\u001b[0m\n",
      "\u001b[34m[03/09/2023 04:51:15 INFO 140185794414400] #early_stopping_criteria_metric: host=algo-1, epoch=8, criteria=binary_classification_cross_entropy_objective, value=0.30053098735056427\u001b[0m\n",
      "\u001b[34m[03/09/2023 04:51:15 INFO 140185794414400] Saving model for epoch: 8\u001b[0m\n",
      "\u001b[34m[03/09/2023 04:51:15 INFO 140185794414400] Saved checkpoint to \"/tmp/tmphg7hnqw8/mx-mod-0000.params\"\u001b[0m\n",
      "\u001b[34m[03/09/2023 04:51:15 INFO 140185794414400] Early stop condition met. Stopping training.\u001b[0m\n",
      "\u001b[34m[03/09/2023 04:51:15 INFO 140185794414400] #progress_metric: host=algo-1, completed 100 % epochs\u001b[0m\n",
      "\u001b[34m#metrics {\"StartTime\": 1678337475.8492618, \"EndTime\": 1678337475.9651115, \"Dimensions\": {\"Algorithm\": \"Linear Learner\", \"Host\": \"algo-1\", \"Operation\": \"training\", \"epoch\": 8, \"Meta\": \"training_data_iter\"}, \"Metrics\": {\"Total Records Seen\": {\"sum\": 99152.0, \"count\": 1, \"min\": 99152, \"max\": 99152}, \"Total Batches Seen\": {\"sum\": 201.0, \"count\": 1, \"min\": 201, \"max\": 201}, \"Max Records Seen Between Resets\": {\"sum\": 9864.0, \"count\": 1, \"min\": 9864, \"max\": 9864}, \"Max Batches Seen Between Resets\": {\"sum\": 20.0, \"count\": 1, \"min\": 20, \"max\": 20}, \"Reset Count\": {\"sum\": 11.0, \"count\": 1, \"min\": 11, \"max\": 11}, \"Number of Records Since Last Reset\": {\"sum\": 9864.0, \"count\": 1, \"min\": 9864, \"max\": 9864}, \"Number of Batches Since Last Reset\": {\"sum\": 20.0, \"count\": 1, \"min\": 20, \"max\": 20}}}\u001b[0m\n",
      "\u001b[34m[03/09/2023 04:51:15 INFO 140185794414400] #throughput_metric: host=algo-1, train throughput=85021.07340490243 records/second\u001b[0m\n",
      "\u001b[34m[03/09/2023 04:51:15 WARNING 140185794414400] wait_for_all_workers will not sync workers since the kv store is not running distributed\u001b[0m\n",
      "\u001b[34m[03/09/2023 04:51:15 WARNING 140185794414400] wait_for_all_workers will not sync workers since the kv store is not running distributed\u001b[0m\n",
      "\u001b[34m[03/09/2023 04:51:16 INFO 140185794414400] #train_score (algo-1) : ('binary_classification_cross_entropy_objective', 0.2956279753091755)\u001b[0m\n",
      "\u001b[34m[03/09/2023 04:51:16 INFO 140185794414400] #train_score (algo-1) : ('binary_classification_accuracy', 0.8923357664233577)\u001b[0m\n",
      "\u001b[34m[03/09/2023 04:51:16 INFO 140185794414400] #train_score (algo-1) : ('binary_f_1.000', 0.6171593366979091)\u001b[0m\n",
      "\u001b[34m[03/09/2023 04:51:16 INFO 140185794414400] #train_score (algo-1) : ('precision', 0.6793650793650794)\u001b[0m\n",
      "\u001b[34m[03/09/2023 04:51:16 INFO 140185794414400] #train_score (algo-1) : ('recall', 0.5653896961690885)\u001b[0m\n",
      "\u001b[34m[03/09/2023 04:51:16 INFO 140185794414400] #train_score (algo-1) : ('roc_auc_score', 0.8885423472737485)\u001b[0m\n",
      "\u001b[34m[03/09/2023 04:51:16 INFO 140185794414400] #train_score (algo-1) : ('binary_balanced_accuracy', 0.5)\u001b[0m\n",
      "\u001b[34m[03/09/2023 04:51:16 INFO 140185794414400] #train_score (algo-1) : ('binary_log_loss', 0.7111949165689095)\u001b[0m\n",
      "\u001b[34m[03/09/2023 04:51:16 INFO 140185794414400] #quality_metric: host=algo-1, train binary_classification_cross_entropy_objective <loss>=0.2956279753091755\u001b[0m\n",
      "\u001b[34m[03/09/2023 04:51:16 INFO 140185794414400] #quality_metric: host=algo-1, train binary_classification_accuracy <score>=0.8923357664233577\u001b[0m\n",
      "\u001b[34m[03/09/2023 04:51:16 INFO 140185794414400] #quality_metric: host=algo-1, train binary_f_1.000 <score>=0.6171593366979091\u001b[0m\n",
      "\u001b[34m[03/09/2023 04:51:16 INFO 140185794414400] #quality_metric: host=algo-1, train precision <score>=0.6793650793650794\u001b[0m\n",
      "\u001b[34m[03/09/2023 04:51:16 INFO 140185794414400] #quality_metric: host=algo-1, train recall <score>=0.5653896961690885\u001b[0m\n",
      "\u001b[34m[03/09/2023 04:51:16 INFO 140185794414400] #quality_metric: host=algo-1, train roc_auc_score <score>=0.8885423472737485\u001b[0m\n",
      "\u001b[34m[03/09/2023 04:51:16 INFO 140185794414400] #quality_metric: host=algo-1, train binary_balanced_accuracy <score>=0.5\u001b[0m\n",
      "\u001b[34m[03/09/2023 04:51:16 INFO 140185794414400] #quality_metric: host=algo-1, train binary_log_loss <score>=0.7111949165689095\u001b[0m\n",
      "\u001b[34m[03/09/2023 04:51:16 INFO 140185794414400] Best model found for hyperparameters: {\"optimizer\": \"adam\", \"learning_rate\": 0.09842614237186559, \"l1\": 0.0, \"wd\": 0.0001, \"lr_scheduler_step\": 10, \"lr_scheduler_factor\": 0.99, \"lr_scheduler_minimum_lr\": 1e-05}\u001b[0m\n",
      "\u001b[34m[03/09/2023 04:51:16 INFO 140185794414400] Saved checkpoint to \"/tmp/tmpjtw118eh/mx-mod-0000.params\"\u001b[0m\n",
      "\u001b[34m#metrics {\"StartTime\": 1678337476.5202625, \"EndTime\": 1678337476.5769584, \"Dimensions\": {\"Algorithm\": \"Linear Learner\", \"Host\": \"algo-1\", \"Operation\": \"training\", \"Meta\": \"test_data_iter\"}, \"Metrics\": {\"Total Records Seen\": {\"sum\": 2466.0, \"count\": 1, \"min\": 2466, \"max\": 2466}, \"Total Batches Seen\": {\"sum\": 5.0, \"count\": 1, \"min\": 5, \"max\": 5}, \"Max Records Seen Between Resets\": {\"sum\": 2466.0, \"count\": 1, \"min\": 2466, \"max\": 2466}, \"Max Batches Seen Between Resets\": {\"sum\": 5.0, \"count\": 1, \"min\": 5, \"max\": 5}, \"Reset Count\": {\"sum\": 1.0, \"count\": 1, \"min\": 1, \"max\": 1}, \"Number of Records Since Last Reset\": {\"sum\": 2466.0, \"count\": 1, \"min\": 2466, \"max\": 2466}, \"Number of Batches Since Last Reset\": {\"sum\": 5.0, \"count\": 1, \"min\": 5, \"max\": 5}}}\u001b[0m\n",
      "\u001b[34m[03/09/2023 04:51:16 INFO 140185794414400] #test_score (algo-1) : ('binary_classification_cross_entropy_objective', 0.3125341992405306)\u001b[0m\n",
      "\u001b[34m[03/09/2023 04:51:16 INFO 140185794414400] #test_score (algo-1) : ('binary_classification_accuracy', 0.8880778588807786)\u001b[0m\n",
      "\u001b[34m[03/09/2023 04:51:16 INFO 140185794414400] #test_score (algo-1) : ('binary_f_1.000', 0.6219178082191781)\u001b[0m\n",
      "\u001b[34m[03/09/2023 04:51:16 INFO 140185794414400] #test_score (algo-1) : ('precision', 0.6755952380952381)\u001b[0m\n",
      "\u001b[34m[03/09/2023 04:51:16 INFO 140185794414400] #test_score (algo-1) : ('recall', 0.5761421319796954)\u001b[0m\n",
      "\u001b[34m[03/09/2023 04:51:16 INFO 140185794414400] #test_score (algo-1) : ('roc_auc_score', 0.888327322971993)\u001b[0m\n",
      "\u001b[34m[03/09/2023 04:51:16 INFO 140185794414400] #test_score (algo-1) : ('binary_balanced_accuracy', 0.5)\u001b[0m\n",
      "\u001b[34m[03/09/2023 04:51:16 INFO 140185794414400] #test_score (algo-1) : ('binary_log_loss', 0.7090313407521315)\u001b[0m\n",
      "\u001b[34m[03/09/2023 04:51:16 INFO 140185794414400] #quality_metric: host=algo-1, test binary_classification_cross_entropy_objective <loss>=0.3125341992405306\u001b[0m\n",
      "\u001b[34m[03/09/2023 04:51:16 INFO 140185794414400] #quality_metric: host=algo-1, test binary_classification_accuracy <score>=0.8880778588807786\u001b[0m\n",
      "\u001b[34m[03/09/2023 04:51:16 INFO 140185794414400] #quality_metric: host=algo-1, test binary_f_1.000 <score>=0.6219178082191781\u001b[0m\n",
      "\u001b[34m[03/09/2023 04:51:16 INFO 140185794414400] #quality_metric: host=algo-1, test precision <score>=0.6755952380952381\u001b[0m\n",
      "\u001b[34m[03/09/2023 04:51:16 INFO 140185794414400] #quality_metric: host=algo-1, test recall <score>=0.5761421319796954\u001b[0m\n",
      "\u001b[34m[03/09/2023 04:51:16 INFO 140185794414400] #quality_metric: host=algo-1, test roc_auc_score <score>=0.888327322971993\u001b[0m\n",
      "\u001b[34m[03/09/2023 04:51:16 INFO 140185794414400] #quality_metric: host=algo-1, test binary_balanced_accuracy <score>=0.5\u001b[0m\n",
      "\u001b[34m[03/09/2023 04:51:16 INFO 140185794414400] #quality_metric: host=algo-1, test binary_log_loss <score>=0.7090313407521315\u001b[0m\n",
      "\u001b[34m#metrics {\"StartTime\": 1678337474.6687212, \"EndTime\": 1678337476.5795765, \"Dimensions\": {\"Algorithm\": \"Linear Learner\", \"Host\": \"algo-1\", \"Operation\": \"training\"}, \"Metrics\": {\"initialize.time\": {\"sum\": 214.72597122192383, \"count\": 1, \"min\": 214.72597122192383, \"max\": 214.72597122192383}, \"epochs\": {\"sum\": 15.0, \"count\": 1, \"min\": 15, \"max\": 15}, \"check_early_stopping.time\": {\"sum\": 5.144357681274414, \"count\": 9, \"min\": 0.19407272338867188, \"max\": 0.9150505065917969}, \"update.time\": {\"sum\": 1038.65385055542, \"count\": 9, \"min\": 110.50200462341309, \"max\": 123.61717224121094}, \"finalize.time\": {\"sum\": 551.6495704650879, \"count\": 1, \"min\": 551.6495704650879, \"max\": 551.6495704650879}, \"setuptime\": {\"sum\": 2.388477325439453, \"count\": 1, \"min\": 2.388477325439453, \"max\": 2.388477325439453}, \"totaltime\": {\"sum\": 2020.397424697876, \"count\": 1, \"min\": 2020.397424697876, \"max\": 2020.397424697876}}}\u001b[0m\n",
      "\n",
      "2023-03-09 04:51:23 Uploading - Uploading generated training model\n",
      "2023-03-09 04:51:39 Completed - Training job completed\n",
      "Training seconds: 137\n",
      "Billable seconds: 137\n"
     ]
    }
   ],
   "source": [
    "# Now we are going to Fit the model\n",
    "# Documentaiton for FIT https://sagemaker.readthedocs.io/en/stable/algorithms/sagemaker.amazon.amazon_estimator.html#sagemaker.amazon.amazon_estimator.AmazonAlgorithmEstimatorBase.fit\n",
    "\n",
    "ll_estimator.fit( {'train': training_data_channel, 'test': testing_data_channel})"
   ]
  },
  {
   "cell_type": "markdown",
   "id": "12e11aab-17f1-4e67-ae2c-23c4b70adb1d",
   "metadata": {},
   "source": [
    "### Hyperparameter tuning"
   ]
  },
  {
   "cell_type": "markdown",
   "id": "d2393b8e-48e6-4c8b-9034-746552e82eaa",
   "metadata": {},
   "source": [
    "Hyperparameter tuning is the process of searching fo the best combination of hyperparameters for a machine learning model to improve its performance on a task. It is important in model development because the choice of hyperparameters can have a significant impact on the model's accuracy and efficiency.\n",
    "\n",
    "Best parameters found={'_tuning_objective_metric': 'test:binary_classification_accuracy', 'learning_rate': '0.07784235498972855', 'mini_batch_size': '32', 'predictor_type': 'binary_classifier'}\n",
    "\n",
    "With the best hyperparameters found we can tune our hyperparameters...\n",
    "\n",
    "* predictor_type='binary_classifier' - Specifies the type of model we want to train, which is a binary classifier in this case. This means the algorithm will be trained to predict a binary outcome (purchase or no purchase) based on the input features.\n",
    "* mini_batch_size=32 - Specifies teh number of samples to be processed in each iteration of the optimization algorithm. I chose 32 as it was the best fit according to the system.\n",
    "* learning rate=0.07784235498972855 - Specifies the step size of the gradient descent algorithm during training. The chosen value was determined by the system.\n",
    "* _tuning_objective_metric='test:binary_classification_accuracy' - Specifies the objective metric that we want to optimize during hyperparameter tuning. Binary classification accuracy was chosen in this case as it is a relevant measure of the models performance with binary classification."
   ]
  },
  {
   "cell_type": "markdown",
   "id": "682396c8-0a2d-4104-b422-a5bef37f1154",
   "metadata": {},
   "source": [
    "# Deploy"
   ]
  },
  {
   "cell_type": "markdown",
   "id": "723c5571-55fc-47cd-85f8-8a0a4abd410c",
   "metadata": {},
   "source": [
    "The deployed application for the binary classification model predicting website visitor purchases is expected to be text-based, with the user inputting all the relevant data factors to make a prediction. They will need to input all the data from data description except the first 2 columns and revenue as the model will predict the likeliness of a sale or not.\n",
    "\n",
    "Once the user enters all the required data, the model will make a prediction and return the predicted binary value and a score. The binary value will indicate whether the model predicted that the website visitor will make a purchase or not. Realistically, the binary value will almost always be 0 as it is a given to understand the majority of website visitors will not make a purchase.\n",
    "\n",
    "However, the score value is what Limited Run Games is going to want to consider, as it will indicate the predicted probability of the website visitor making a purchase based on the input data. This information can be used to evaluate the effectiveness of different marketing campaigns, web designs, or other factors that can influence the website visitor behavior."
   ]
  },
  {
   "cell_type": "code",
   "execution_count": 109,
   "id": "cf3ff634-eade-4a68-8dab-bdabe2ce90e2",
   "metadata": {
    "tags": []
   },
   "outputs": [
    {
     "data": {
      "text/plain": [
       "'s3://sagemaker-us-east-1-035791914788/shop/output/linear-learner-2023-03-09-04-47-59-413/output/model.tar.gz'"
      ]
     },
     "execution_count": 109,
     "metadata": {},
     "output_type": "execute_result"
    }
   ],
   "source": [
    "# Retrieve model data from training job\n",
    "training_job_model_data = ll_estimator.model_data\n",
    "training_job_model_data"
   ]
  },
  {
   "cell_type": "code",
   "execution_count": 110,
   "id": "b0176aba-bce4-4b02-b4c6-16535b27298b",
   "metadata": {
    "tags": []
   },
   "outputs": [
    {
     "name": "stdout",
     "output_type": "stream",
     "text": [
      "Model name is shop-data-deployed-ll-model2023-03-09-04-52-13\n"
     ]
    }
   ],
   "source": [
    "# Create a unique model name so it won't overwrite ones that are already there using date and time\n",
    "deployed_linear_model_name = \"shop-data-deployed-ll-model\" + strftime(\"%Y-%m-%d-%H-%M-%S\", gmtime())\n",
    "print(\"Model name is \" + deployed_linear_model_name)"
   ]
  },
  {
   "cell_type": "code",
   "execution_count": 111,
   "id": "abf5f300-ca8e-41a4-b534-9b27ce88e37c",
   "metadata": {
    "tags": []
   },
   "outputs": [
    {
     "name": "stdout",
     "output_type": "stream",
     "text": [
      "Model Arn: arn:aws:sagemaker:us-east-1:035791914788:model/shop-data-deployed-ll-model2023-03-09-04-52-13\n"
     ]
    }
   ],
   "source": [
    "# Container Definition https://docs.aws.amazon.com/sagemaker/latest/APIReference/API_ContainerDefinition.html\n",
    "\n",
    "client = boto3.client(service_name=\"sagemaker\")\n",
    "\n",
    "create_model_response = client.create_model(\n",
    "    ModelName=deployed_linear_model_name,\n",
    "    Containers=[\n",
    "        {\n",
    "            \"Image\": container, # use the same container defined in the estimator\n",
    "            \"ModelDataUrl\": training_job_model_data\n",
    "        }\n",
    "    ],\n",
    "    ExecutionRoleArn=role,\n",
    ")\n",
    "\n",
    "print(\"Model Arn: \" + create_model_response[\"ModelArn\"])"
   ]
  },
  {
   "cell_type": "code",
   "execution_count": 112,
   "id": "37423bba-0250-4ae7-832e-7cf7d6ee40fb",
   "metadata": {
    "tags": []
   },
   "outputs": [
    {
     "name": "stdout",
     "output_type": "stream",
     "text": [
      "Endpoint Configuration Arn: arn:aws:sagemaker:us-east-1:035791914788:endpoint-config/linear-learner-serverless-epc2023-03-09-04-52-14\n"
     ]
    }
   ],
   "source": [
    "\n",
    "shop_data_epc_name = \"linear-learner-serverless-epc\" + strftime(\"%Y-%m-%d-%H-%M-%S\", gmtime())\n",
    "\n",
    "endpoint_config_response = client.create_endpoint_config(\n",
    "    EndpointConfigName=shop_data_epc_name,\n",
    "    ProductionVariants=[\n",
    "        {\n",
    "            \"VariantName\": \"llVariant\",\n",
    "            \"ModelName\": deployed_linear_model_name,\n",
    "            \"ServerlessConfig\": {\n",
    "                \"MemorySizeInMB\": 4096,\n",
    "                \"MaxConcurrency\": 1,\n",
    "            },\n",
    "        },\n",
    "    ],\n",
    ")\n",
    "\n",
    "print(\"Endpoint Configuration Arn: \" + endpoint_config_response[\"EndpointConfigArn\"])"
   ]
  },
  {
   "cell_type": "code",
   "execution_count": 113,
   "id": "6eef950d-4ef0-4234-a534-baea378d6eed",
   "metadata": {
    "tags": []
   },
   "outputs": [
    {
     "name": "stdout",
     "output_type": "stream",
     "text": [
      "Endpoint Arn: arn:aws:sagemaker:us-east-1:035791914788:endpoint/linear-learner-serverless-ep2023-03-09-04-52-14\n"
     ]
    }
   ],
   "source": [
    "\n",
    "shop_data_ep_name = \"linear-learner-serverless-ep\" + strftime(\"%Y-%m-%d-%H-%M-%S\", gmtime())\n",
    "\n",
    "create_endpoint_response = client.create_endpoint(\n",
    "    EndpointName=shop_data_ep_name,\n",
    "    EndpointConfigName=shop_data_epc_name,\n",
    ")\n",
    "\n",
    "print(\"Endpoint Arn: \" + create_endpoint_response[\"EndpointArn\"])"
   ]
  },
  {
   "cell_type": "code",
   "execution_count": null,
   "id": "e93f3b08-342e-46e5-ad9c-b2c13a81a85f",
   "metadata": {
    "tags": []
   },
   "outputs": [
    {
     "name": "stdout",
     "output_type": "stream",
     "text": [
      "Creating\n",
      "Creating\n",
      "Creating\n",
      "Creating\n",
      "Creating\n",
      "Creating\n",
      "Creating\n",
      "Creating\n"
     ]
    }
   ],
   "source": [
    "\n",
    "# wait for endpoint to reach a terminal state (InService) using describe endpoint\n",
    "import time\n",
    "\n",
    "describe_endpoint_response = client.describe_endpoint(EndpointName=shop_data_ep_name)\n",
    "\n",
    "while describe_endpoint_response[\"EndpointStatus\"] == \"Creating\":\n",
    "    describe_endpoint_response = client.describe_endpoint(EndpointName=shop_data_ep_name)\n",
    "    print(describe_endpoint_response[\"EndpointStatus\"])\n",
    "    time.sleep(15)\n",
    "\n",
    "describe_endpoint_response"
   ]
  },
  {
   "cell_type": "code",
   "execution_count": null,
   "id": "f927fd8c-1e69-4630-87f4-547aef7beba8",
   "metadata": {
    "tags": []
   },
   "outputs": [],
   "source": [
    "runtime = boto3.client(service_name=\"sagemaker-runtime\")\n",
    "\n",
    "response = runtime.invoke_endpoint(\n",
    "    EndpointName=shop_data_ep_name,\n",
    "    Body=\"0,0.0,45,801.05,0.004444444,0.019444444,0.0,0.0,11.0,2,2,1,2,0.0,0\",\n",
    "    ContentType=\"text/csv\",\n",
    ")\n",
    "\n",
    "print(response[\"Body\"].read())"
   ]
  },
  {
   "cell_type": "markdown",
   "id": "c3feffaf-5a34-441e-8bd4-8e963e2d9b67",
   "metadata": {},
   "source": [
    "Given the inputted data in body, the probability of this website visitor making a purchase is 11.95%. While a probability of 11% might seem low, it is actually quite significant considering the context of the problem. Browsing a website is free but making a purchase is not and there is a huge step from visiting a website versus purchasing a product. In the dataset we tested on there were over 12.3k user sessions recorded and of that 12.3k, 10.4k of the users did not make a purchase which means we are predicting the 15% of users who will make a purchase.  "
   ]
  },
  {
   "cell_type": "code",
   "execution_count": null,
   "id": "3147bb03-c5d7-4838-b13d-7bbc7de3a055",
   "metadata": {
    "tags": []
   },
   "outputs": [],
   "source": [
    "\n",
    "client.delete_model(ModelName=deployed_linear_model_name)\n",
    "client.delete_endpoint_config(EndpointConfigName=shop_data_epc_name)\n",
    "client.delete_endpoint(EndpointName=shop_data_ep_name)"
   ]
  }
 ],
 "metadata": {
  "kernelspec": {
   "display_name": "conda_amazonei_pytorch_latest_p37",
   "language": "python",
   "name": "conda_amazonei_pytorch_latest_p37"
  },
  "language_info": {
   "codemirror_mode": {
    "name": "ipython",
    "version": 3
   },
   "file_extension": ".py",
   "mimetype": "text/x-python",
   "name": "python",
   "nbconvert_exporter": "python",
   "pygments_lexer": "ipython3",
   "version": "3.7.10"
  }
 },
 "nbformat": 4,
 "nbformat_minor": 5
}
