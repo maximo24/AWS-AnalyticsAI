{
 "cells": [
  {
   "cell_type": "markdown",
   "id": "05175ea2-02f3-4548-a62a-94c0bd73ad4a",
   "metadata": {},
   "source": [
    "# Queen Street Fitness Text Classification\n",
    "\n",
    "\n",
    "## Business Case\n",
    "Queen Street Fitness is a gym located here in Kingston, Ontario, operating in the fitness industry. They provide fitness equipment, classes, and personal training sessions to individuals and groups. The business model is B2C and their target customers are people of all ages and fitnes levels who are looking to improve their overall health and fitness. The primary product of Queen Street Fitness is fitness equipment and services that help customers achieve their fitness goals. The gym provides access to a variety of equipment, including cardio machines, free weights, and resistence training equipment. Queen Street Fitness falls into the small business category, as it is a relatively small business with a single location. It employs a small team of experienced fitness trainers and support staff, it is safe to assume the number of staff working at the gym is lower than 50. They have a pretty small online presence with approximately four thousand followers across all socials. The business has a website that provides information on the gym's services, pricing, and schedules."
   ]
  },
  {
   "cell_type": "markdown",
   "id": "902203e3-0f09-49c3-b66d-eade97da95b3",
   "metadata": {},
   "source": [
    "## Product Description\n",
    "The opportunity I am providing to Queen Street Fitness is to provide a text classification algorithm for the gym to analyze customer feedback and determine the emotions associated with them. This algorithm will help the gym improve its services and identify the areas where change is needed. It will also provide the gym with insights on some of the feedback competitors are facing and see what other gyms do right and wrong to ensure Queen Street Fitness is the best option. In order to do this, I will be analyzing a Kaggle dataset, which takes tweets and label them by emotion. This will allow the gym to quickly and easily categorize customer feedback into positive, neutral, and negative emotions. This will let the gym understand its customer needs better and improve its services to meet the needs of current and future customers. The beneficiaries of this algorithm are the customers of Queen Street Fitness and the gym itself. Customers will benefit from the improvement in services and the gym will benefit from the increase in customers, customer satisfaction, and customer loyalty. The solution will be very easy to use and will allow the gym to categorize the feedback from their gym and other gyms. They will use the product by inputting customer feedback into the algorithm, which will then categorize the feedback as neutral, worry, happiness, fun, enthusiastic, hate, and more! "
   ]
  },
  {
   "cell_type": "markdown",
   "id": "830c103b-03ad-46b0-a8ef-2e6c7990ba18",
   "metadata": {},
   "source": [
    "## Business Value\n",
    "Investing in the text classification algorithm has the potential to bring long-term value to Queen Street fitness. By using the solution to categorize feedback, the gym can make data-driven decisions to improve its services and customer experience. This can result in a higher customer retention rate and increased revenue for the gym. In order to quantify the value of the algorithm, I recommend the gym set two target KPI's. The first being the time it takes to respond to customer feedback... by using the algorithm to categorize feedback by emotion, the gym can quickly idetnify areas that need improvement and respond to customers in a timely manner. Setting a target time to respond to customer feedback can help the gym track progress toward improving customer satisfaction and loyalty. The other KPI is customer retention rate... when using the algorithm to address issues in a timely manner, the odds are they will have a higher custoemr retention rate. This can be measured by tracking the number of customers who renew their memberships or continue to use the gym's services.\n",
    "\n",
    "In addition to the text classification algorithm I am offering, other activities may be required to fully achieve the business goals of the gym. One of these being marketing. by promoting the gym's improved services and customer experience, the gym can attract new customers and keep existing ones. Another activity is data collection. The gym will need to collect the feedback from customers to input it in the algorithm. Another activity Queen Street Fitness might need to factor is employee training. The gym may need to invest in training so they can confidently trust that staff is equipped to handle customer satisfaction and respond appropriately. Examples of training could include active listening, conflict resolution, or customer service best practices."
   ]
  },
  {
   "cell_type": "markdown",
   "id": "2f803f00-1b35-426e-b10a-3d2ebb8a1720",
   "metadata": {},
   "source": [
    "## Data\n",
    "\n",
    "## Data Description\n",
    "The data was collected from Kaggle titled \"Emotion Detection from Text\" and can be found [here](https://www.kaggle.com/datasets/pashupatigupta/emotion-detection-from-text)\n",
    "The dataset contains 3 columns, these columns are:\n",
    "\n",
    "* tweet_id - unique id given to each tweet\n",
    "* sentiment - the labeled emotion that has been determined from the given tweet\n",
    "* content - the tweet\n",
    "\n",
    "The dataset contains nearly 40,000 tweets that have all been labeled and analyzed by humans with one of 13 emotions. The dataset was originally collected for research with the intended purpose of providing a resource for researchers and developers to train and test text classification models for emotion detection. In alphabetical order, the different emotions are:\n",
    "\n",
    "* Anger\n",
    "* Boredom\n",
    "* Empty\n",
    "* Enthusiasm\n",
    "* Fun\n",
    "* Happiness\n",
    "* Hate\n",
    "* Love\n",
    "* Neutral\n",
    "* Relief\n",
    "* Sadness\n",
    "* Surprise\n",
    "* Worry\n",
    "\n",
    "For the Proof of Concept for Queen Street Fitness, the dataset will be used to train a linear learner model for text classification. Although the dataset contains tweets rather than direct customer feedback, the same techniques can be applied to analyze customer feedback for emotion. Queen Street Fitness might choose to use their own data specific to the gym industry and its customers for classifying emotions, but the data I collected should do the job for determining the emotion of a review as tweets and customer reviews are very similar in the way the user expresses themself. If the gym believes the best way to go about the live solution is collecting the most accurate data on gym reviews, the data should be collected through a bunch of different channels such as social media, surveys, and/or customer service interactions. The data should then be as relevant as possible to the gym industry and its services along with reflecting the specific needs and preferences of Queen Street Fitness customers."
   ]
  },
  {
   "cell_type": "markdown",
   "id": "b156c072-caf5-4e34-aede-973bd6785615",
   "metadata": {},
   "source": [
    "## Data Exploration\n",
    "### Need to prepare the environment\n",
    "#### Upgrade the version of boto3 and sagemaker, install wordcloud "
   ]
  },
  {
   "cell_type": "code",
   "execution_count": 106,
   "id": "8deb4e39-3586-4e17-a8e1-d491ae891738",
   "metadata": {
    "tags": []
   },
   "outputs": [
    {
     "name": "stdout",
     "output_type": "stream",
     "text": [
      "Note: you may need to restart the kernel to use updated packages.\n",
      "Note: you may need to restart the kernel to use updated packages.\n",
      "Looking in indexes: https://pypi.org/simple, https://pip.repos.neuron.amazonaws.com\n",
      "Requirement already satisfied: wordcloud in /home/ec2-user/anaconda3/envs/python3/lib/python3.10/site-packages (1.8.2.2)\n",
      "Requirement already satisfied: pillow in /home/ec2-user/anaconda3/envs/python3/lib/python3.10/site-packages (from wordcloud) (9.4.0)\n",
      "Requirement already satisfied: matplotlib in /home/ec2-user/anaconda3/envs/python3/lib/python3.10/site-packages (from wordcloud) (3.6.2)\n",
      "Requirement already satisfied: numpy>=1.6.1 in /home/ec2-user/anaconda3/envs/python3/lib/python3.10/site-packages (from wordcloud) (1.22.3)\n",
      "Requirement already satisfied: cycler>=0.10 in /home/ec2-user/anaconda3/envs/python3/lib/python3.10/site-packages (from matplotlib->wordcloud) (0.11.0)\n",
      "Requirement already satisfied: python-dateutil>=2.7 in /home/ec2-user/anaconda3/envs/python3/lib/python3.10/site-packages (from matplotlib->wordcloud) (2.8.2)\n",
      "Requirement already satisfied: packaging>=20.0 in /home/ec2-user/anaconda3/envs/python3/lib/python3.10/site-packages (from matplotlib->wordcloud) (21.3)\n",
      "Requirement already satisfied: kiwisolver>=1.0.1 in /home/ec2-user/anaconda3/envs/python3/lib/python3.10/site-packages (from matplotlib->wordcloud) (1.4.4)\n",
      "Requirement already satisfied: pyparsing>=2.2.1 in /home/ec2-user/anaconda3/envs/python3/lib/python3.10/site-packages (from matplotlib->wordcloud) (3.0.9)\n",
      "Requirement already satisfied: fonttools>=4.22.0 in /home/ec2-user/anaconda3/envs/python3/lib/python3.10/site-packages (from matplotlib->wordcloud) (4.38.0)\n",
      "Requirement already satisfied: contourpy>=1.0.1 in /home/ec2-user/anaconda3/envs/python3/lib/python3.10/site-packages (from matplotlib->wordcloud) (1.0.6)\n",
      "Requirement already satisfied: six>=1.5 in /home/ec2-user/anaconda3/envs/python3/lib/python3.10/site-packages (from python-dateutil>=2.7->matplotlib->wordcloud) (1.16.0)\n",
      "Note: you may need to restart the kernel to use updated packages.\n"
     ]
    }
   ],
   "source": [
    "%pip install -qU --upgrade boto3\n",
    "%pip install -qU --upgrade sagemaker\n",
    "%pip install wordcloud"
   ]
  },
  {
   "cell_type": "markdown",
   "id": "44e2aea0-c01b-4610-bbc0-4a8b74caaf8e",
   "metadata": {},
   "source": [
    "#### Install all the necessary packages I'll need"
   ]
  },
  {
   "cell_type": "code",
   "execution_count": 107,
   "id": "c3b67a37-58bb-4442-9c83-4f368866d534",
   "metadata": {
    "tags": []
   },
   "outputs": [],
   "source": [
    "import pandas as pd\n",
    "import numpy as np\n",
    "import seaborn as sns\n",
    "import matplotlib.pyplot as plt\n",
    "import json\n",
    "from sklearn.model_selection import train_test_split\n",
    "import sagemaker\n",
    "from sagemaker.estimator import Estimator \n",
    "from sagemaker import get_execution_role\n",
    "import boto3\n",
    "from sagemaker import image_uris\n",
    "import nltk\n",
    "from nltk.tokenize import word_tokenize\n",
    "from nltk.corpus import stopwords\n",
    "from nltk.stem import WordNetLemmatizer\n",
    "import time\n",
    "from time import gmtime, strftime\n",
    "from PIL import Image\n",
    "from wordcloud import WordCloud, STOPWORDS, ImageColorGenerator\n",
    "import string\n",
    "import re\n",
    "from sklearn.preprocessing import OrdinalEncoder\n",
    "\n",
    "# Set column width to 200 to make the text easier to read\n",
    "pd.options.display.max_colwidth = 200"
   ]
  },
  {
   "cell_type": "markdown",
   "id": "7740d62c-4e4e-48d0-93b5-f9c84abbe699",
   "metadata": {},
   "source": [
    "### Download the NTLK Trained Models"
   ]
  },
  {
   "cell_type": "code",
   "execution_count": 108,
   "id": "ff6f75b2-e461-490f-a1d6-5957e18698c2",
   "metadata": {
    "tags": []
   },
   "outputs": [
    {
     "name": "stderr",
     "output_type": "stream",
     "text": [
      "[nltk_data] Downloading package punkt to /home/ec2-user/nltk_data...\n",
      "[nltk_data]   Package punkt is already up-to-date!\n"
     ]
    },
    {
     "data": {
      "text/plain": [
       "True"
      ]
     },
     "execution_count": 108,
     "metadata": {},
     "output_type": "execute_result"
    }
   ],
   "source": [
    "nltk.download('punkt')"
   ]
  },
  {
   "cell_type": "markdown",
   "id": "17fefed1-60cd-4800-b773-db7c10d163f5",
   "metadata": {},
   "source": [
    "### Download the NTLK Stopwords list"
   ]
  },
  {
   "cell_type": "code",
   "execution_count": 109,
   "id": "40cca303-0553-4d62-a2f5-b0a9548be704",
   "metadata": {
    "tags": []
   },
   "outputs": [
    {
     "name": "stderr",
     "output_type": "stream",
     "text": [
      "[nltk_data] Downloading package stopwords to\n",
      "[nltk_data]     /home/ec2-user/nltk_data...\n",
      "[nltk_data]   Package stopwords is already up-to-date!\n"
     ]
    },
    {
     "data": {
      "text/plain": [
       "True"
      ]
     },
     "execution_count": 109,
     "metadata": {},
     "output_type": "execute_result"
    }
   ],
   "source": [
    "nltk.download('stopwords')"
   ]
  },
  {
   "cell_type": "markdown",
   "id": "8dcc4daf-c97f-4966-bde0-7f192dc55b4b",
   "metadata": {},
   "source": [
    "### Download the NTLK corpus reader"
   ]
  },
  {
   "cell_type": "code",
   "execution_count": 110,
   "id": "a74bb196-69f0-4f7a-b807-cb89f6adfc8f",
   "metadata": {
    "tags": []
   },
   "outputs": [
    {
     "name": "stderr",
     "output_type": "stream",
     "text": [
      "[nltk_data] Downloading package wordnet to /home/ec2-user/nltk_data...\n",
      "[nltk_data]   Package wordnet is already up-to-date!\n"
     ]
    },
    {
     "data": {
      "text/plain": [
       "True"
      ]
     },
     "execution_count": 110,
     "metadata": {},
     "output_type": "execute_result"
    }
   ],
   "source": [
    "nltk.download('wordnet')"
   ]
  },
  {
   "cell_type": "markdown",
   "id": "5d7e294c-aae8-4193-bcef-826bc2c32da9",
   "metadata": {},
   "source": [
    "### Setup Environment Variables"
   ]
  },
  {
   "cell_type": "code",
   "execution_count": 111,
   "id": "a602d251-531f-44b3-90a5-5e71fefae1af",
   "metadata": {
    "tags": []
   },
   "outputs": [
    {
     "name": "stdout",
     "output_type": "stream",
     "text": [
      "The role is  arn:aws:iam::006789315315:role/LabRole\n",
      "The session is  <sagemaker.session.Session object at 0x7f2076c3c730>\n",
      "The region is  us-east-1\n",
      "The bucket is  sagemaker-us-east-1-006789315315\n"
     ]
    }
   ],
   "source": [
    "role = get_execution_role()\n",
    "sess = sagemaker.Session() \n",
    "region = sess.boto_session.region_name\n",
    "bucket = sess.default_bucket()\n",
    "print(\"The role is \", role)\n",
    "print(\"The session is \", sess)\n",
    "print(\"The region is \", region)\n",
    "print(\"The bucket is \", bucket)"
   ]
  },
  {
   "cell_type": "markdown",
   "id": "acb233e0-b5e0-430c-bde1-58d021627316",
   "metadata": {},
   "source": [
    "### Download Dataset to Jupyter Notebook"
   ]
  },
  {
   "cell_type": "code",
   "execution_count": 112,
   "id": "dc949bd3-b8a9-4209-b81c-2e02f7150f02",
   "metadata": {
    "tags": []
   },
   "outputs": [],
   "source": [
    "# Import data into pandas DataFrame\n",
    "\n",
    "tweet_emotions = pd.read_csv(\"tweet_emotions.csv\")"
   ]
  },
  {
   "cell_type": "code",
   "execution_count": 113,
   "id": "40f50fa9-313e-4bce-92f4-cd5330640ee9",
   "metadata": {
    "tags": []
   },
   "outputs": [
    {
     "data": {
      "text/html": [
       "<div>\n",
       "<style scoped>\n",
       "    .dataframe tbody tr th:only-of-type {\n",
       "        vertical-align: middle;\n",
       "    }\n",
       "\n",
       "    .dataframe tbody tr th {\n",
       "        vertical-align: top;\n",
       "    }\n",
       "\n",
       "    .dataframe thead th {\n",
       "        text-align: right;\n",
       "    }\n",
       "</style>\n",
       "<table border=\"1\" class=\"dataframe\">\n",
       "  <thead>\n",
       "    <tr style=\"text-align: right;\">\n",
       "      <th></th>\n",
       "      <th>tweet_id</th>\n",
       "      <th>sentiment</th>\n",
       "      <th>content</th>\n",
       "    </tr>\n",
       "  </thead>\n",
       "  <tbody>\n",
       "    <tr>\n",
       "      <th>0</th>\n",
       "      <td>1956967341</td>\n",
       "      <td>empty</td>\n",
       "      <td>@tiffanylue i know  i was listenin to bad habit earlier and i started freakin at his part =[</td>\n",
       "    </tr>\n",
       "    <tr>\n",
       "      <th>1</th>\n",
       "      <td>1956967666</td>\n",
       "      <td>sadness</td>\n",
       "      <td>Layin n bed with a headache  ughhhh...waitin on your call...</td>\n",
       "    </tr>\n",
       "    <tr>\n",
       "      <th>2</th>\n",
       "      <td>1956967696</td>\n",
       "      <td>sadness</td>\n",
       "      <td>Funeral ceremony...gloomy friday...</td>\n",
       "    </tr>\n",
       "    <tr>\n",
       "      <th>3</th>\n",
       "      <td>1956967789</td>\n",
       "      <td>enthusiasm</td>\n",
       "      <td>wants to hang out with friends SOON!</td>\n",
       "    </tr>\n",
       "    <tr>\n",
       "      <th>4</th>\n",
       "      <td>1956968416</td>\n",
       "      <td>neutral</td>\n",
       "      <td>@dannycastillo We want to trade with someone who has Houston tickets, but no one will.</td>\n",
       "    </tr>\n",
       "    <tr>\n",
       "      <th>...</th>\n",
       "      <td>...</td>\n",
       "      <td>...</td>\n",
       "      <td>...</td>\n",
       "    </tr>\n",
       "    <tr>\n",
       "      <th>39995</th>\n",
       "      <td>1753918954</td>\n",
       "      <td>neutral</td>\n",
       "      <td>@JohnLloydTaylor</td>\n",
       "    </tr>\n",
       "    <tr>\n",
       "      <th>39996</th>\n",
       "      <td>1753919001</td>\n",
       "      <td>love</td>\n",
       "      <td>Happy Mothers Day  All my love</td>\n",
       "    </tr>\n",
       "    <tr>\n",
       "      <th>39997</th>\n",
       "      <td>1753919005</td>\n",
       "      <td>love</td>\n",
       "      <td>Happy Mother's Day to all the mommies out there, be you woman or man as long as you're 'momma' to someone this is your day!</td>\n",
       "    </tr>\n",
       "    <tr>\n",
       "      <th>39998</th>\n",
       "      <td>1753919043</td>\n",
       "      <td>happiness</td>\n",
       "      <td>@niariley WASSUP BEAUTIFUL!!! FOLLOW ME!!  PEEP OUT MY NEW HIT SINGLES WWW.MYSPACE.COM/IPSOHOT I DEF. WAT U IN THE VIDEO!!</td>\n",
       "    </tr>\n",
       "    <tr>\n",
       "      <th>39999</th>\n",
       "      <td>1753919049</td>\n",
       "      <td>love</td>\n",
       "      <td>@mopedronin bullet train from tokyo    the gf and i have been visiting japan since thursday  vacation/sightseeing    gaijin godzilla</td>\n",
       "    </tr>\n",
       "  </tbody>\n",
       "</table>\n",
       "<p>40000 rows × 3 columns</p>\n",
       "</div>"
      ],
      "text/plain": [
       "         tweet_id   sentiment  \\\n",
       "0      1956967341       empty   \n",
       "1      1956967666     sadness   \n",
       "2      1956967696     sadness   \n",
       "3      1956967789  enthusiasm   \n",
       "4      1956968416     neutral   \n",
       "...           ...         ...   \n",
       "39995  1753918954     neutral   \n",
       "39996  1753919001        love   \n",
       "39997  1753919005        love   \n",
       "39998  1753919043   happiness   \n",
       "39999  1753919049        love   \n",
       "\n",
       "                                                                                                                                    content  \n",
       "0                                              @tiffanylue i know  i was listenin to bad habit earlier and i started freakin at his part =[  \n",
       "1                                                                              Layin n bed with a headache  ughhhh...waitin on your call...  \n",
       "2                                                                                                       Funeral ceremony...gloomy friday...  \n",
       "3                                                                                                      wants to hang out with friends SOON!  \n",
       "4                                                    @dannycastillo We want to trade with someone who has Houston tickets, but no one will.  \n",
       "...                                                                                                                                     ...  \n",
       "39995                                                                                                                      @JohnLloydTaylor  \n",
       "39996                                                                                                        Happy Mothers Day  All my love  \n",
       "39997           Happy Mother's Day to all the mommies out there, be you woman or man as long as you're 'momma' to someone this is your day!  \n",
       "39998            @niariley WASSUP BEAUTIFUL!!! FOLLOW ME!!  PEEP OUT MY NEW HIT SINGLES WWW.MYSPACE.COM/IPSOHOT I DEF. WAT U IN THE VIDEO!!  \n",
       "39999  @mopedronin bullet train from tokyo    the gf and i have been visiting japan since thursday  vacation/sightseeing    gaijin godzilla  \n",
       "\n",
       "[40000 rows x 3 columns]"
      ]
     },
     "execution_count": 113,
     "metadata": {},
     "output_type": "execute_result"
    }
   ],
   "source": [
    "# Look at the data\n",
    "\n",
    "tweet_emotions"
   ]
  },
  {
   "cell_type": "markdown",
   "id": "8da5e366-ab08-4618-96fe-fb862285673c",
   "metadata": {},
   "source": [
    "### Remove Junk Data\n",
    "Here we don't care about the tweet_id because there is no use for it in our solution"
   ]
  },
  {
   "cell_type": "code",
   "execution_count": 114,
   "id": "cfa97af3-abbe-453c-92f0-c264edc73e9c",
   "metadata": {
    "tags": []
   },
   "outputs": [],
   "source": [
    "del tweet_emotions[\"tweet_id\"]"
   ]
  },
  {
   "cell_type": "code",
   "execution_count": 115,
   "id": "32536243-c7d8-44e1-9921-11780b7d9b76",
   "metadata": {
    "tags": []
   },
   "outputs": [
    {
     "data": {
      "text/html": [
       "<div>\n",
       "<style scoped>\n",
       "    .dataframe tbody tr th:only-of-type {\n",
       "        vertical-align: middle;\n",
       "    }\n",
       "\n",
       "    .dataframe tbody tr th {\n",
       "        vertical-align: top;\n",
       "    }\n",
       "\n",
       "    .dataframe thead th {\n",
       "        text-align: right;\n",
       "    }\n",
       "</style>\n",
       "<table border=\"1\" class=\"dataframe\">\n",
       "  <thead>\n",
       "    <tr style=\"text-align: right;\">\n",
       "      <th></th>\n",
       "      <th>sentiment</th>\n",
       "      <th>content</th>\n",
       "    </tr>\n",
       "  </thead>\n",
       "  <tbody>\n",
       "    <tr>\n",
       "      <th>0</th>\n",
       "      <td>empty</td>\n",
       "      <td>@tiffanylue i know  i was listenin to bad habit earlier and i started freakin at his part =[</td>\n",
       "    </tr>\n",
       "    <tr>\n",
       "      <th>1</th>\n",
       "      <td>sadness</td>\n",
       "      <td>Layin n bed with a headache  ughhhh...waitin on your call...</td>\n",
       "    </tr>\n",
       "    <tr>\n",
       "      <th>2</th>\n",
       "      <td>sadness</td>\n",
       "      <td>Funeral ceremony...gloomy friday...</td>\n",
       "    </tr>\n",
       "    <tr>\n",
       "      <th>3</th>\n",
       "      <td>enthusiasm</td>\n",
       "      <td>wants to hang out with friends SOON!</td>\n",
       "    </tr>\n",
       "    <tr>\n",
       "      <th>4</th>\n",
       "      <td>neutral</td>\n",
       "      <td>@dannycastillo We want to trade with someone who has Houston tickets, but no one will.</td>\n",
       "    </tr>\n",
       "    <tr>\n",
       "      <th>...</th>\n",
       "      <td>...</td>\n",
       "      <td>...</td>\n",
       "    </tr>\n",
       "    <tr>\n",
       "      <th>39995</th>\n",
       "      <td>neutral</td>\n",
       "      <td>@JohnLloydTaylor</td>\n",
       "    </tr>\n",
       "    <tr>\n",
       "      <th>39996</th>\n",
       "      <td>love</td>\n",
       "      <td>Happy Mothers Day  All my love</td>\n",
       "    </tr>\n",
       "    <tr>\n",
       "      <th>39997</th>\n",
       "      <td>love</td>\n",
       "      <td>Happy Mother's Day to all the mommies out there, be you woman or man as long as you're 'momma' to someone this is your day!</td>\n",
       "    </tr>\n",
       "    <tr>\n",
       "      <th>39998</th>\n",
       "      <td>happiness</td>\n",
       "      <td>@niariley WASSUP BEAUTIFUL!!! FOLLOW ME!!  PEEP OUT MY NEW HIT SINGLES WWW.MYSPACE.COM/IPSOHOT I DEF. WAT U IN THE VIDEO!!</td>\n",
       "    </tr>\n",
       "    <tr>\n",
       "      <th>39999</th>\n",
       "      <td>love</td>\n",
       "      <td>@mopedronin bullet train from tokyo    the gf and i have been visiting japan since thursday  vacation/sightseeing    gaijin godzilla</td>\n",
       "    </tr>\n",
       "  </tbody>\n",
       "</table>\n",
       "<p>40000 rows × 2 columns</p>\n",
       "</div>"
      ],
      "text/plain": [
       "        sentiment  \\\n",
       "0           empty   \n",
       "1         sadness   \n",
       "2         sadness   \n",
       "3      enthusiasm   \n",
       "4         neutral   \n",
       "...           ...   \n",
       "39995     neutral   \n",
       "39996        love   \n",
       "39997        love   \n",
       "39998   happiness   \n",
       "39999        love   \n",
       "\n",
       "                                                                                                                                    content  \n",
       "0                                              @tiffanylue i know  i was listenin to bad habit earlier and i started freakin at his part =[  \n",
       "1                                                                              Layin n bed with a headache  ughhhh...waitin on your call...  \n",
       "2                                                                                                       Funeral ceremony...gloomy friday...  \n",
       "3                                                                                                      wants to hang out with friends SOON!  \n",
       "4                                                    @dannycastillo We want to trade with someone who has Houston tickets, but no one will.  \n",
       "...                                                                                                                                     ...  \n",
       "39995                                                                                                                      @JohnLloydTaylor  \n",
       "39996                                                                                                        Happy Mothers Day  All my love  \n",
       "39997           Happy Mother's Day to all the mommies out there, be you woman or man as long as you're 'momma' to someone this is your day!  \n",
       "39998            @niariley WASSUP BEAUTIFUL!!! FOLLOW ME!!  PEEP OUT MY NEW HIT SINGLES WWW.MYSPACE.COM/IPSOHOT I DEF. WAT U IN THE VIDEO!!  \n",
       "39999  @mopedronin bullet train from tokyo    the gf and i have been visiting japan since thursday  vacation/sightseeing    gaijin godzilla  \n",
       "\n",
       "[40000 rows x 2 columns]"
      ]
     },
     "execution_count": 115,
     "metadata": {},
     "output_type": "execute_result"
    }
   ],
   "source": [
    "tweet_emotions"
   ]
  },
  {
   "cell_type": "markdown",
   "id": "47f03970-0bcf-47ea-b61a-7a5ad266bd56",
   "metadata": {},
   "source": [
    "### Check for any missing values"
   ]
  },
  {
   "cell_type": "code",
   "execution_count": 116,
   "id": "15274d7f-7d3d-42a5-83cc-5eb204c206b0",
   "metadata": {
    "tags": []
   },
   "outputs": [
    {
     "data": {
      "text/plain": [
       "sentiment    0\n",
       "content      0\n",
       "dtype: int64"
      ]
     },
     "execution_count": 116,
     "metadata": {},
     "output_type": "execute_result"
    }
   ],
   "source": [
    "tweet_emotions.isnull().sum()"
   ]
  },
  {
   "cell_type": "markdown",
   "id": "2598f32f-c13f-4f34-a1b8-3cb79eea7446",
   "metadata": {},
   "source": [
    "### Get some info on the data"
   ]
  },
  {
   "cell_type": "code",
   "execution_count": 117,
   "id": "25ed0e9b-98cc-4b23-b81e-1b04037d3bb2",
   "metadata": {
    "tags": []
   },
   "outputs": [
    {
     "data": {
      "text/html": [
       "<div>\n",
       "<style scoped>\n",
       "    .dataframe tbody tr th:only-of-type {\n",
       "        vertical-align: middle;\n",
       "    }\n",
       "\n",
       "    .dataframe tbody tr th {\n",
       "        vertical-align: top;\n",
       "    }\n",
       "\n",
       "    .dataframe thead th {\n",
       "        text-align: right;\n",
       "    }\n",
       "</style>\n",
       "<table border=\"1\" class=\"dataframe\">\n",
       "  <thead>\n",
       "    <tr style=\"text-align: right;\">\n",
       "      <th></th>\n",
       "      <th>sentiment</th>\n",
       "      <th>content</th>\n",
       "    </tr>\n",
       "  </thead>\n",
       "  <tbody>\n",
       "    <tr>\n",
       "      <th>count</th>\n",
       "      <td>40000</td>\n",
       "      <td>40000</td>\n",
       "    </tr>\n",
       "    <tr>\n",
       "      <th>unique</th>\n",
       "      <td>13</td>\n",
       "      <td>39827</td>\n",
       "    </tr>\n",
       "    <tr>\n",
       "      <th>top</th>\n",
       "      <td>neutral</td>\n",
       "      <td>I just received a mothers day card from my lovely daughter wishing my a happy mothers day  http://tr.im/kWK9</td>\n",
       "    </tr>\n",
       "    <tr>\n",
       "      <th>freq</th>\n",
       "      <td>8638</td>\n",
       "      <td>14</td>\n",
       "    </tr>\n",
       "  </tbody>\n",
       "</table>\n",
       "</div>"
      ],
      "text/plain": [
       "       sentiment  \\\n",
       "count      40000   \n",
       "unique        13   \n",
       "top      neutral   \n",
       "freq        8638   \n",
       "\n",
       "                                                                                                             content  \n",
       "count                                                                                                          40000  \n",
       "unique                                                                                                         39827  \n",
       "top     I just received a mothers day card from my lovely daughter wishing my a happy mothers day  http://tr.im/kWK9  \n",
       "freq                                                                                                              14  "
      ]
     },
     "execution_count": 117,
     "metadata": {},
     "output_type": "execute_result"
    }
   ],
   "source": [
    "tweet_emotions.describe()"
   ]
  },
  {
   "cell_type": "markdown",
   "id": "6dca4af2-7147-4d02-84ce-748cc07458da",
   "metadata": {},
   "source": [
    "### Use the group by to see how many records there are for each label"
   ]
  },
  {
   "cell_type": "code",
   "execution_count": 118,
   "id": "2184bc76-65ff-4a5e-a8ad-be0ce343128b",
   "metadata": {
    "tags": []
   },
   "outputs": [
    {
     "data": {
      "text/html": [
       "<div>\n",
       "<style scoped>\n",
       "    .dataframe tbody tr th:only-of-type {\n",
       "        vertical-align: middle;\n",
       "    }\n",
       "\n",
       "    .dataframe tbody tr th {\n",
       "        vertical-align: top;\n",
       "    }\n",
       "\n",
       "    .dataframe thead tr th {\n",
       "        text-align: left;\n",
       "    }\n",
       "\n",
       "    .dataframe thead tr:last-of-type th {\n",
       "        text-align: right;\n",
       "    }\n",
       "</style>\n",
       "<table border=\"1\" class=\"dataframe\">\n",
       "  <thead>\n",
       "    <tr>\n",
       "      <th></th>\n",
       "      <th colspan=\"4\" halign=\"left\">content</th>\n",
       "    </tr>\n",
       "    <tr>\n",
       "      <th></th>\n",
       "      <th>count</th>\n",
       "      <th>unique</th>\n",
       "      <th>top</th>\n",
       "      <th>freq</th>\n",
       "    </tr>\n",
       "    <tr>\n",
       "      <th>sentiment</th>\n",
       "      <th></th>\n",
       "      <th></th>\n",
       "      <th></th>\n",
       "      <th></th>\n",
       "    </tr>\n",
       "  </thead>\n",
       "  <tbody>\n",
       "    <tr>\n",
       "      <th>anger</th>\n",
       "      <td>110</td>\n",
       "      <td>110</td>\n",
       "      <td>fuckin'm transtelecom</td>\n",
       "      <td>1</td>\n",
       "    </tr>\n",
       "    <tr>\n",
       "      <th>boredom</th>\n",
       "      <td>179</td>\n",
       "      <td>179</td>\n",
       "      <td>i'm so tired</td>\n",
       "      <td>1</td>\n",
       "    </tr>\n",
       "    <tr>\n",
       "      <th>empty</th>\n",
       "      <td>827</td>\n",
       "      <td>827</td>\n",
       "      <td>@tiffanylue i know  i was listenin to bad habit earlier and i started freakin at his part =[</td>\n",
       "      <td>1</td>\n",
       "    </tr>\n",
       "    <tr>\n",
       "      <th>enthusiasm</th>\n",
       "      <td>759</td>\n",
       "      <td>759</td>\n",
       "      <td>wants to hang out with friends SOON!</td>\n",
       "      <td>1</td>\n",
       "    </tr>\n",
       "    <tr>\n",
       "      <th>fun</th>\n",
       "      <td>1776</td>\n",
       "      <td>1776</td>\n",
       "      <td>Wondering why I'm awake at 7am,writing a new song,plotting my evil secret plots muahahaha...oh damn it,not secret anymore</td>\n",
       "      <td>1</td>\n",
       "    </tr>\n",
       "    <tr>\n",
       "      <th>happiness</th>\n",
       "      <td>5209</td>\n",
       "      <td>5194</td>\n",
       "      <td>FREE UNLIMITED RINGTONES!!! - http://tinyurl.com/freeringring - USA ONLY - Awesome 4 iphone</td>\n",
       "      <td>4</td>\n",
       "    </tr>\n",
       "    <tr>\n",
       "      <th>hate</th>\n",
       "      <td>1323</td>\n",
       "      <td>1323</td>\n",
       "      <td>It is so annoying when she starts typing on her computer in the middle of the night!</td>\n",
       "      <td>1</td>\n",
       "    </tr>\n",
       "    <tr>\n",
       "      <th>love</th>\n",
       "      <td>3842</td>\n",
       "      <td>3801</td>\n",
       "      <td>I just received a mothers day card from my lovely daughter wishing my a happy mothers day  http://tr.im/kWK9</td>\n",
       "      <td>13</td>\n",
       "    </tr>\n",
       "    <tr>\n",
       "      <th>neutral</th>\n",
       "      <td>8638</td>\n",
       "      <td>8617</td>\n",
       "      <td>FREE UNLIMITED RINGTONES!!! - http://tinyurl.com/freeringring - USA ONLY - Awesome 4 iphone</td>\n",
       "      <td>4</td>\n",
       "    </tr>\n",
       "    <tr>\n",
       "      <th>relief</th>\n",
       "      <td>1526</td>\n",
       "      <td>1524</td>\n",
       "      <td>http://snipurl.com/hq0n1 Just printed my mom an Amazon gift card  for Happy Mothers Day talk about last minute.</td>\n",
       "      <td>2</td>\n",
       "    </tr>\n",
       "    <tr>\n",
       "      <th>sadness</th>\n",
       "      <td>5165</td>\n",
       "      <td>5160</td>\n",
       "      <td>at home sick</td>\n",
       "      <td>2</td>\n",
       "    </tr>\n",
       "    <tr>\n",
       "      <th>surprise</th>\n",
       "      <td>2187</td>\n",
       "      <td>2187</td>\n",
       "      <td>Got the news</td>\n",
       "      <td>1</td>\n",
       "    </tr>\n",
       "    <tr>\n",
       "      <th>worry</th>\n",
       "      <td>8459</td>\n",
       "      <td>8452</td>\n",
       "      <td>i have a headache</td>\n",
       "      <td>3</td>\n",
       "    </tr>\n",
       "  </tbody>\n",
       "</table>\n",
       "</div>"
      ],
      "text/plain": [
       "           content         \\\n",
       "             count unique   \n",
       "sentiment                   \n",
       "anger          110    110   \n",
       "boredom        179    179   \n",
       "empty          827    827   \n",
       "enthusiasm     759    759   \n",
       "fun           1776   1776   \n",
       "happiness     5209   5194   \n",
       "hate          1323   1323   \n",
       "love          3842   3801   \n",
       "neutral       8638   8617   \n",
       "relief        1526   1524   \n",
       "sadness       5165   5160   \n",
       "surprise      2187   2187   \n",
       "worry         8459   8452   \n",
       "\n",
       "                                                                                                                                       \\\n",
       "                                                                                                                                  top   \n",
       "sentiment                                                                                                                               \n",
       "anger                                                                                                           fuckin'm transtelecom   \n",
       "boredom                                                                                                                  i'm so tired   \n",
       "empty                                    @tiffanylue i know  i was listenin to bad habit earlier and i started freakin at his part =[   \n",
       "enthusiasm                                                                                       wants to hang out with friends SOON!   \n",
       "fun         Wondering why I'm awake at 7am,writing a new song,plotting my evil secret plots muahahaha...oh damn it,not secret anymore   \n",
       "happiness                                 FREE UNLIMITED RINGTONES!!! - http://tinyurl.com/freeringring - USA ONLY - Awesome 4 iphone   \n",
       "hate                                             It is so annoying when she starts typing on her computer in the middle of the night!   \n",
       "love                     I just received a mothers day card from my lovely daughter wishing my a happy mothers day  http://tr.im/kWK9   \n",
       "neutral                                   FREE UNLIMITED RINGTONES!!! - http://tinyurl.com/freeringring - USA ONLY - Awesome 4 iphone   \n",
       "relief                http://snipurl.com/hq0n1 Just printed my mom an Amazon gift card  for Happy Mothers Day talk about last minute.   \n",
       "sadness                                                                                                                  at home sick   \n",
       "surprise                                                                                                                 Got the news   \n",
       "worry                                                                                                               i have a headache   \n",
       "\n",
       "                 \n",
       "           freq  \n",
       "sentiment        \n",
       "anger         1  \n",
       "boredom       1  \n",
       "empty         1  \n",
       "enthusiasm    1  \n",
       "fun           1  \n",
       "happiness     4  \n",
       "hate          1  \n",
       "love         13  \n",
       "neutral       4  \n",
       "relief        2  \n",
       "sadness       2  \n",
       "surprise      1  \n",
       "worry         3  "
      ]
     },
     "execution_count": 118,
     "metadata": {},
     "output_type": "execute_result"
    }
   ],
   "source": [
    "tweet_emotions.groupby(\"sentiment\").describe()"
   ]
  },
  {
   "cell_type": "markdown",
   "id": "82ad4df5-3c17-4ee3-9c79-ad34644b4b07",
   "metadata": {},
   "source": [
    "### Bar Chart"
   ]
  },
  {
   "cell_type": "code",
   "execution_count": 119,
   "id": "e629ff74-295d-4872-9b94-eb41b8c97505",
   "metadata": {
    "tags": []
   },
   "outputs": [
    {
     "data": {
      "text/plain": [
       "Text(0, 0.5, 'Emotion Frequency')"
      ]
     },
     "execution_count": 119,
     "metadata": {},
     "output_type": "execute_result"
    },
    {
     "data": {
      "image/png": "[encoded data removed]",
      "text/plain": [
       "<Figure size 640x480 with 1 Axes>"
      ]
     },
     "metadata": {},
     "output_type": "display_data"
    }
   ],
   "source": [
    "# Group the data by emotion type and count the number of tweets\n",
    "count = tweet_emotions.groupby(\"sentiment\").count()[\"content\"]\n",
    "\n",
    "# Create a bar chart\n",
    "count.plot(kind=\"bar\")\n",
    "\n",
    "# Chart labels\n",
    "plt.title(\"Emotion Frequency in Tweets\")\n",
    "plt.xlabel(\"Emotion\")\n",
    "plt.ylabel(\"Emotion Frequency\")"
   ]
  },
  {
   "cell_type": "markdown",
   "id": "cd5038d4-4a85-4a1f-a408-e64cdebcd33d",
   "metadata": {},
   "source": [
    "Here we can see that a large portion of the emotions in the tweets are categorized into worry and neutral, and very little categorized into anger and boredom. But what is the percent distribution of these emotions?"
   ]
  },
  {
   "cell_type": "markdown",
   "id": "8d4ce1b6-235e-49fe-b5d3-380014e947c1",
   "metadata": {},
   "source": [
    "### Pie Chart"
   ]
  },
  {
   "cell_type": "code",
   "execution_count": 120,
   "id": "47d3da6b-403b-4f0c-ab1b-b9f636488ae1",
   "metadata": {
    "tags": []
   },
   "outputs": [
    {
     "data": {
      "image/png": "[encoded data removed]",
      "text/plain": [
       "<Figure size 640x480 with 1 Axes>"
      ]
     },
     "metadata": {},
     "output_type": "display_data"
    }
   ],
   "source": [
    "plt.title(\"Emotion Distribution\")\n",
    "plt.pie(count, labels=count.index, autopct=\"%1.1f%%\")\n",
    "plt.show()"
   ]
  },
  {
   "cell_type": "markdown",
   "id": "7f9260c6-b7d8-4da7-a460-967d049eb066",
   "metadata": {},
   "source": [
    "According to the Pie Chart I made, neutral beats worry by .5% and although extremely hard to see it looks as though boredom beats anger by 0.1%"
   ]
  },
  {
   "cell_type": "markdown",
   "id": "ed3e5998-b2a4-467d-afad-1951bb64d981",
   "metadata": {},
   "source": [
    "### Convert all the text to lower case"
   ]
  },
  {
   "cell_type": "code",
   "execution_count": 121,
   "id": "a3e64b70-33da-48af-934c-84d4bb7ddbee",
   "metadata": {
    "tags": []
   },
   "outputs": [
    {
     "data": {
      "text/plain": [
       "0                                                @tiffanylue i know  i was listenin to bad habit earlier and i started freakin at his part =[\n",
       "1                                                                                layin n bed with a headache  ughhhh...waitin on your call...\n",
       "2                                                                                                         funeral ceremony...gloomy friday...\n",
       "3                                                                                                        wants to hang out with friends soon!\n",
       "4                                                      @dannycastillo we want to trade with someone who has houston tickets, but no one will.\n",
       "                                                                         ...                                                                 \n",
       "39995                                                                                                                        @johnlloydtaylor\n",
       "39996                                                                                                          happy mothers day  all my love\n",
       "39997             happy mother's day to all the mommies out there, be you woman or man as long as you're 'momma' to someone this is your day!\n",
       "39998              @niariley wassup beautiful!!! follow me!!  peep out my new hit singles www.myspace.com/ipsohot i def. wat u in the video!!\n",
       "39999    @mopedronin bullet train from tokyo    the gf and i have been visiting japan since thursday  vacation/sightseeing    gaijin godzilla\n",
       "Name: content, Length: 40000, dtype: object"
      ]
     },
     "execution_count": 121,
     "metadata": {},
     "output_type": "execute_result"
    }
   ],
   "source": [
    "tweet_emotions[\"content\"] = tweet_emotions[\"content\"].str.lower()\n",
    "tweet_emotions[\"content\"]"
   ]
  },
  {
   "cell_type": "markdown",
   "id": "e65c9d60-ec51-44fd-ac00-90aeb0fb65f7",
   "metadata": {},
   "source": [
    "### Remove website URLs"
   ]
  },
  {
   "cell_type": "code",
   "execution_count": 122,
   "id": "854c95cf-4e82-4ff3-96c7-f3fbdd436097",
   "metadata": {
    "tags": []
   },
   "outputs": [
    {
     "data": {
      "text/html": [
       "<div>\n",
       "<style scoped>\n",
       "    .dataframe tbody tr th:only-of-type {\n",
       "        vertical-align: middle;\n",
       "    }\n",
       "\n",
       "    .dataframe tbody tr th {\n",
       "        vertical-align: top;\n",
       "    }\n",
       "\n",
       "    .dataframe thead th {\n",
       "        text-align: right;\n",
       "    }\n",
       "</style>\n",
       "<table border=\"1\" class=\"dataframe\">\n",
       "  <thead>\n",
       "    <tr style=\"text-align: right;\">\n",
       "      <th></th>\n",
       "      <th>sentiment</th>\n",
       "      <th>content</th>\n",
       "    </tr>\n",
       "  </thead>\n",
       "  <tbody>\n",
       "    <tr>\n",
       "      <th>0</th>\n",
       "      <td>empty</td>\n",
       "      <td>@tiffanylue i know  i was listenin to bad habit earlier and i started freakin at his part =[</td>\n",
       "    </tr>\n",
       "    <tr>\n",
       "      <th>1</th>\n",
       "      <td>sadness</td>\n",
       "      <td>layin n bed with a headache  ughhhh...waitin on your call...</td>\n",
       "    </tr>\n",
       "    <tr>\n",
       "      <th>2</th>\n",
       "      <td>sadness</td>\n",
       "      <td>funeral ceremony...gloomy friday...</td>\n",
       "    </tr>\n",
       "    <tr>\n",
       "      <th>3</th>\n",
       "      <td>enthusiasm</td>\n",
       "      <td>wants to hang out with friends soon!</td>\n",
       "    </tr>\n",
       "    <tr>\n",
       "      <th>4</th>\n",
       "      <td>neutral</td>\n",
       "      <td>@dannycastillo we want to trade with someone who has houston tickets, but no one will.</td>\n",
       "    </tr>\n",
       "    <tr>\n",
       "      <th>...</th>\n",
       "      <td>...</td>\n",
       "      <td>...</td>\n",
       "    </tr>\n",
       "    <tr>\n",
       "      <th>39995</th>\n",
       "      <td>neutral</td>\n",
       "      <td>@johnlloydtaylor</td>\n",
       "    </tr>\n",
       "    <tr>\n",
       "      <th>39996</th>\n",
       "      <td>love</td>\n",
       "      <td>happy mothers day  all my love</td>\n",
       "    </tr>\n",
       "    <tr>\n",
       "      <th>39997</th>\n",
       "      <td>love</td>\n",
       "      <td>happy mother's day to all the mommies out there, be you woman or man as long as you're 'momma' to someone this is your day!</td>\n",
       "    </tr>\n",
       "    <tr>\n",
       "      <th>39998</th>\n",
       "      <td>happiness</td>\n",
       "      <td>@niariley wassup beautiful!!! follow me!!  peep out my new hit singles www.myspace.com/ipsohot i def. wat u in the video!!</td>\n",
       "    </tr>\n",
       "    <tr>\n",
       "      <th>39999</th>\n",
       "      <td>love</td>\n",
       "      <td>@mopedronin bullet train from tokyo    the gf and i have been visiting japan since thursday  vacation/sightseeing    gaijin godzilla</td>\n",
       "    </tr>\n",
       "  </tbody>\n",
       "</table>\n",
       "<p>40000 rows × 2 columns</p>\n",
       "</div>"
      ],
      "text/plain": [
       "        sentiment  \\\n",
       "0           empty   \n",
       "1         sadness   \n",
       "2         sadness   \n",
       "3      enthusiasm   \n",
       "4         neutral   \n",
       "...           ...   \n",
       "39995     neutral   \n",
       "39996        love   \n",
       "39997        love   \n",
       "39998   happiness   \n",
       "39999        love   \n",
       "\n",
       "                                                                                                                                    content  \n",
       "0                                              @tiffanylue i know  i was listenin to bad habit earlier and i started freakin at his part =[  \n",
       "1                                                                              layin n bed with a headache  ughhhh...waitin on your call...  \n",
       "2                                                                                                       funeral ceremony...gloomy friday...  \n",
       "3                                                                                                      wants to hang out with friends soon!  \n",
       "4                                                    @dannycastillo we want to trade with someone who has houston tickets, but no one will.  \n",
       "...                                                                                                                                     ...  \n",
       "39995                                                                                                                      @johnlloydtaylor  \n",
       "39996                                                                                                        happy mothers day  all my love  \n",
       "39997           happy mother's day to all the mommies out there, be you woman or man as long as you're 'momma' to someone this is your day!  \n",
       "39998            @niariley wassup beautiful!!! follow me!!  peep out my new hit singles www.myspace.com/ipsohot i def. wat u in the video!!  \n",
       "39999  @mopedronin bullet train from tokyo    the gf and i have been visiting japan since thursday  vacation/sightseeing    gaijin godzilla  \n",
       "\n",
       "[40000 rows x 2 columns]"
      ]
     },
     "execution_count": 122,
     "metadata": {},
     "output_type": "execute_result"
    }
   ],
   "source": [
    "tweet_emotions[\"content\"] = tweet_emotions[\"content\"].apply(lambda x : re.sub('http://\\S+|https://\\S+', '', x))\n",
    "tweet_emotions"
   ]
  },
  {
   "cell_type": "markdown",
   "id": "27b6d02b-17d7-47db-bfaf-497573ac50e6",
   "metadata": {},
   "source": [
    "### Remove whitespace at the front and end of a sentence"
   ]
  },
  {
   "cell_type": "code",
   "execution_count": 123,
   "id": "7ac9b0fe-8724-4330-a53e-06fbd40f1f01",
   "metadata": {
    "tags": []
   },
   "outputs": [
    {
     "data": {
      "text/html": [
       "<div>\n",
       "<style scoped>\n",
       "    .dataframe tbody tr th:only-of-type {\n",
       "        vertical-align: middle;\n",
       "    }\n",
       "\n",
       "    .dataframe tbody tr th {\n",
       "        vertical-align: top;\n",
       "    }\n",
       "\n",
       "    .dataframe thead th {\n",
       "        text-align: right;\n",
       "    }\n",
       "</style>\n",
       "<table border=\"1\" class=\"dataframe\">\n",
       "  <thead>\n",
       "    <tr style=\"text-align: right;\">\n",
       "      <th></th>\n",
       "      <th>sentiment</th>\n",
       "      <th>content</th>\n",
       "    </tr>\n",
       "  </thead>\n",
       "  <tbody>\n",
       "    <tr>\n",
       "      <th>0</th>\n",
       "      <td>empty</td>\n",
       "      <td>@tiffanylue i know  i was listenin to bad habit earlier and i started freakin at his part =[</td>\n",
       "    </tr>\n",
       "    <tr>\n",
       "      <th>1</th>\n",
       "      <td>sadness</td>\n",
       "      <td>layin n bed with a headache  ughhhh...waitin on your call...</td>\n",
       "    </tr>\n",
       "    <tr>\n",
       "      <th>2</th>\n",
       "      <td>sadness</td>\n",
       "      <td>funeral ceremony...gloomy friday...</td>\n",
       "    </tr>\n",
       "    <tr>\n",
       "      <th>3</th>\n",
       "      <td>enthusiasm</td>\n",
       "      <td>wants to hang out with friends soon!</td>\n",
       "    </tr>\n",
       "    <tr>\n",
       "      <th>4</th>\n",
       "      <td>neutral</td>\n",
       "      <td>@dannycastillo we want to trade with someone who has houston tickets, but no one will.</td>\n",
       "    </tr>\n",
       "    <tr>\n",
       "      <th>...</th>\n",
       "      <td>...</td>\n",
       "      <td>...</td>\n",
       "    </tr>\n",
       "    <tr>\n",
       "      <th>39995</th>\n",
       "      <td>neutral</td>\n",
       "      <td>@johnlloydtaylor</td>\n",
       "    </tr>\n",
       "    <tr>\n",
       "      <th>39996</th>\n",
       "      <td>love</td>\n",
       "      <td>happy mothers day  all my love</td>\n",
       "    </tr>\n",
       "    <tr>\n",
       "      <th>39997</th>\n",
       "      <td>love</td>\n",
       "      <td>happy mother's day to all the mommies out there, be you woman or man as long as you're 'momma' to someone this is your day!</td>\n",
       "    </tr>\n",
       "    <tr>\n",
       "      <th>39998</th>\n",
       "      <td>happiness</td>\n",
       "      <td>@niariley wassup beautiful!!! follow me!!  peep out my new hit singles www.myspace.com/ipsohot i def. wat u in the video!!</td>\n",
       "    </tr>\n",
       "    <tr>\n",
       "      <th>39999</th>\n",
       "      <td>love</td>\n",
       "      <td>@mopedronin bullet train from tokyo    the gf and i have been visiting japan since thursday  vacation/sightseeing    gaijin godzilla</td>\n",
       "    </tr>\n",
       "  </tbody>\n",
       "</table>\n",
       "<p>40000 rows × 2 columns</p>\n",
       "</div>"
      ],
      "text/plain": [
       "        sentiment  \\\n",
       "0           empty   \n",
       "1         sadness   \n",
       "2         sadness   \n",
       "3      enthusiasm   \n",
       "4         neutral   \n",
       "...           ...   \n",
       "39995     neutral   \n",
       "39996        love   \n",
       "39997        love   \n",
       "39998   happiness   \n",
       "39999        love   \n",
       "\n",
       "                                                                                                                                    content  \n",
       "0                                              @tiffanylue i know  i was listenin to bad habit earlier and i started freakin at his part =[  \n",
       "1                                                                              layin n bed with a headache  ughhhh...waitin on your call...  \n",
       "2                                                                                                       funeral ceremony...gloomy friday...  \n",
       "3                                                                                                      wants to hang out with friends soon!  \n",
       "4                                                    @dannycastillo we want to trade with someone who has houston tickets, but no one will.  \n",
       "...                                                                                                                                     ...  \n",
       "39995                                                                                                                      @johnlloydtaylor  \n",
       "39996                                                                                                        happy mothers day  all my love  \n",
       "39997           happy mother's day to all the mommies out there, be you woman or man as long as you're 'momma' to someone this is your day!  \n",
       "39998            @niariley wassup beautiful!!! follow me!!  peep out my new hit singles www.myspace.com/ipsohot i def. wat u in the video!!  \n",
       "39999  @mopedronin bullet train from tokyo    the gf and i have been visiting japan since thursday  vacation/sightseeing    gaijin godzilla  \n",
       "\n",
       "[40000 rows x 2 columns]"
      ]
     },
     "execution_count": 123,
     "metadata": {},
     "output_type": "execute_result"
    }
   ],
   "source": [
    "tweet_emotions[\"content\"] = tweet_emotions[\"content\"].apply(lambda x : x.strip())\n",
    "tweet_emotions"
   ]
  },
  {
   "cell_type": "markdown",
   "id": "08190e99-dfd8-4b63-a551-a262ddb4df2e",
   "metadata": {},
   "source": [
    "### Remove punctuation"
   ]
  },
  {
   "cell_type": "code",
   "execution_count": 124,
   "id": "750fe053-0ef7-491b-9dba-7c17dd624124",
   "metadata": {
    "tags": []
   },
   "outputs": [
    {
     "data": {
      "text/html": [
       "<div>\n",
       "<style scoped>\n",
       "    .dataframe tbody tr th:only-of-type {\n",
       "        vertical-align: middle;\n",
       "    }\n",
       "\n",
       "    .dataframe tbody tr th {\n",
       "        vertical-align: top;\n",
       "    }\n",
       "\n",
       "    .dataframe thead th {\n",
       "        text-align: right;\n",
       "    }\n",
       "</style>\n",
       "<table border=\"1\" class=\"dataframe\">\n",
       "  <thead>\n",
       "    <tr style=\"text-align: right;\">\n",
       "      <th></th>\n",
       "      <th>sentiment</th>\n",
       "      <th>content</th>\n",
       "    </tr>\n",
       "  </thead>\n",
       "  <tbody>\n",
       "    <tr>\n",
       "      <th>0</th>\n",
       "      <td>empty</td>\n",
       "      <td>tiffanylue i know  i was listenin to bad habit earlier and i started freakin at his part</td>\n",
       "    </tr>\n",
       "    <tr>\n",
       "      <th>1</th>\n",
       "      <td>sadness</td>\n",
       "      <td>layin n bed with a headache  ughhhhwaitin on your call</td>\n",
       "    </tr>\n",
       "    <tr>\n",
       "      <th>2</th>\n",
       "      <td>sadness</td>\n",
       "      <td>funeral ceremonygloomy friday</td>\n",
       "    </tr>\n",
       "    <tr>\n",
       "      <th>3</th>\n",
       "      <td>enthusiasm</td>\n",
       "      <td>wants to hang out with friends soon</td>\n",
       "    </tr>\n",
       "    <tr>\n",
       "      <th>4</th>\n",
       "      <td>neutral</td>\n",
       "      <td>dannycastillo we want to trade with someone who has houston tickets but no one will</td>\n",
       "    </tr>\n",
       "    <tr>\n",
       "      <th>...</th>\n",
       "      <td>...</td>\n",
       "      <td>...</td>\n",
       "    </tr>\n",
       "    <tr>\n",
       "      <th>39995</th>\n",
       "      <td>neutral</td>\n",
       "      <td>johnlloydtaylor</td>\n",
       "    </tr>\n",
       "    <tr>\n",
       "      <th>39996</th>\n",
       "      <td>love</td>\n",
       "      <td>happy mothers day  all my love</td>\n",
       "    </tr>\n",
       "    <tr>\n",
       "      <th>39997</th>\n",
       "      <td>love</td>\n",
       "      <td>happy mothers day to all the mommies out there be you woman or man as long as youre momma to someone this is your day</td>\n",
       "    </tr>\n",
       "    <tr>\n",
       "      <th>39998</th>\n",
       "      <td>happiness</td>\n",
       "      <td>niariley wassup beautiful follow me  peep out my new hit singles wwwmyspacecomipsohot i def wat u in the video</td>\n",
       "    </tr>\n",
       "    <tr>\n",
       "      <th>39999</th>\n",
       "      <td>love</td>\n",
       "      <td>mopedronin bullet train from tokyo    the gf and i have been visiting japan since thursday  vacationsightseeing    gaijin godzilla</td>\n",
       "    </tr>\n",
       "  </tbody>\n",
       "</table>\n",
       "<p>40000 rows × 2 columns</p>\n",
       "</div>"
      ],
      "text/plain": [
       "        sentiment  \\\n",
       "0           empty   \n",
       "1         sadness   \n",
       "2         sadness   \n",
       "3      enthusiasm   \n",
       "4         neutral   \n",
       "...           ...   \n",
       "39995     neutral   \n",
       "39996        love   \n",
       "39997        love   \n",
       "39998   happiness   \n",
       "39999        love   \n",
       "\n",
       "                                                                                                                                  content  \n",
       "0                                               tiffanylue i know  i was listenin to bad habit earlier and i started freakin at his part   \n",
       "1                                                                                  layin n bed with a headache  ughhhhwaitin on your call  \n",
       "2                                                                                                           funeral ceremonygloomy friday  \n",
       "3                                                                                                     wants to hang out with friends soon  \n",
       "4                                                     dannycastillo we want to trade with someone who has houston tickets but no one will  \n",
       "...                                                                                                                                   ...  \n",
       "39995                                                                                                                     johnlloydtaylor  \n",
       "39996                                                                                                      happy mothers day  all my love  \n",
       "39997               happy mothers day to all the mommies out there be you woman or man as long as youre momma to someone this is your day  \n",
       "39998                      niariley wassup beautiful follow me  peep out my new hit singles wwwmyspacecomipsohot i def wat u in the video  \n",
       "39999  mopedronin bullet train from tokyo    the gf and i have been visiting japan since thursday  vacationsightseeing    gaijin godzilla  \n",
       "\n",
       "[40000 rows x 2 columns]"
      ]
     },
     "execution_count": 124,
     "metadata": {},
     "output_type": "execute_result"
    }
   ],
   "source": [
    "tweet_emotions[\"content\"] = tweet_emotions[\"content\"].apply(lambda x: x.translate (str.maketrans('', '', string.punctuation)))\n",
    "tweet_emotions"
   ]
  },
  {
   "cell_type": "markdown",
   "id": "2faafe30-8397-457d-b71a-01df19d2b568",
   "metadata": {},
   "source": [
    "### Remove numbers"
   ]
  },
  {
   "cell_type": "code",
   "execution_count": 125,
   "id": "8346ddba-bee3-4772-a723-c3983ec1f745",
   "metadata": {
    "tags": []
   },
   "outputs": [
    {
     "data": {
      "text/html": [
       "<div>\n",
       "<style scoped>\n",
       "    .dataframe tbody tr th:only-of-type {\n",
       "        vertical-align: middle;\n",
       "    }\n",
       "\n",
       "    .dataframe tbody tr th {\n",
       "        vertical-align: top;\n",
       "    }\n",
       "\n",
       "    .dataframe thead th {\n",
       "        text-align: right;\n",
       "    }\n",
       "</style>\n",
       "<table border=\"1\" class=\"dataframe\">\n",
       "  <thead>\n",
       "    <tr style=\"text-align: right;\">\n",
       "      <th></th>\n",
       "      <th>sentiment</th>\n",
       "      <th>content</th>\n",
       "    </tr>\n",
       "  </thead>\n",
       "  <tbody>\n",
       "    <tr>\n",
       "      <th>0</th>\n",
       "      <td>empty</td>\n",
       "      <td>tiffanylue i know  i was listenin to bad habit earlier and i started freakin at his part</td>\n",
       "    </tr>\n",
       "    <tr>\n",
       "      <th>1</th>\n",
       "      <td>sadness</td>\n",
       "      <td>layin n bed with a headache  ughhhhwaitin on your call</td>\n",
       "    </tr>\n",
       "    <tr>\n",
       "      <th>2</th>\n",
       "      <td>sadness</td>\n",
       "      <td>funeral ceremonygloomy friday</td>\n",
       "    </tr>\n",
       "    <tr>\n",
       "      <th>3</th>\n",
       "      <td>enthusiasm</td>\n",
       "      <td>wants to hang out with friends soon</td>\n",
       "    </tr>\n",
       "    <tr>\n",
       "      <th>4</th>\n",
       "      <td>neutral</td>\n",
       "      <td>dannycastillo we want to trade with someone who has houston tickets but no one will</td>\n",
       "    </tr>\n",
       "    <tr>\n",
       "      <th>...</th>\n",
       "      <td>...</td>\n",
       "      <td>...</td>\n",
       "    </tr>\n",
       "    <tr>\n",
       "      <th>39995</th>\n",
       "      <td>neutral</td>\n",
       "      <td>johnlloydtaylor</td>\n",
       "    </tr>\n",
       "    <tr>\n",
       "      <th>39996</th>\n",
       "      <td>love</td>\n",
       "      <td>happy mothers day  all my love</td>\n",
       "    </tr>\n",
       "    <tr>\n",
       "      <th>39997</th>\n",
       "      <td>love</td>\n",
       "      <td>happy mothers day to all the mommies out there be you woman or man as long as youre momma to someone this is your day</td>\n",
       "    </tr>\n",
       "    <tr>\n",
       "      <th>39998</th>\n",
       "      <td>happiness</td>\n",
       "      <td>niariley wassup beautiful follow me  peep out my new hit singles wwwmyspacecomipsohot i def wat u in the video</td>\n",
       "    </tr>\n",
       "    <tr>\n",
       "      <th>39999</th>\n",
       "      <td>love</td>\n",
       "      <td>mopedronin bullet train from tokyo    the gf and i have been visiting japan since thursday  vacationsightseeing    gaijin godzilla</td>\n",
       "    </tr>\n",
       "  </tbody>\n",
       "</table>\n",
       "<p>40000 rows × 2 columns</p>\n",
       "</div>"
      ],
      "text/plain": [
       "        sentiment  \\\n",
       "0           empty   \n",
       "1         sadness   \n",
       "2         sadness   \n",
       "3      enthusiasm   \n",
       "4         neutral   \n",
       "...           ...   \n",
       "39995     neutral   \n",
       "39996        love   \n",
       "39997        love   \n",
       "39998   happiness   \n",
       "39999        love   \n",
       "\n",
       "                                                                                                                                  content  \n",
       "0                                               tiffanylue i know  i was listenin to bad habit earlier and i started freakin at his part   \n",
       "1                                                                                  layin n bed with a headache  ughhhhwaitin on your call  \n",
       "2                                                                                                           funeral ceremonygloomy friday  \n",
       "3                                                                                                     wants to hang out with friends soon  \n",
       "4                                                     dannycastillo we want to trade with someone who has houston tickets but no one will  \n",
       "...                                                                                                                                   ...  \n",
       "39995                                                                                                                     johnlloydtaylor  \n",
       "39996                                                                                                      happy mothers day  all my love  \n",
       "39997               happy mothers day to all the mommies out there be you woman or man as long as youre momma to someone this is your day  \n",
       "39998                      niariley wassup beautiful follow me  peep out my new hit singles wwwmyspacecomipsohot i def wat u in the video  \n",
       "39999  mopedronin bullet train from tokyo    the gf and i have been visiting japan since thursday  vacationsightseeing    gaijin godzilla  \n",
       "\n",
       "[40000 rows x 2 columns]"
      ]
     },
     "execution_count": 125,
     "metadata": {},
     "output_type": "execute_result"
    }
   ],
   "source": [
    "tweet_emotions[\"content\"] = tweet_emotions[\"content\"].apply(lambda x: x.translate (str.maketrans('', '', string.digits)))\n",
    "tweet_emotions"
   ]
  },
  {
   "cell_type": "markdown",
   "id": "c6327b49-4f4f-4b72-91f0-aa8e2a8242e6",
   "metadata": {},
   "source": [
    "### Tokenize"
   ]
  },
  {
   "cell_type": "code",
   "execution_count": 126,
   "id": "0d97c10a-8347-4140-b55b-dc21c67d9add",
   "metadata": {
    "tags": []
   },
   "outputs": [
    {
     "data": {
      "text/html": [
       "<div>\n",
       "<style scoped>\n",
       "    .dataframe tbody tr th:only-of-type {\n",
       "        vertical-align: middle;\n",
       "    }\n",
       "\n",
       "    .dataframe tbody tr th {\n",
       "        vertical-align: top;\n",
       "    }\n",
       "\n",
       "    .dataframe thead th {\n",
       "        text-align: right;\n",
       "    }\n",
       "</style>\n",
       "<table border=\"1\" class=\"dataframe\">\n",
       "  <thead>\n",
       "    <tr style=\"text-align: right;\">\n",
       "      <th></th>\n",
       "      <th>sentiment</th>\n",
       "      <th>content</th>\n",
       "    </tr>\n",
       "  </thead>\n",
       "  <tbody>\n",
       "    <tr>\n",
       "      <th>0</th>\n",
       "      <td>empty</td>\n",
       "      <td>[tiffanylue, i, know, i, was, listenin, to, bad, habit, earlier, and, i, started, freakin, at, his, part]</td>\n",
       "    </tr>\n",
       "    <tr>\n",
       "      <th>1</th>\n",
       "      <td>sadness</td>\n",
       "      <td>[layin, n, bed, with, a, headache, ughhhhwaitin, on, your, call]</td>\n",
       "    </tr>\n",
       "    <tr>\n",
       "      <th>2</th>\n",
       "      <td>sadness</td>\n",
       "      <td>[funeral, ceremonygloomy, friday]</td>\n",
       "    </tr>\n",
       "    <tr>\n",
       "      <th>3</th>\n",
       "      <td>enthusiasm</td>\n",
       "      <td>[wants, to, hang, out, with, friends, soon]</td>\n",
       "    </tr>\n",
       "    <tr>\n",
       "      <th>4</th>\n",
       "      <td>neutral</td>\n",
       "      <td>[dannycastillo, we, want, to, trade, with, someone, who, has, houston, tickets, but, no, one, will]</td>\n",
       "    </tr>\n",
       "    <tr>\n",
       "      <th>...</th>\n",
       "      <td>...</td>\n",
       "      <td>...</td>\n",
       "    </tr>\n",
       "    <tr>\n",
       "      <th>39995</th>\n",
       "      <td>neutral</td>\n",
       "      <td>[johnlloydtaylor]</td>\n",
       "    </tr>\n",
       "    <tr>\n",
       "      <th>39996</th>\n",
       "      <td>love</td>\n",
       "      <td>[happy, mothers, day, all, my, love]</td>\n",
       "    </tr>\n",
       "    <tr>\n",
       "      <th>39997</th>\n",
       "      <td>love</td>\n",
       "      <td>[happy, mothers, day, to, all, the, mommies, out, there, be, you, woman, or, man, as, long, as, youre, momma, to, someone, this, is, your, day]</td>\n",
       "    </tr>\n",
       "    <tr>\n",
       "      <th>39998</th>\n",
       "      <td>happiness</td>\n",
       "      <td>[niariley, wassup, beautiful, follow, me, peep, out, my, new, hit, singles, wwwmyspacecomipsohot, i, def, wat, u, in, the, video]</td>\n",
       "    </tr>\n",
       "    <tr>\n",
       "      <th>39999</th>\n",
       "      <td>love</td>\n",
       "      <td>[mopedronin, bullet, train, from, tokyo, the, gf, and, i, have, been, visiting, japan, since, thursday, vacationsightseeing, gaijin, godzilla]</td>\n",
       "    </tr>\n",
       "  </tbody>\n",
       "</table>\n",
       "<p>40000 rows × 2 columns</p>\n",
       "</div>"
      ],
      "text/plain": [
       "        sentiment  \\\n",
       "0           empty   \n",
       "1         sadness   \n",
       "2         sadness   \n",
       "3      enthusiasm   \n",
       "4         neutral   \n",
       "...           ...   \n",
       "39995     neutral   \n",
       "39996        love   \n",
       "39997        love   \n",
       "39998   happiness   \n",
       "39999        love   \n",
       "\n",
       "                                                                                                                                               content  \n",
       "0                                            [tiffanylue, i, know, i, was, listenin, to, bad, habit, earlier, and, i, started, freakin, at, his, part]  \n",
       "1                                                                                     [layin, n, bed, with, a, headache, ughhhhwaitin, on, your, call]  \n",
       "2                                                                                                                    [funeral, ceremonygloomy, friday]  \n",
       "3                                                                                                          [wants, to, hang, out, with, friends, soon]  \n",
       "4                                                  [dannycastillo, we, want, to, trade, with, someone, who, has, houston, tickets, but, no, one, will]  \n",
       "...                                                                                                                                                ...  \n",
       "39995                                                                                                                                [johnlloydtaylor]  \n",
       "39996                                                                                                             [happy, mothers, day, all, my, love]  \n",
       "39997  [happy, mothers, day, to, all, the, mommies, out, there, be, you, woman, or, man, as, long, as, youre, momma, to, someone, this, is, your, day]  \n",
       "39998                [niariley, wassup, beautiful, follow, me, peep, out, my, new, hit, singles, wwwmyspacecomipsohot, i, def, wat, u, in, the, video]  \n",
       "39999   [mopedronin, bullet, train, from, tokyo, the, gf, and, i, have, been, visiting, japan, since, thursday, vacationsightseeing, gaijin, godzilla]  \n",
       "\n",
       "[40000 rows x 2 columns]"
      ]
     },
     "execution_count": 126,
     "metadata": {},
     "output_type": "execute_result"
    }
   ],
   "source": [
    "tweet_emotions[\"content\"] = tweet_emotions[\"content\"].apply(word_tokenize)\n",
    "tweet_emotions"
   ]
  },
  {
   "cell_type": "markdown",
   "id": "f1253cdc-27d4-400e-8b29-851e21fdedcd",
   "metadata": {},
   "source": [
    "### Remove Stopwords"
   ]
  },
  {
   "cell_type": "code",
   "execution_count": 127,
   "id": "b1ff42ec-eccf-489a-a6f9-6b9821adf338",
   "metadata": {
    "tags": []
   },
   "outputs": [
    {
     "data": {
      "text/html": [
       "<div>\n",
       "<style scoped>\n",
       "    .dataframe tbody tr th:only-of-type {\n",
       "        vertical-align: middle;\n",
       "    }\n",
       "\n",
       "    .dataframe tbody tr th {\n",
       "        vertical-align: top;\n",
       "    }\n",
       "\n",
       "    .dataframe thead th {\n",
       "        text-align: right;\n",
       "    }\n",
       "</style>\n",
       "<table border=\"1\" class=\"dataframe\">\n",
       "  <thead>\n",
       "    <tr style=\"text-align: right;\">\n",
       "      <th></th>\n",
       "      <th>sentiment</th>\n",
       "      <th>content</th>\n",
       "    </tr>\n",
       "  </thead>\n",
       "  <tbody>\n",
       "    <tr>\n",
       "      <th>0</th>\n",
       "      <td>empty</td>\n",
       "      <td>[tiffanylue, know, listenin, bad, habit, earlier, started, freakin, part]</td>\n",
       "    </tr>\n",
       "    <tr>\n",
       "      <th>1</th>\n",
       "      <td>sadness</td>\n",
       "      <td>[layin, n, bed, headache, ughhhhwaitin, call]</td>\n",
       "    </tr>\n",
       "    <tr>\n",
       "      <th>2</th>\n",
       "      <td>sadness</td>\n",
       "      <td>[funeral, ceremonygloomy, friday]</td>\n",
       "    </tr>\n",
       "    <tr>\n",
       "      <th>3</th>\n",
       "      <td>enthusiasm</td>\n",
       "      <td>[wants, hang, friends, soon]</td>\n",
       "    </tr>\n",
       "    <tr>\n",
       "      <th>4</th>\n",
       "      <td>neutral</td>\n",
       "      <td>[dannycastillo, want, trade, someone, houston, tickets, one]</td>\n",
       "    </tr>\n",
       "    <tr>\n",
       "      <th>...</th>\n",
       "      <td>...</td>\n",
       "      <td>...</td>\n",
       "    </tr>\n",
       "    <tr>\n",
       "      <th>39995</th>\n",
       "      <td>neutral</td>\n",
       "      <td>[johnlloydtaylor]</td>\n",
       "    </tr>\n",
       "    <tr>\n",
       "      <th>39996</th>\n",
       "      <td>love</td>\n",
       "      <td>[happy, mothers, day, love]</td>\n",
       "    </tr>\n",
       "    <tr>\n",
       "      <th>39997</th>\n",
       "      <td>love</td>\n",
       "      <td>[happy, mothers, day, mommies, woman, man, long, youre, momma, someone, day]</td>\n",
       "    </tr>\n",
       "    <tr>\n",
       "      <th>39998</th>\n",
       "      <td>happiness</td>\n",
       "      <td>[niariley, wassup, beautiful, follow, peep, new, hit, singles, wwwmyspacecomipsohot, def, wat, u, video]</td>\n",
       "    </tr>\n",
       "    <tr>\n",
       "      <th>39999</th>\n",
       "      <td>love</td>\n",
       "      <td>[mopedronin, bullet, train, tokyo, gf, visiting, japan, since, thursday, vacationsightseeing, gaijin, godzilla]</td>\n",
       "    </tr>\n",
       "  </tbody>\n",
       "</table>\n",
       "<p>40000 rows × 2 columns</p>\n",
       "</div>"
      ],
      "text/plain": [
       "        sentiment  \\\n",
       "0           empty   \n",
       "1         sadness   \n",
       "2         sadness   \n",
       "3      enthusiasm   \n",
       "4         neutral   \n",
       "...           ...   \n",
       "39995     neutral   \n",
       "39996        love   \n",
       "39997        love   \n",
       "39998   happiness   \n",
       "39999        love   \n",
       "\n",
       "                                                                                                               content  \n",
       "0                                            [tiffanylue, know, listenin, bad, habit, earlier, started, freakin, part]  \n",
       "1                                                                        [layin, n, bed, headache, ughhhhwaitin, call]  \n",
       "2                                                                                    [funeral, ceremonygloomy, friday]  \n",
       "3                                                                                         [wants, hang, friends, soon]  \n",
       "4                                                         [dannycastillo, want, trade, someone, houston, tickets, one]  \n",
       "...                                                                                                                ...  \n",
       "39995                                                                                                [johnlloydtaylor]  \n",
       "39996                                                                                      [happy, mothers, day, love]  \n",
       "39997                                     [happy, mothers, day, mommies, woman, man, long, youre, momma, someone, day]  \n",
       "39998         [niariley, wassup, beautiful, follow, peep, new, hit, singles, wwwmyspacecomipsohot, def, wat, u, video]  \n",
       "39999  [mopedronin, bullet, train, tokyo, gf, visiting, japan, since, thursday, vacationsightseeing, gaijin, godzilla]  \n",
       "\n",
       "[40000 rows x 2 columns]"
      ]
     },
     "execution_count": 127,
     "metadata": {},
     "output_type": "execute_result"
    }
   ],
   "source": [
    "stop_words = set(stopwords.words('english'))\n",
    "\n",
    "tweet_emotions[\"content\"] = tweet_emotions[\"content\"].apply(lambda x: [word for word in x if word not in (stop_words)])\n",
    "tweet_emotions"
   ]
  },
  {
   "cell_type": "markdown",
   "id": "8f3c3882-8c80-42d4-ab9a-0a96d45b6006",
   "metadata": {},
   "source": [
    "### Lematize words"
   ]
  },
  {
   "cell_type": "code",
   "execution_count": 128,
   "id": "3c316146-29a5-4479-b17c-00c418fcb126",
   "metadata": {
    "tags": []
   },
   "outputs": [
    {
     "data": {
      "text/html": [
       "<div>\n",
       "<style scoped>\n",
       "    .dataframe tbody tr th:only-of-type {\n",
       "        vertical-align: middle;\n",
       "    }\n",
       "\n",
       "    .dataframe tbody tr th {\n",
       "        vertical-align: top;\n",
       "    }\n",
       "\n",
       "    .dataframe thead th {\n",
       "        text-align: right;\n",
       "    }\n",
       "</style>\n",
       "<table border=\"1\" class=\"dataframe\">\n",
       "  <thead>\n",
       "    <tr style=\"text-align: right;\">\n",
       "      <th></th>\n",
       "      <th>sentiment</th>\n",
       "      <th>content</th>\n",
       "    </tr>\n",
       "  </thead>\n",
       "  <tbody>\n",
       "    <tr>\n",
       "      <th>0</th>\n",
       "      <td>empty</td>\n",
       "      <td>[tiffanylue, know, listenin, bad, habit, earlier, started, freakin, part]</td>\n",
       "    </tr>\n",
       "    <tr>\n",
       "      <th>1</th>\n",
       "      <td>sadness</td>\n",
       "      <td>[layin, n, bed, headache, ughhhhwaitin, call]</td>\n",
       "    </tr>\n",
       "    <tr>\n",
       "      <th>2</th>\n",
       "      <td>sadness</td>\n",
       "      <td>[funeral, ceremonygloomy, friday]</td>\n",
       "    </tr>\n",
       "    <tr>\n",
       "      <th>3</th>\n",
       "      <td>enthusiasm</td>\n",
       "      <td>[want, hang, friend, soon]</td>\n",
       "    </tr>\n",
       "    <tr>\n",
       "      <th>4</th>\n",
       "      <td>neutral</td>\n",
       "      <td>[dannycastillo, want, trade, someone, houston, ticket, one]</td>\n",
       "    </tr>\n",
       "    <tr>\n",
       "      <th>...</th>\n",
       "      <td>...</td>\n",
       "      <td>...</td>\n",
       "    </tr>\n",
       "    <tr>\n",
       "      <th>39995</th>\n",
       "      <td>neutral</td>\n",
       "      <td>[johnlloydtaylor]</td>\n",
       "    </tr>\n",
       "    <tr>\n",
       "      <th>39996</th>\n",
       "      <td>love</td>\n",
       "      <td>[happy, mother, day, love]</td>\n",
       "    </tr>\n",
       "    <tr>\n",
       "      <th>39997</th>\n",
       "      <td>love</td>\n",
       "      <td>[happy, mother, day, mommy, woman, man, long, youre, momma, someone, day]</td>\n",
       "    </tr>\n",
       "    <tr>\n",
       "      <th>39998</th>\n",
       "      <td>happiness</td>\n",
       "      <td>[niariley, wassup, beautiful, follow, peep, new, hit, single, wwwmyspacecomipsohot, def, wat, u, video]</td>\n",
       "    </tr>\n",
       "    <tr>\n",
       "      <th>39999</th>\n",
       "      <td>love</td>\n",
       "      <td>[mopedronin, bullet, train, tokyo, gf, visiting, japan, since, thursday, vacationsightseeing, gaijin, godzilla]</td>\n",
       "    </tr>\n",
       "  </tbody>\n",
       "</table>\n",
       "<p>40000 rows × 2 columns</p>\n",
       "</div>"
      ],
      "text/plain": [
       "        sentiment  \\\n",
       "0           empty   \n",
       "1         sadness   \n",
       "2         sadness   \n",
       "3      enthusiasm   \n",
       "4         neutral   \n",
       "...           ...   \n",
       "39995     neutral   \n",
       "39996        love   \n",
       "39997        love   \n",
       "39998   happiness   \n",
       "39999        love   \n",
       "\n",
       "                                                                                                               content  \n",
       "0                                            [tiffanylue, know, listenin, bad, habit, earlier, started, freakin, part]  \n",
       "1                                                                        [layin, n, bed, headache, ughhhhwaitin, call]  \n",
       "2                                                                                    [funeral, ceremonygloomy, friday]  \n",
       "3                                                                                           [want, hang, friend, soon]  \n",
       "4                                                          [dannycastillo, want, trade, someone, houston, ticket, one]  \n",
       "...                                                                                                                ...  \n",
       "39995                                                                                                [johnlloydtaylor]  \n",
       "39996                                                                                       [happy, mother, day, love]  \n",
       "39997                                        [happy, mother, day, mommy, woman, man, long, youre, momma, someone, day]  \n",
       "39998          [niariley, wassup, beautiful, follow, peep, new, hit, single, wwwmyspacecomipsohot, def, wat, u, video]  \n",
       "39999  [mopedronin, bullet, train, tokyo, gf, visiting, japan, since, thursday, vacationsightseeing, gaijin, godzilla]  \n",
       "\n",
       "[40000 rows x 2 columns]"
      ]
     },
     "execution_count": 128,
     "metadata": {},
     "output_type": "execute_result"
    }
   ],
   "source": [
    "word_lemmatizer = WordNetLemmatizer()\n",
    "\n",
    "tweet_emotions[\"content\"] = tweet_emotions[\"content\"].apply(lambda x: [word_lemmatizer.lemmatize(word) for word in x])\n",
    "tweet_emotions"
   ]
  },
  {
   "cell_type": "markdown",
   "id": "e6647fc8-1215-4965-97ef-e7a63a1208f5",
   "metadata": {},
   "source": [
    "### Convert list back to sentences"
   ]
  },
  {
   "cell_type": "code",
   "execution_count": 129,
   "id": "f50bc532-b473-4f94-847e-1a4451e475ab",
   "metadata": {
    "tags": []
   },
   "outputs": [
    {
     "data": {
      "text/html": [
       "<div>\n",
       "<style scoped>\n",
       "    .dataframe tbody tr th:only-of-type {\n",
       "        vertical-align: middle;\n",
       "    }\n",
       "\n",
       "    .dataframe tbody tr th {\n",
       "        vertical-align: top;\n",
       "    }\n",
       "\n",
       "    .dataframe thead th {\n",
       "        text-align: right;\n",
       "    }\n",
       "</style>\n",
       "<table border=\"1\" class=\"dataframe\">\n",
       "  <thead>\n",
       "    <tr style=\"text-align: right;\">\n",
       "      <th></th>\n",
       "      <th>sentiment</th>\n",
       "      <th>content</th>\n",
       "    </tr>\n",
       "  </thead>\n",
       "  <tbody>\n",
       "    <tr>\n",
       "      <th>0</th>\n",
       "      <td>empty</td>\n",
       "      <td>tiffanylue know listenin bad habit earlier started freakin part</td>\n",
       "    </tr>\n",
       "    <tr>\n",
       "      <th>1</th>\n",
       "      <td>sadness</td>\n",
       "      <td>layin n bed headache ughhhhwaitin call</td>\n",
       "    </tr>\n",
       "    <tr>\n",
       "      <th>2</th>\n",
       "      <td>sadness</td>\n",
       "      <td>funeral ceremonygloomy friday</td>\n",
       "    </tr>\n",
       "    <tr>\n",
       "      <th>3</th>\n",
       "      <td>enthusiasm</td>\n",
       "      <td>want hang friend soon</td>\n",
       "    </tr>\n",
       "    <tr>\n",
       "      <th>4</th>\n",
       "      <td>neutral</td>\n",
       "      <td>dannycastillo want trade someone houston ticket one</td>\n",
       "    </tr>\n",
       "    <tr>\n",
       "      <th>...</th>\n",
       "      <td>...</td>\n",
       "      <td>...</td>\n",
       "    </tr>\n",
       "    <tr>\n",
       "      <th>39995</th>\n",
       "      <td>neutral</td>\n",
       "      <td>johnlloydtaylor</td>\n",
       "    </tr>\n",
       "    <tr>\n",
       "      <th>39996</th>\n",
       "      <td>love</td>\n",
       "      <td>happy mother day love</td>\n",
       "    </tr>\n",
       "    <tr>\n",
       "      <th>39997</th>\n",
       "      <td>love</td>\n",
       "      <td>happy mother day mommy woman man long youre momma someone day</td>\n",
       "    </tr>\n",
       "    <tr>\n",
       "      <th>39998</th>\n",
       "      <td>happiness</td>\n",
       "      <td>niariley wassup beautiful follow peep new hit single wwwmyspacecomipsohot def wat u video</td>\n",
       "    </tr>\n",
       "    <tr>\n",
       "      <th>39999</th>\n",
       "      <td>love</td>\n",
       "      <td>mopedronin bullet train tokyo gf visiting japan since thursday vacationsightseeing gaijin godzilla</td>\n",
       "    </tr>\n",
       "  </tbody>\n",
       "</table>\n",
       "<p>40000 rows × 2 columns</p>\n",
       "</div>"
      ],
      "text/plain": [
       "        sentiment  \\\n",
       "0           empty   \n",
       "1         sadness   \n",
       "2         sadness   \n",
       "3      enthusiasm   \n",
       "4         neutral   \n",
       "...           ...   \n",
       "39995     neutral   \n",
       "39996        love   \n",
       "39997        love   \n",
       "39998   happiness   \n",
       "39999        love   \n",
       "\n",
       "                                                                                                  content  \n",
       "0                                         tiffanylue know listenin bad habit earlier started freakin part  \n",
       "1                                                                  layin n bed headache ughhhhwaitin call  \n",
       "2                                                                           funeral ceremonygloomy friday  \n",
       "3                                                                                   want hang friend soon  \n",
       "4                                                     dannycastillo want trade someone houston ticket one  \n",
       "...                                                                                                   ...  \n",
       "39995                                                                                     johnlloydtaylor  \n",
       "39996                                                                               happy mother day love  \n",
       "39997                                       happy mother day mommy woman man long youre momma someone day  \n",
       "39998           niariley wassup beautiful follow peep new hit single wwwmyspacecomipsohot def wat u video  \n",
       "39999  mopedronin bullet train tokyo gf visiting japan since thursday vacationsightseeing gaijin godzilla  \n",
       "\n",
       "[40000 rows x 2 columns]"
      ]
     },
     "execution_count": 129,
     "metadata": {},
     "output_type": "execute_result"
    }
   ],
   "source": [
    "tweet_emotions[\"content\"] = tweet_emotions[\"content\"].apply(lambda x: ' '.join(x))\n",
    "tweet_emotions"
   ]
  },
  {
   "cell_type": "markdown",
   "id": "7c7264d0-2e87-4374-9d57-76c4bbc49db7",
   "metadata": {},
   "source": [
    "### Word Cloud"
   ]
  },
  {
   "cell_type": "code",
   "execution_count": 130,
   "id": "52091089-980c-4408-81db-7583fc3376ab",
   "metadata": {
    "tags": []
   },
   "outputs": [
    {
     "name": "stdout",
     "output_type": "stream",
     "text": [
      "There are 1951970 words in the combination of all review.\n"
     ]
    }
   ],
   "source": [
    "text = \" \".join(review for review in tweet_emotions[\"content\"])\n",
    "print (\"There are {} words in the combination of all review.\".format(len(text)))"
   ]
  },
  {
   "cell_type": "code",
   "execution_count": 131,
   "id": "d8ad006f-7953-41ee-b016-76824c3303b5",
   "metadata": {
    "tags": []
   },
   "outputs": [
    {
     "data": {
      "image/png": "[encoded data removed]",
      "text/plain": [
       "<Figure size 640x480 with 1 Axes>"
      ]
     },
     "metadata": {},
     "output_type": "display_data"
    }
   ],
   "source": [
    "# Generate a word cloud image\n",
    "wordcloud = WordCloud(max_font_size=50, max_words=100, background_color=\"white\").generate(text)\n",
    "\n",
    "# Display the generated image:\n",
    "# the matplotlib way:\n",
    "plt.imshow(wordcloud, interpolation='bilinear')\n",
    "plt.axis(\"off\")\n",
    "plt.show()"
   ]
  },
  {
   "cell_type": "markdown",
   "id": "c168e164-9327-45b5-9693-4159bc07060e",
   "metadata": {},
   "source": [
    "#### Change the emotions to labels"
   ]
  },
  {
   "cell_type": "code",
   "execution_count": 132,
   "id": "d8625d2f-c4a3-4e21-bad9-27e9aa4874cb",
   "metadata": {
    "tags": []
   },
   "outputs": [
    {
     "data": {
      "text/html": [
       "<div>\n",
       "<style scoped>\n",
       "    .dataframe tbody tr th:only-of-type {\n",
       "        vertical-align: middle;\n",
       "    }\n",
       "\n",
       "    .dataframe tbody tr th {\n",
       "        vertical-align: top;\n",
       "    }\n",
       "\n",
       "    .dataframe thead th {\n",
       "        text-align: right;\n",
       "    }\n",
       "</style>\n",
       "<table border=\"1\" class=\"dataframe\">\n",
       "  <thead>\n",
       "    <tr style=\"text-align: right;\">\n",
       "      <th></th>\n",
       "      <th>sentiment</th>\n",
       "      <th>content</th>\n",
       "    </tr>\n",
       "  </thead>\n",
       "  <tbody>\n",
       "    <tr>\n",
       "      <th>0</th>\n",
       "      <td>2.0</td>\n",
       "      <td>tiffanylue know listenin bad habit earlier started freakin part</td>\n",
       "    </tr>\n",
       "    <tr>\n",
       "      <th>1</th>\n",
       "      <td>10.0</td>\n",
       "      <td>layin n bed headache ughhhhwaitin call</td>\n",
       "    </tr>\n",
       "    <tr>\n",
       "      <th>2</th>\n",
       "      <td>10.0</td>\n",
       "      <td>funeral ceremonygloomy friday</td>\n",
       "    </tr>\n",
       "    <tr>\n",
       "      <th>3</th>\n",
       "      <td>3.0</td>\n",
       "      <td>want hang friend soon</td>\n",
       "    </tr>\n",
       "    <tr>\n",
       "      <th>4</th>\n",
       "      <td>8.0</td>\n",
       "      <td>dannycastillo want trade someone houston ticket one</td>\n",
       "    </tr>\n",
       "    <tr>\n",
       "      <th>...</th>\n",
       "      <td>...</td>\n",
       "      <td>...</td>\n",
       "    </tr>\n",
       "    <tr>\n",
       "      <th>39995</th>\n",
       "      <td>8.0</td>\n",
       "      <td>johnlloydtaylor</td>\n",
       "    </tr>\n",
       "    <tr>\n",
       "      <th>39996</th>\n",
       "      <td>7.0</td>\n",
       "      <td>happy mother day love</td>\n",
       "    </tr>\n",
       "    <tr>\n",
       "      <th>39997</th>\n",
       "      <td>7.0</td>\n",
       "      <td>happy mother day mommy woman man long youre momma someone day</td>\n",
       "    </tr>\n",
       "    <tr>\n",
       "      <th>39998</th>\n",
       "      <td>5.0</td>\n",
       "      <td>niariley wassup beautiful follow peep new hit single wwwmyspacecomipsohot def wat u video</td>\n",
       "    </tr>\n",
       "    <tr>\n",
       "      <th>39999</th>\n",
       "      <td>7.0</td>\n",
       "      <td>mopedronin bullet train tokyo gf visiting japan since thursday vacationsightseeing gaijin godzilla</td>\n",
       "    </tr>\n",
       "  </tbody>\n",
       "</table>\n",
       "<p>40000 rows × 2 columns</p>\n",
       "</div>"
      ],
      "text/plain": [
       "       sentiment  \\\n",
       "0            2.0   \n",
       "1           10.0   \n",
       "2           10.0   \n",
       "3            3.0   \n",
       "4            8.0   \n",
       "...          ...   \n",
       "39995        8.0   \n",
       "39996        7.0   \n",
       "39997        7.0   \n",
       "39998        5.0   \n",
       "39999        7.0   \n",
       "\n",
       "                                                                                                  content  \n",
       "0                                         tiffanylue know listenin bad habit earlier started freakin part  \n",
       "1                                                                  layin n bed headache ughhhhwaitin call  \n",
       "2                                                                           funeral ceremonygloomy friday  \n",
       "3                                                                                   want hang friend soon  \n",
       "4                                                     dannycastillo want trade someone houston ticket one  \n",
       "...                                                                                                   ...  \n",
       "39995                                                                                     johnlloydtaylor  \n",
       "39996                                                                               happy mother day love  \n",
       "39997                                       happy mother day mommy woman man long youre momma someone day  \n",
       "39998           niariley wassup beautiful follow peep new hit single wwwmyspacecomipsohot def wat u video  \n",
       "39999  mopedronin bullet train tokyo gf visiting japan since thursday vacationsightseeing gaijin godzilla  \n",
       "\n",
       "[40000 rows x 2 columns]"
      ]
     },
     "execution_count": 132,
     "metadata": {},
     "output_type": "execute_result"
    }
   ],
   "source": [
    "# Here we will use SKLearn to encode each satisfaction label\n",
    "\n",
    "ordinalencoder = OrdinalEncoder(categories=[[\"anger\", \"boredom\", \"empty\", \"enthusiasm\", \"fun\", \"happiness\", \"hate\", \"love\", \"neutral\", \"relief\", \"sadness\", \"surprise\", \"worry\" ]])\n",
    "\n",
    "tweet_emotions['sentiment'] = ordinalencoder.fit_transform(tweet_emotions[['sentiment']])\n",
    "\n",
    "#label_map = {\"anger\": 0, \"boredom\": 1, \"empty\": 2, \"enthusiasm\": 3, \"fun\": 4, \"happiness\": 5, \"hate\": 6, \"love\": 7, \"neutral\": 8, \"relief\": 9, \"sadness\": 10, \"surprise\": 11, \"worry\": 12}\n",
    "#tweet_emotions[\"senitment\"] = tweet_emotions[\"sentiment\"].astype(\"int\")\n",
    "#tweet_emotions[\"sentiment\"] = tweet_emotions[\"sentiment\"].map(label_map)\n",
    "tweet_emotions"
   ]
  },
  {
   "cell_type": "markdown",
   "id": "0789f694-ae1e-44d2-8f12-7f53695ed1e1",
   "metadata": {},
   "source": [
    "#### Add the _ _ LABEL _ _ Prefix to the labels"
   ]
  },
  {
   "cell_type": "code",
   "execution_count": 133,
   "id": "4c9b3f82-412e-4861-a195-b06f7fb3a918",
   "metadata": {
    "tags": []
   },
   "outputs": [
    {
     "data": {
      "text/html": [
       "<div>\n",
       "<style scoped>\n",
       "    .dataframe tbody tr th:only-of-type {\n",
       "        vertical-align: middle;\n",
       "    }\n",
       "\n",
       "    .dataframe tbody tr th {\n",
       "        vertical-align: top;\n",
       "    }\n",
       "\n",
       "    .dataframe thead th {\n",
       "        text-align: right;\n",
       "    }\n",
       "</style>\n",
       "<table border=\"1\" class=\"dataframe\">\n",
       "  <thead>\n",
       "    <tr style=\"text-align: right;\">\n",
       "      <th></th>\n",
       "      <th>sentiment</th>\n",
       "      <th>content</th>\n",
       "    </tr>\n",
       "  </thead>\n",
       "  <tbody>\n",
       "    <tr>\n",
       "      <th>0</th>\n",
       "      <td>__label__2.0</td>\n",
       "      <td>tiffanylue know listenin bad habit earlier started freakin part</td>\n",
       "    </tr>\n",
       "    <tr>\n",
       "      <th>1</th>\n",
       "      <td>__label__10.0</td>\n",
       "      <td>layin n bed headache ughhhhwaitin call</td>\n",
       "    </tr>\n",
       "    <tr>\n",
       "      <th>2</th>\n",
       "      <td>__label__10.0</td>\n",
       "      <td>funeral ceremonygloomy friday</td>\n",
       "    </tr>\n",
       "    <tr>\n",
       "      <th>3</th>\n",
       "      <td>__label__3.0</td>\n",
       "      <td>want hang friend soon</td>\n",
       "    </tr>\n",
       "    <tr>\n",
       "      <th>4</th>\n",
       "      <td>__label__8.0</td>\n",
       "      <td>dannycastillo want trade someone houston ticket one</td>\n",
       "    </tr>\n",
       "    <tr>\n",
       "      <th>...</th>\n",
       "      <td>...</td>\n",
       "      <td>...</td>\n",
       "    </tr>\n",
       "    <tr>\n",
       "      <th>39995</th>\n",
       "      <td>__label__8.0</td>\n",
       "      <td>johnlloydtaylor</td>\n",
       "    </tr>\n",
       "    <tr>\n",
       "      <th>39996</th>\n",
       "      <td>__label__7.0</td>\n",
       "      <td>happy mother day love</td>\n",
       "    </tr>\n",
       "    <tr>\n",
       "      <th>39997</th>\n",
       "      <td>__label__7.0</td>\n",
       "      <td>happy mother day mommy woman man long youre momma someone day</td>\n",
       "    </tr>\n",
       "    <tr>\n",
       "      <th>39998</th>\n",
       "      <td>__label__5.0</td>\n",
       "      <td>niariley wassup beautiful follow peep new hit single wwwmyspacecomipsohot def wat u video</td>\n",
       "    </tr>\n",
       "    <tr>\n",
       "      <th>39999</th>\n",
       "      <td>__label__7.0</td>\n",
       "      <td>mopedronin bullet train tokyo gf visiting japan since thursday vacationsightseeing gaijin godzilla</td>\n",
       "    </tr>\n",
       "  </tbody>\n",
       "</table>\n",
       "<p>40000 rows × 2 columns</p>\n",
       "</div>"
      ],
      "text/plain": [
       "           sentiment  \\\n",
       "0       __label__2.0   \n",
       "1      __label__10.0   \n",
       "2      __label__10.0   \n",
       "3       __label__3.0   \n",
       "4       __label__8.0   \n",
       "...              ...   \n",
       "39995   __label__8.0   \n",
       "39996   __label__7.0   \n",
       "39997   __label__7.0   \n",
       "39998   __label__5.0   \n",
       "39999   __label__7.0   \n",
       "\n",
       "                                                                                                  content  \n",
       "0                                         tiffanylue know listenin bad habit earlier started freakin part  \n",
       "1                                                                  layin n bed headache ughhhhwaitin call  \n",
       "2                                                                           funeral ceremonygloomy friday  \n",
       "3                                                                                   want hang friend soon  \n",
       "4                                                     dannycastillo want trade someone houston ticket one  \n",
       "...                                                                                                   ...  \n",
       "39995                                                                                     johnlloydtaylor  \n",
       "39996                                                                               happy mother day love  \n",
       "39997                                       happy mother day mommy woman man long youre momma someone day  \n",
       "39998           niariley wassup beautiful follow peep new hit single wwwmyspacecomipsohot def wat u video  \n",
       "39999  mopedronin bullet train tokyo gf visiting japan since thursday vacationsightseeing gaijin godzilla  \n",
       "\n",
       "[40000 rows x 2 columns]"
      ]
     },
     "execution_count": 133,
     "metadata": {},
     "output_type": "execute_result"
    }
   ],
   "source": [
    "# Concatenate __label__ with twitter['Category'] \n",
    "\n",
    "# label is numeric so convert to string\n",
    "tweet_emotions[\"sentiment\"] = tweet_emotions[\"sentiment\"].astype('string')\n",
    "\n",
    "tweet_emotions[\"sentiment\"] = \"__label__\" + tweet_emotions[\"sentiment\"]\n",
    "tweet_emotions"
   ]
  },
  {
   "cell_type": "markdown",
   "id": "b60f54ff-4418-46bd-b5c8-a2ab39d51553",
   "metadata": {},
   "source": [
    "#### Move sentiment to the end of the dataset"
   ]
  },
  {
   "cell_type": "code",
   "execution_count": 134,
   "id": "7e90e5ff-bafc-435a-8b9b-f1724ead3410",
   "metadata": {
    "tags": []
   },
   "outputs": [
    {
     "data": {
      "text/html": [
       "<div>\n",
       "<style scoped>\n",
       "    .dataframe tbody tr th:only-of-type {\n",
       "        vertical-align: middle;\n",
       "    }\n",
       "\n",
       "    .dataframe tbody tr th {\n",
       "        vertical-align: top;\n",
       "    }\n",
       "\n",
       "    .dataframe thead th {\n",
       "        text-align: right;\n",
       "    }\n",
       "</style>\n",
       "<table border=\"1\" class=\"dataframe\">\n",
       "  <thead>\n",
       "    <tr style=\"text-align: right;\">\n",
       "      <th></th>\n",
       "      <th>content</th>\n",
       "      <th>sentiment</th>\n",
       "    </tr>\n",
       "  </thead>\n",
       "  <tbody>\n",
       "    <tr>\n",
       "      <th>0</th>\n",
       "      <td>tiffanylue know listenin bad habit earlier started freakin part</td>\n",
       "      <td>__label__2.0</td>\n",
       "    </tr>\n",
       "    <tr>\n",
       "      <th>1</th>\n",
       "      <td>layin n bed headache ughhhhwaitin call</td>\n",
       "      <td>__label__10.0</td>\n",
       "    </tr>\n",
       "    <tr>\n",
       "      <th>2</th>\n",
       "      <td>funeral ceremonygloomy friday</td>\n",
       "      <td>__label__10.0</td>\n",
       "    </tr>\n",
       "    <tr>\n",
       "      <th>3</th>\n",
       "      <td>want hang friend soon</td>\n",
       "      <td>__label__3.0</td>\n",
       "    </tr>\n",
       "    <tr>\n",
       "      <th>4</th>\n",
       "      <td>dannycastillo want trade someone houston ticket one</td>\n",
       "      <td>__label__8.0</td>\n",
       "    </tr>\n",
       "    <tr>\n",
       "      <th>...</th>\n",
       "      <td>...</td>\n",
       "      <td>...</td>\n",
       "    </tr>\n",
       "    <tr>\n",
       "      <th>39995</th>\n",
       "      <td>johnlloydtaylor</td>\n",
       "      <td>__label__8.0</td>\n",
       "    </tr>\n",
       "    <tr>\n",
       "      <th>39996</th>\n",
       "      <td>happy mother day love</td>\n",
       "      <td>__label__7.0</td>\n",
       "    </tr>\n",
       "    <tr>\n",
       "      <th>39997</th>\n",
       "      <td>happy mother day mommy woman man long youre momma someone day</td>\n",
       "      <td>__label__7.0</td>\n",
       "    </tr>\n",
       "    <tr>\n",
       "      <th>39998</th>\n",
       "      <td>niariley wassup beautiful follow peep new hit single wwwmyspacecomipsohot def wat u video</td>\n",
       "      <td>__label__5.0</td>\n",
       "    </tr>\n",
       "    <tr>\n",
       "      <th>39999</th>\n",
       "      <td>mopedronin bullet train tokyo gf visiting japan since thursday vacationsightseeing gaijin godzilla</td>\n",
       "      <td>__label__7.0</td>\n",
       "    </tr>\n",
       "  </tbody>\n",
       "</table>\n",
       "<p>40000 rows × 2 columns</p>\n",
       "</div>"
      ],
      "text/plain": [
       "                                                                                                  content  \\\n",
       "0                                         tiffanylue know listenin bad habit earlier started freakin part   \n",
       "1                                                                  layin n bed headache ughhhhwaitin call   \n",
       "2                                                                           funeral ceremonygloomy friday   \n",
       "3                                                                                   want hang friend soon   \n",
       "4                                                     dannycastillo want trade someone houston ticket one   \n",
       "...                                                                                                   ...   \n",
       "39995                                                                                     johnlloydtaylor   \n",
       "39996                                                                               happy mother day love   \n",
       "39997                                       happy mother day mommy woman man long youre momma someone day   \n",
       "39998           niariley wassup beautiful follow peep new hit single wwwmyspacecomipsohot def wat u video   \n",
       "39999  mopedronin bullet train tokyo gf visiting japan since thursday vacationsightseeing gaijin godzilla   \n",
       "\n",
       "           sentiment  \n",
       "0       __label__2.0  \n",
       "1      __label__10.0  \n",
       "2      __label__10.0  \n",
       "3       __label__3.0  \n",
       "4       __label__8.0  \n",
       "...              ...  \n",
       "39995   __label__8.0  \n",
       "39996   __label__7.0  \n",
       "39997   __label__7.0  \n",
       "39998   __label__5.0  \n",
       "39999   __label__7.0  \n",
       "\n",
       "[40000 rows x 2 columns]"
      ]
     },
     "execution_count": 134,
     "metadata": {},
     "output_type": "execute_result"
    }
   ],
   "source": [
    "new_cols = [\"content\", \"sentiment\"]\n",
    "tweet_emotions = tweet_emotions.reindex(columns=new_cols)\n",
    "tweet_emotions"
   ]
  },
  {
   "cell_type": "markdown",
   "id": "1fc41a81-fd56-4f0c-baa2-1025f708884c",
   "metadata": {},
   "source": [
    "## Training\n",
    "\n",
    "Supervised learning is a type of machine learning where an algorithm makes predicitons based on labeled data. The labeled data has input examples and their corresponding output labels. The goal of supervised learning is to learn a function that can map the input examples to the correct output labels, so that the algorithm can predict the output label for new and not yet seen examples.\n",
    "\n",
    "With this dataset, I am trying to predict the emotion (output label) that is associated with a given text (input example). Since there are multiple emotions  we can associate with different texts, I am using multi-classification. In multi-classification, the goal is to predict one of several possible output labels. In this case, the model will try to predict one of 13 possible emotions.\n",
    "\n",
    "To implement the multi-classification algorithm, I am using AWS linear learner algorithm. Linear learner is a supervised learning algorithm that is based on linear models and supports multi-classification along with many other types of algorithms. It is great for large datasets which is what we are using."
   ]
  },
  {
   "cell_type": "markdown",
   "id": "d8bd1ae7-3293-4b40-a34e-e14757b28078",
   "metadata": {},
   "source": [
    "## Training the Model"
   ]
  },
  {
   "cell_type": "code",
   "execution_count": 135,
   "id": "15ee110a-e3ad-4617-ab80-e5ab7befcf9d",
   "metadata": {
    "tags": []
   },
   "outputs": [],
   "source": [
    "# Shuffle and Split the data into 80% training and 20% validating\n",
    "\n",
    "train_data, validate_data = train_test_split(tweet_emotions, test_size=0.2)\n",
    "\n",
    "# Convert dataframes to TEXT files and save them locally to the notebook and make sure to exclude the headers so that BlazingText will accept the file\n",
    "\n",
    "train_data.to_csv('tweet_emotions.train', sep=' ', header=False, index=False, quotechar=\" \")\n",
    "validate_data.to_csv('tweet_emotions.validate', sep=' ', header=False, index=False, quotechar=\" \")"
   ]
  },
  {
   "cell_type": "code",
   "execution_count": 136,
   "id": "6c57e45e-f4c0-4d05-bfdc-450564a62740",
   "metadata": {
    "tags": []
   },
   "outputs": [
    {
     "name": "stdout",
     "output_type": "stream",
     "text": [
      "s3://sagemaker-us-east-1-006789315315/twitter_emotions/input/train/tweet_emotions.train\n",
      "s3://sagemaker-us-east-1-006789315315/twitter_emotions/input/validate/tweet_emotions.validate\n",
      "s3://sagemaker-us-east-1-006789315315/twitter_emotions/output\n"
     ]
    }
   ],
   "source": [
    "# Copy the file to your S3 bucket using sess.upload_data\n",
    "# You will need to pass the file to be uploaded, a prefix (top level folder to store the data) and the subfolders\n",
    "# Here we will also define the output folder for the results\n",
    "# Note I did not call them .csv because the are not csv files but text files\n",
    "\n",
    "prefix = 'twitter_emotions'\n",
    "training_data_path = sess.upload_data( path='tweet_emotions.train', key_prefix=prefix + '/input/train') \n",
    "validation_data_path = sess.upload_data( path='tweet_emotions.validate', key_prefix=prefix + '/input/validate')\n",
    "output_data_path = 's3://{}/{}/output'.format(bucket, prefix)\n",
    "print(training_data_path)\n",
    "print(validation_data_path)\n",
    "print(output_data_path)"
   ]
  },
  {
   "cell_type": "code",
   "execution_count": 137,
   "id": "832cdd4e-d7e4-4950-9b3b-e3448e28a8bd",
   "metadata": {
    "tags": []
   },
   "outputs": [
    {
     "name": "stderr",
     "output_type": "stream",
     "text": [
      "INFO:sagemaker.image_uris:Same images used for training and inference. Defaulting to image scope: inference.\n",
      "INFO:sagemaker.image_uris:Defaulting to the only supported framework/algorithm version: 1.\n",
      "INFO:sagemaker.image_uris:Ignoring unnecessary instance type: None.\n"
     ]
    }
   ],
   "source": [
    "# Create the training container\n",
    "\n",
    "container = image_uris.retrieve(framework='blazingtext',region=region)"
   ]
  },
  {
   "cell_type": "code",
   "execution_count": 138,
   "id": "df522817-38ae-4f91-9d33-ae5105effa62",
   "metadata": {
    "tags": []
   },
   "outputs": [],
   "source": [
    "# Create your data channels\n",
    "\n",
    "train_data = sagemaker.inputs.TrainingInput(\n",
    "    training_data_path,\n",
    "    distribution=\"FullyReplicated\",\n",
    "    content_type=\"text/plain\",\n",
    "    s3_data_type=\"S3Prefix\",\n",
    ")\n",
    "validate_data = sagemaker.inputs.TrainingInput(\n",
    "    validation_data_path,\n",
    "    distribution=\"FullyReplicated\",\n",
    "    content_type=\"text/plain\",\n",
    "    s3_data_type=\"S3Prefix\",\n",
    ")\n",
    "data_channels = {\"train\": train_data, \"validation\": validate_data}"
   ]
  },
  {
   "cell_type": "code",
   "execution_count": 139,
   "id": "16d15e74-b475-49e2-b85f-7255d0f9a20f",
   "metadata": {
    "tags": []
   },
   "outputs": [],
   "source": [
    "# Here we are using the only required hyperameter and everything else will be set to default\n",
    "\n",
    "bt_model = Estimator(\n",
    "    container,\n",
    "    role,\n",
    "    instance_count=1,\n",
    "    instance_type=\"ml.m5.large\",\n",
    "    volume_size=30,\n",
    "    max_run=360000,\n",
    "    input_mode=\"File\",\n",
    "    output_path=output_data_path,\n",
    "    hyperparameters={\n",
    "        \"mode\": \"supervised\"\n",
    "    },\n",
    ")"
   ]
  },
  {
   "cell_type": "code",
   "execution_count": 140,
   "id": "6d075b39-55e3-4401-9c95-454e73d12899",
   "metadata": {
    "tags": []
   },
   "outputs": [],
   "source": [
    "# The BlazingText Text Classification algorithm (supervised mode), also reports on a single metric during training: the validation:accuracy.\n",
    "\n",
    "from sagemaker.tuner import IntegerParameter, CategoricalParameter, ContinuousParameter, HyperparameterTuner\n",
    "\n",
    "hypertuner = HyperparameterTuner(bt_model, \n",
    "                                 objective_metric_name = 'validation:accuracy',\n",
    "                                 hyperparameter_ranges = {\n",
    "                                 'epochs' : CategoricalParameter([1,3,5]),\n",
    "                                 'min_count' : CategoricalParameter([1,3,5]),\n",
    "                                 'learning_rate' : ContinuousParameter(0.01, 0.1),\n",
    "                                 'batch_size': CategoricalParameter([32,64,128,256,512])},   \n",
    "                                 objective_type = 'Maximize',\n",
    "                                 metric_definitions = [{'Name': 'validation:accuracy', 'Regex': 'loss (\\S+)'}],\n",
    "                                 max_jobs=10, \n",
    "                                 max_parallel_jobs=1\n",
    "                                )\n"
   ]
  },
  {
   "cell_type": "code",
   "execution_count": 98,
   "id": "60b9894e-b865-4265-bd25-c8a4cb2adbf0",
   "metadata": {
    "tags": []
   },
   "outputs": [
    {
     "name": "stderr",
     "output_type": "stream",
     "text": [
      "WARNING:sagemaker.estimator:No finished training job found associated with this estimator. Please make sure this estimator is only used for building workflow config\n",
      "WARNING:sagemaker.estimator:No finished training job found associated with this estimator. Please make sure this estimator is only used for building workflow config\n",
      "INFO:sagemaker:Creating hyperparameter tuning job with name: blazingtext-230320-0052\n"
     ]
    },
    {
     "name": "stdout",
     "output_type": "stream",
     "text": [
      "........................................................................................................................................................................................................................................................................................................................................................................!\n"
     ]
    }
   ],
   "source": [
    "# Start the training and tuning\n",
    "\n",
    "hypertuner.fit(inputs=data_channels, logs=True)"
   ]
  },
  {
   "cell_type": "code",
   "execution_count": 99,
   "id": "a702d8a2-86d2-423d-bc86-1ebcc36de550",
   "metadata": {
    "tags": []
   },
   "outputs": [
    {
     "name": "stdout",
     "output_type": "stream",
     "text": [
      "Best hyerparameter tuning job:blazingtext-230320-0052-008-73663679\n",
      "\n",
      "2023-03-20 01:16:54 Starting - Found matching resource for reuse\n",
      "2023-03-20 01:16:54 Downloading - Downloading input data\n",
      "2023-03-20 01:16:54 Training - Training image download completed. Training in progress.\n",
      "2023-03-20 01:16:54 Uploading - Uploading generated training model\n",
      "2023-03-20 01:16:54 Completed - Resource reused by training job: blazingtext-230320-0052-009-ffcff17e\n",
      "Best parameters found={'_tuning_objective_metric': 'validation:accuracy', 'batch_size': '128', 'epochs': '5', 'learning_rate': '0.09976194005137197', 'min_count': '1', 'mode': 'supervised'}\n"
     ]
    }
   ],
   "source": [
    "# Print out the best parameters the tuning job found\n",
    "\n",
    "print(\"Best hyerparameter tuning job:{}\".format(hypertuner.best_training_job()))\n",
    "print(\"Best parameters found={}\".format(hypertuner.best_estimator().hyperparameters()))"
   ]
  },
  {
   "cell_type": "code",
   "execution_count": 141,
   "id": "fb7a7ab1-fec2-49d9-b0cb-e0cdb09be532",
   "metadata": {
    "tags": []
   },
   "outputs": [],
   "source": [
    "# Confirgure the model with the parameters that were printed\n",
    "\n",
    "bt_model = Estimator(\n",
    "    container,\n",
    "    role,\n",
    "    instance_count=1,\n",
    "    instance_type=\"ml.m5.large\",\n",
    "    volume_size=30,\n",
    "    max_run=360000,\n",
    "    input_mode=\"File\",\n",
    "    output_path=output_data_path,\n",
    "    hyperparameters={\n",
    "        \"mode\": \"supervised\",\n",
    "        \"batch_size\": 128,\n",
    "        \"epochs\": 5,\n",
    "        \"learning_rate\": 0.09976194005137197,\n",
    "        \"min_count\": 1\n",
    "    },\n",
    ")"
   ]
  },
  {
   "cell_type": "markdown",
   "id": "9cdc3357-3b04-426d-b2dd-9219cb150166",
   "metadata": {},
   "source": [
    "## Hyperparameter Tuning\n",
    "\n",
    "Hyperparameter tuning is a very important step when making machine learning models.The objective is to maximize the accuracy of a model on the validation set. The validation accuracy metric is used as the tuning objective since it gives an accurate measure of the model's ability to predict new data. The hyperparameters that were tuned include the batch size, epochs, learning rate, min_count, and mode.\n",
    "\n",
    "Batch size is number of samples processed each iteration during the training of the model. It was determined that the best value for batch size was 32.\n",
    "\n",
    "Epochs determine the number of times the entire training dataset is passed through the model when being trained. The number of epochs is very important because if the number is too little underfitting can occur and if the number is too high overfitting can occur. The best hyperparameter that was found in this case was 5.\n",
    "\n",
    "Learning rate controls step size taken during gradient descent optimization. The value of learning rate is important because a higher learning rate can cause the optimization to overshoot the optimal solution. A learnign rate of 0.09976194005137197 was determined to be the best.\n",
    "\n",
    "min_count or minimum word count controls the minimum amount of times a word is required to be include in the vocabulary and it was found that min_count optimal value for our model is 1"
   ]
  },
  {
   "cell_type": "code",
   "execution_count": 145,
   "id": "8cbfa618-475a-43e3-ac44-51a3da4d1e3c",
   "metadata": {
    "tags": []
   },
   "outputs": [
    {
     "name": "stderr",
     "output_type": "stream",
     "text": [
      "INFO:sagemaker:Creating training-job with name: blazingtext-2023-03-20-02-32-11-155\n"
     ]
    },
    {
     "name": "stdout",
     "output_type": "stream",
     "text": [
      "2023-03-20 02:32:11 Starting - Starting the training job...\n",
      "2023-03-20 02:32:27 Starting - Preparing the instances for training......\n",
      "2023-03-20 02:33:16 Downloading - Downloading input data...\n",
      "2023-03-20 02:34:07 Training - Training image download completed. Training in progress..\u001b[34mArguments: train\u001b[0m\n",
      "\u001b[34m[03/20/2023 02:34:11 WARNING 140173727594304] Loggers have already been setup.\u001b[0m\n",
      "\u001b[34m[03/20/2023 02:34:11 WARNING 140173727594304] Loggers have already been setup.\u001b[0m\n",
      "\u001b[34m[03/20/2023 02:34:11 INFO 140173727594304] nvidia-smi took: 0.025181055068969727 secs to identify 0 gpus\u001b[0m\n",
      "\u001b[34m[03/20/2023 02:34:11 INFO 140173727594304] Running single machine CPU BlazingText training using supervised mode.\u001b[0m\n",
      "\u001b[34mNumber of CPU sockets found in instance is  1\u001b[0m\n",
      "\u001b[34m[03/20/2023 02:34:12 INFO 140173727594304] Processing /opt/ml/input/data/train/tweet_emotions.train . File size: 2.165142059326172 MB\u001b[0m\n",
      "\u001b[34m[03/20/2023 02:34:12 INFO 140173727594304] Processing /opt/ml/input/data/validation/tweet_emotions.validate . File size: 0.5391340255737305 MB\u001b[0m\n",
      "\u001b[34mRead 0M words\u001b[0m\n",
      "\u001b[34mNumber of words:  40470\u001b[0m\n",
      "\u001b[34m##### Alpha: 0.0828  Progress: 16.96%  Million Words/sec: 2.63 #####\u001b[0m\n",
      "\u001b[34m##### Alpha: 0.0652  Progress: 34.63%  Million Words/sec: 2.68 #####\u001b[0m\n",
      "\u001b[34m##### Alpha: 0.0474  Progress: 52.46%  Million Words/sec: 2.71 #####\u001b[0m\n",
      "\u001b[34m##### Alpha: 0.0304  Progress: 69.50%  Million Words/sec: 2.69 #####\u001b[0m\n",
      "\u001b[34m##### Alpha: 0.0128  Progress: 87.19%  Million Words/sec: 2.70 #####\u001b[0m\n",
      "\u001b[34m##### Alpha: -0.0000  Progress: 100.00%  Million Words/sec: 2.58 #####\u001b[0m\n",
      "\u001b[34m##### Alpha: 0.0000  Progress: 100.00%  Million Words/sec: 2.58 #####\u001b[0m\n",
      "\u001b[34mTraining finished.\u001b[0m\n",
      "\u001b[34mAverage throughput in Million words/sec: 2.58\u001b[0m\n",
      "\u001b[34mTotal training time in seconds: 0.60\u001b[0m\n",
      "\u001b[34m#train_accuracy: 0.5536\u001b[0m\n",
      "\u001b[34mNumber of train examples: 32000\u001b[0m\n",
      "\u001b[34m#validation_accuracy: 0.3503\u001b[0m\n",
      "\u001b[34mNumber of validation examples: 8000\u001b[0m\n",
      "\n",
      "2023-03-20 02:34:22 Uploading - Uploading generated training model\n",
      "2023-03-20 02:36:38 Completed - Training job completed\n",
      "Training seconds: 197\n",
      "Billable seconds: 197\n"
     ]
    }
   ],
   "source": [
    "# Train the model\n",
    "\n",
    "bt_model.fit(inputs=data_channels, logs=True)"
   ]
  },
  {
   "cell_type": "markdown",
   "id": "d76ede6a-2050-4431-b3fb-5088b0cd29c8",
   "metadata": {},
   "source": [
    "## Deployment\n",
    "\n",
    "As of right now, the user can test reviews and sentences that they can input and see the predicted emotion related to it. The final deployed application will consist of a web-based user interface that allows Queen Street Fitness to input the URLs of local competition gym websites and output an emotion categorization of their reviews. The interface will be user friendly and simple, with a text box for entering the URL and a button to submit and start the analysis.\n",
    "\n",
    "Once the URL is submitted the application will retrieve the reviews from the website and begin emotion detection using the model I created. The model will categorize all the reviews into different sections based on emotions. The results will be displayed on the interface, showing the percentage of reviews categorized into each emotion section. The user can then analyze the results to see and gain insights into the emotions associated with the local gym's reviews."
   ]
  },
  {
   "cell_type": "code",
   "execution_count": 146,
   "id": "bbdbc8bd-77c0-4c38-b488-852308543b3e",
   "metadata": {
    "tags": []
   },
   "outputs": [
    {
     "data": {
      "text/plain": [
       "'s3://sagemaker-us-east-1-006789315315/twitter_emotions/output/blazingtext-2023-03-20-02-32-11-155/output/model.tar.gz'"
      ]
     },
     "execution_count": 146,
     "metadata": {},
     "output_type": "execute_result"
    }
   ],
   "source": [
    "# Retrieve model data from training job\n",
    "\n",
    "training_job_model_data = bt_model.model_data\n",
    "training_job_model_data"
   ]
  },
  {
   "cell_type": "code",
   "execution_count": 147,
   "id": "04454692-7737-49ee-a353-89e178a119f4",
   "metadata": {
    "tags": []
   },
   "outputs": [
    {
     "name": "stdout",
     "output_type": "stream",
     "text": [
      "Model name is emotion-bt-model2023-03-20-02-37-11\n"
     ]
    }
   ],
   "source": [
    "# Create a unique model name so it won't overwrite ones taht are already there using date and time\n",
    "deployed_BlazingText_model_name = \"emotions-bt-model\" + strftime(\"%Y-%m-%d-%H-%M-%S\", gmtime())\n",
    "print(\"Model name is \" + deployed_BlazingText_model_name)"
   ]
  },
  {
   "cell_type": "code",
   "execution_count": 148,
   "id": "eec75a69-77f1-4990-a879-bdc82cdcad0d",
   "metadata": {
    "tags": []
   },
   "outputs": [
    {
     "name": "stdout",
     "output_type": "stream",
     "text": [
      "Model Arn: arn:aws:sagemaker:us-east-1:006789315315:model/emotion-bt-model2023-03-20-02-37-11\n"
     ]
    }
   ],
   "source": [
    "# Container Definition https://docs.aws.amazon.com/sagemaker/latest/APIReference/API_ContainerDefinition.html\n",
    "\n",
    "client = boto3.client(service_name=\"sagemaker\")\n",
    "\n",
    "create_model_response = client.create_model(\n",
    "    ModelName=deployed_BlazingText_model_name,\n",
    "    Containers=[\n",
    "        {\n",
    "            \"Image\": container, # use the same container defined in the estimator\n",
    "            \"ModelDataUrl\": training_job_model_data\n",
    "        }\n",
    "    ],\n",
    "    ExecutionRoleArn=role,\n",
    ")\n",
    "\n",
    "print(\"Model Arn: \" + create_model_response[\"ModelArn\"])"
   ]
  },
  {
   "cell_type": "code",
   "execution_count": 149,
   "id": "f8e83916-3ac6-4dc7-8b08-e6c36547be85",
   "metadata": {
    "tags": []
   },
   "outputs": [
    {
     "name": "stdout",
     "output_type": "stream",
     "text": [
      "Endpoint Configuration Arn: arn:aws:sagemaker:us-east-1:006789315315:endpoint-config/blazingtext-serverless-epc2023-03-20-02-37-14\n"
     ]
    }
   ],
   "source": [
    "twitter_epc_name = \"blazingtext-serverless-epc\" + strftime(\"%Y-%m-%d-%H-%M-%S\", gmtime())\n",
    "\n",
    "endpoint_config_response = client.create_endpoint_config(\n",
    "    EndpointConfigName=twitter_epc_name,\n",
    "    ProductionVariants=[\n",
    "        {\n",
    "            \"VariantName\": \"btVariant\",\n",
    "            \"ModelName\": deployed_BlazingText_model_name,\n",
    "            \"ServerlessConfig\": {\n",
    "                \"MemorySizeInMB\": 4096,\n",
    "                \"MaxConcurrency\": 1,\n",
    "            },\n",
    "        },\n",
    "    ],\n",
    ")\n",
    "\n",
    "print(\"Endpoint Configuration Arn: \" + endpoint_config_response[\"EndpointConfigArn\"])"
   ]
  },
  {
   "cell_type": "code",
   "execution_count": 150,
   "id": "0e699c1d-faa6-4d13-aae5-a638f39a332b",
   "metadata": {
    "tags": []
   },
   "outputs": [
    {
     "name": "stdout",
     "output_type": "stream",
     "text": [
      "Endpoint Arn: arn:aws:sagemaker:us-east-1:006789315315:endpoint/emotions-serverless-ep2023-03-20-02-37-16\n"
     ]
    }
   ],
   "source": [
    "twitter_ep_name = \"emotions-serverless-ep\" + strftime(\"%Y-%m-%d-%H-%M-%S\", gmtime())\n",
    "\n",
    "create_endpoint_response = client.create_endpoint(\n",
    "    EndpointName=twitter_ep_name,\n",
    "    EndpointConfigName=twitter_epc_name,\n",
    ")\n",
    "\n",
    "print(\"Endpoint Arn: \" + create_endpoint_response[\"EndpointArn\"])"
   ]
  },
  {
   "cell_type": "code",
   "execution_count": 151,
   "id": "f10f7bc6-c343-4f85-84e9-f654ac4a62ac",
   "metadata": {
    "tags": []
   },
   "outputs": [
    {
     "name": "stdout",
     "output_type": "stream",
     "text": [
      "Creating\n",
      "Creating\n",
      "Creating\n",
      "Creating\n",
      "Creating\n",
      "Creating\n",
      "Creating\n",
      "Creating\n",
      "InService\n"
     ]
    },
    {
     "data": {
      "text/plain": [
       "{'EndpointName': 'emotions-serverless-ep2023-03-20-02-37-16',\n",
       " 'EndpointArn': 'arn:aws:sagemaker:us-east-1:006789315315:endpoint/emotions-serverless-ep2023-03-20-02-37-16',\n",
       " 'EndpointConfigName': 'blazingtext-serverless-epc2023-03-20-02-37-14',\n",
       " 'ProductionVariants': [{'VariantName': 'btVariant',\n",
       "   'DeployedImages': [{'SpecifiedImage': '811284229777.dkr.ecr.us-east-1.amazonaws.com/blazingtext:1',\n",
       "     'ResolvedImage': '811284229777.dkr.ecr.us-east-1.amazonaws.com/blazingtext@sha256:f4a2d23762e88d6b992495a9a6384fd64f819fcbc2e143d8af222637ed6822ff',\n",
       "     'ResolutionTime': datetime.datetime(2023, 3, 20, 2, 37, 16, 850000, tzinfo=tzlocal())}],\n",
       "   'CurrentWeight': 1.0,\n",
       "   'DesiredWeight': 1.0,\n",
       "   'CurrentInstanceCount': 0,\n",
       "   'CurrentServerlessConfig': {'MemorySizeInMB': 4096, 'MaxConcurrency': 1}}],\n",
       " 'EndpointStatus': 'InService',\n",
       " 'CreationTime': datetime.datetime(2023, 3, 20, 2, 37, 16, 335000, tzinfo=tzlocal()),\n",
       " 'LastModifiedTime': datetime.datetime(2023, 3, 20, 2, 39, 4, 796000, tzinfo=tzlocal()),\n",
       " 'ResponseMetadata': {'RequestId': '86b80cbf-85ac-46d3-a9a4-a4870f8f8088',\n",
       "  'HTTPStatusCode': 200,\n",
       "  'HTTPHeaders': {'x-amzn-requestid': '86b80cbf-85ac-46d3-a9a4-a4870f8f8088',\n",
       "   'content-type': 'application/x-amz-json-1.1',\n",
       "   'content-length': '798',\n",
       "   'date': 'Mon, 20 Mar 2023 02:39:18 GMT'},\n",
       "  'RetryAttempts': 0}}"
      ]
     },
     "execution_count": 151,
     "metadata": {},
     "output_type": "execute_result"
    }
   ],
   "source": [
    "# wait for endpoint to reach a terminal state (InService) using describe endpoint\n",
    "\n",
    "import time\n",
    "\n",
    "describe_endpoint_response = client.describe_endpoint(EndpointName=twitter_ep_name)\n",
    "\n",
    "while describe_endpoint_response[\"EndpointStatus\"] == \"Creating\":\n",
    "    describe_endpoint_response = client.describe_endpoint(EndpointName=twitter_ep_name)\n",
    "    print(describe_endpoint_response[\"EndpointStatus\"])\n",
    "    time.sleep(15)\n",
    "\n",
    "describe_endpoint_response"
   ]
  },
  {
   "cell_type": "code",
   "execution_count": 152,
   "id": "54573de2-0c91-4fad-abea-7c21e951718b",
   "metadata": {
    "tags": []
   },
   "outputs": [],
   "source": [
    "# First sentence Label 0\n",
    "# Second Sentence Label 2\n",
    "\n",
    "sentences = [\"Going to a funeral today... not a good day\",\n",
    "             \"Wow! I just went to the casino and won tons of money woohoo\"]        "
   ]
  },
  {
   "cell_type": "code",
   "execution_count": 153,
   "id": "fd3f17cd-8caa-4d68-9e80-509604f8df6c",
   "metadata": {
    "tags": []
   },
   "outputs": [
    {
     "name": "stderr",
     "output_type": "stream",
     "text": [
      "INFO:botocore.credentials:Found credentials from IAM Role: BaseNotebookInstanceEc2InstanceRole\n"
     ]
    },
    {
     "name": "stdout",
     "output_type": "stream",
     "text": [
      "[{'label': ['__label__5.0'], 'prob': [0.1461552530527115]}, {'label': ['__label__8.0'], 'prob': [0.212656170129776]}]\n"
     ]
    }
   ],
   "source": [
    "runtime = boto3.Session().client('sagemaker-runtime')\n",
    "\n",
    "payload = {\"instances\": sentences}\n",
    "\n",
    "response = runtime.invoke_endpoint(\n",
    "    EndpointName=twitter_ep_name,\n",
    "    Body=json.dumps(payload),\n",
    "    ContentType=\"application/json\",\n",
    ")\n",
    "\n",
    "output = json.loads(response['Body'].read().decode('utf-8'))\n",
    "\n",
    "print(output)"
   ]
  },
  {
   "cell_type": "markdown",
   "id": "6b7f6ec5-9b8f-4aba-8ee8-79fff49a9d85",
   "metadata": {},
   "source": [
    "### Cleanup the data"
   ]
  },
  {
   "cell_type": "code",
   "execution_count": 154,
   "id": "da124ef3-33e6-4f1e-b681-4f7431c5f6b7",
   "metadata": {
    "tags": []
   },
   "outputs": [
    {
     "data": {
      "text/plain": [
       "['going funeral today good day', 'wow went casino ton money woohoo']"
      ]
     },
     "execution_count": 154,
     "metadata": {},
     "output_type": "execute_result"
    }
   ],
   "source": [
    "# Convert List to Dataframe\n",
    "\n",
    "emotion_tweets = pd.DataFrame(sentences)\n",
    "emotion_tweets.columns = ['text']\n",
    "emotion_tweets = emotion_tweets.astype('string') #Make senteces lowercase\n",
    "\n",
    "# Transform the sentences as we did with teh training data\n",
    "\n",
    "emotion_tweets['text'] = emotion_tweets['text'].str.lower() # Make senteces lowercase\n",
    "\n",
    "emotion_tweets['text'] = emotion_tweets['text'].apply(lambda x : re.sub('http://\\S+|https://\\S+', '', x)) # Remove URLs\n",
    "\n",
    "emotion_tweets['text'] = emotion_tweets['text'].apply(lambda x : x.strip()) # Remove white space at the beginign and end\n",
    "\n",
    "emotion_tweets['text'] = emotion_tweets['text'].apply(lambda x: x.translate (str.maketrans('', '', string.punctuation))) # Remove punctuation\n",
    "\n",
    "emotion_tweets['text'] = emotion_tweets['text'].apply(word_tokenize) # Tokenize the sentences\n",
    "\n",
    "emotion_tweets['text'] = emotion_tweets['text'].apply(lambda x: [word for word in x if word not in (stop_words)]) # Remove the stopwords\n",
    "\n",
    "emotion_tweets['text'] = emotion_tweets['text'].apply(lambda x: [word_lemmatizer.lemmatize(word) for word in x])\n",
    "\n",
    "emotion_tweets['text'] = emotion_tweets['text'].apply(lambda x: ' '.join(x))\n",
    "\n",
    "new_sentences = emotion_tweets['text'].values.tolist()\n",
    "\n",
    "new_sentences"
   ]
  },
  {
   "cell_type": "code",
   "execution_count": 155,
   "id": "ef0eef04-e555-4281-af7d-dca2371036a9",
   "metadata": {
    "tags": []
   },
   "outputs": [
    {
     "name": "stdout",
     "output_type": "stream",
     "text": [
      "[{'label': ['__label__12.0'], 'prob': [0.23335981369018555]}, {'label': ['__label__5.0'], 'prob': [0.3076927363872528]}]\n"
     ]
    }
   ],
   "source": [
    "payload = {\"instances\": new_sentences}\n",
    "\n",
    "response = runtime.invoke_endpoint(\n",
    "    EndpointName=twitter_ep_name,\n",
    "    Body=json.dumps(payload),\n",
    "    ContentType=\"application/json\",\n",
    ")\n",
    "\n",
    "output = json.loads(response['Body'].read().decode('utf-8'))\n",
    "\n",
    "print(output)"
   ]
  },
  {
   "cell_type": "code",
   "execution_count": 143,
   "id": "9ef08d8a-f737-43a2-a46d-7686d2abf012",
   "metadata": {},
   "outputs": [
    {
     "ename": "ClientError",
     "evalue": "An error occurred (ValidationException) when calling the DeleteModel operation: Could not find model \"arn:aws:sagemaker:us-east-1:006789315315:model/emotion-bt-model2023-03-20-02-30-23\".",
     "output_type": "error",
     "traceback": [
      "\u001b[0;31m---------------------------------------------------------------------------\u001b[0m",
      "\u001b[0;31mClientError\u001b[0m                               Traceback (most recent call last)",
      "Cell \u001b[0;32mIn[143], line 3\u001b[0m\n\u001b[1;32m      1\u001b[0m \u001b[38;5;66;03m# Delete the endpoint\u001b[39;00m\n\u001b[0;32m----> 3\u001b[0m \u001b[43mclient\u001b[49m\u001b[38;5;241;43m.\u001b[39;49m\u001b[43mdelete_model\u001b[49m\u001b[43m(\u001b[49m\u001b[43mModelName\u001b[49m\u001b[38;5;241;43m=\u001b[39;49m\u001b[43mdeployed_BlazingText_model_name\u001b[49m\u001b[43m)\u001b[49m\n\u001b[1;32m      4\u001b[0m client\u001b[38;5;241m.\u001b[39mdelete_endpoint_config(EndpointConfigName\u001b[38;5;241m=\u001b[39mtwitter_epc_name)\n\u001b[1;32m      5\u001b[0m client\u001b[38;5;241m.\u001b[39mdelete_endpoint(EndpointName\u001b[38;5;241m=\u001b[39mtwitter_ep_name)\n",
      "File \u001b[0;32m~/anaconda3/envs/python3/lib/python3.10/site-packages/botocore/client.py:530\u001b[0m, in \u001b[0;36mClientCreator._create_api_method.<locals>._api_call\u001b[0;34m(self, *args, **kwargs)\u001b[0m\n\u001b[1;32m    526\u001b[0m     \u001b[38;5;28;01mraise\u001b[39;00m \u001b[38;5;167;01mTypeError\u001b[39;00m(\n\u001b[1;32m    527\u001b[0m         \u001b[38;5;124mf\u001b[39m\u001b[38;5;124m\"\u001b[39m\u001b[38;5;132;01m{\u001b[39;00mpy_operation_name\u001b[38;5;132;01m}\u001b[39;00m\u001b[38;5;124m() only accepts keyword arguments.\u001b[39m\u001b[38;5;124m\"\u001b[39m\n\u001b[1;32m    528\u001b[0m     )\n\u001b[1;32m    529\u001b[0m \u001b[38;5;66;03m# The \"self\" in this scope is referring to the BaseClient.\u001b[39;00m\n\u001b[0;32m--> 530\u001b[0m \u001b[38;5;28;01mreturn\u001b[39;00m \u001b[38;5;28;43mself\u001b[39;49m\u001b[38;5;241;43m.\u001b[39;49m\u001b[43m_make_api_call\u001b[49m\u001b[43m(\u001b[49m\u001b[43moperation_name\u001b[49m\u001b[43m,\u001b[49m\u001b[43m \u001b[49m\u001b[43mkwargs\u001b[49m\u001b[43m)\u001b[49m\n",
      "File \u001b[0;32m~/anaconda3/envs/python3/lib/python3.10/site-packages/botocore/client.py:960\u001b[0m, in \u001b[0;36mBaseClient._make_api_call\u001b[0;34m(self, operation_name, api_params)\u001b[0m\n\u001b[1;32m    958\u001b[0m     error_code \u001b[38;5;241m=\u001b[39m parsed_response\u001b[38;5;241m.\u001b[39mget(\u001b[38;5;124m\"\u001b[39m\u001b[38;5;124mError\u001b[39m\u001b[38;5;124m\"\u001b[39m, {})\u001b[38;5;241m.\u001b[39mget(\u001b[38;5;124m\"\u001b[39m\u001b[38;5;124mCode\u001b[39m\u001b[38;5;124m\"\u001b[39m)\n\u001b[1;32m    959\u001b[0m     error_class \u001b[38;5;241m=\u001b[39m \u001b[38;5;28mself\u001b[39m\u001b[38;5;241m.\u001b[39mexceptions\u001b[38;5;241m.\u001b[39mfrom_code(error_code)\n\u001b[0;32m--> 960\u001b[0m     \u001b[38;5;28;01mraise\u001b[39;00m error_class(parsed_response, operation_name)\n\u001b[1;32m    961\u001b[0m \u001b[38;5;28;01melse\u001b[39;00m:\n\u001b[1;32m    962\u001b[0m     \u001b[38;5;28;01mreturn\u001b[39;00m parsed_response\n",
      "\u001b[0;31mClientError\u001b[0m: An error occurred (ValidationException) when calling the DeleteModel operation: Could not find model \"arn:aws:sagemaker:us-east-1:006789315315:model/emotion-bt-model2023-03-20-02-30-23\"."
     ]
    }
   ],
   "source": [
    "# Delete the endpoint\n",
    "\n",
    "client.delete_model(ModelName=deployed_BlazingText_model_name)\n",
    "client.delete_endpoint_config(EndpointConfigName=twitter_epc_name)\n",
    "client.delete_endpoint(EndpointName=twitter_ep_name)"
   ]
  }
 ],
 "metadata": {
  "kernelspec": {
   "display_name": "conda_python3",
   "language": "python",
   "name": "conda_python3"
  },
  "language_info": {
   "codemirror_mode": {
    "name": "ipython",
    "version": 3
   },
   "file_extension": ".py",
   "mimetype": "text/x-python",
   "name": "python",
   "nbconvert_exporter": "python",
   "pygments_lexer": "ipython3",
   "version": "3.10.8"
  }
 },
 "nbformat": 4,
 "nbformat_minor": 5
}
